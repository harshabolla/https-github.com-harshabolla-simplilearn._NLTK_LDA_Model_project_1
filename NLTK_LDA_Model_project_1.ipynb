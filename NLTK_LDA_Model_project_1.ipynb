{
 "cells": [
  {
   "cell_type": "markdown",
   "metadata": {},
   "source": [
    "#                                          PROJECT -1 by Harsha Teja Bolla\n",
    "\n",
    "\n"
   ]
  },
  {
   "cell_type": "markdown",
   "metadata": {},
   "source": [
    "\n",
    "\n",
    "Topic Analysis of Review Data\n",
    "Project 1 \n",
    "\n",
    "DESCRIPTION\n",
    "\n",
    "Help a leading mobile brand understand the voice of the customer by analyzing the reviews of their product on Amazon and the topics that customers are talking about. You will perform topic modeling on specific parts of speech. You’ll finally interpret the emerging topics.\n",
    "\n",
    "Problem Statement: \n",
    "\n",
    "A popular mobile phone brand, Lenovo has launched their budget smartphone in the Indian market. The client wants to understand the VOC (voice of the customer) on the product. This will be useful to not just evaluate the current product, but to also get some direction for developing the product pipeline. The client is particularly interested in the different aspects that customers care about. Product reviews by customers on a leading e-commerce site should provide a good view.\n",
    "\n",
    "Domain: Amazon reviews for a leading phone brand\n",
    "\n",
    "Analysis to be done: POS tagging, topic modeling using LDA, and topic interpretation\n",
    "\n",
    "Content: \n",
    "\n",
    "Dataset: ‘K8 Reviews v0.2.csv’\n",
    "\n",
    "Columns:\n",
    "\n",
    "Sentiment: The sentiment against the review (4,5 star reviews are positive, 1,2 are negative)\n",
    "\n",
    "Reviews: The main text of the review\n",
    "\n",
    "Steps to perform:\n",
    "\n",
    "Discover the topics in the reviews and present it to business in a consumable format. Employ techniques in syntactic processing and topic modeling.\n",
    "\n",
    "Perform specific cleanup, POS tagging, and restricting to relevant POS tags, then, perform topic modeling using LDA. Finally, give business-friendly names to the topics and make a table for business.\n",
    "\n",
    "Tasks: \n",
    "\n",
    "Read the .csv file using Pandas. Take a look at the top few records.\n",
    "\n",
    "Normalize casings for the review text and extract the text into a list for easier manipulation.\n",
    "\n",
    "Tokenize the reviews using NLTKs word_tokenize function.\n",
    "\n",
    "Perform parts-of-speech tagging on each sentence using the NLTK POS tagger.\n",
    "\n",
    "For the topic model, we should  want to include only nouns.\n",
    "\n",
    "Find out all the POS tags that correspond to nouns.\n",
    "\n",
    "Limit the data to only terms with these tags.\n",
    "\n",
    "Lemmatize. \n",
    "\n",
    "Different forms of the terms need to be treated as one.\n",
    "\n",
    "No need to provide POS tag to lemmatizer for now.\n",
    "\n",
    "Remove stopwords and punctuation (if there are any). \n",
    "\n",
    "Create a topic model using LDA on the cleaned-up data with 12 topics.\n",
    "\n",
    "Print out the top terms for each topic.\n",
    "\n",
    "What is the coherence of the model with the c_v metric?\n",
    "\n",
    "Analyze the topics through the business lens.\n",
    "\n",
    "Determine which of the topics can be combined.\n",
    "\n",
    "Create a topic model using LDA with what you think is the optimal number of topics\n",
    "\n",
    "What is the coherence of the model?\n",
    "\n",
    "The business should be able to interpret the topics.\n",
    "\n",
    "Name each of the identified topics.\n",
    "\n",
    "Create a table with the topic name and the top 10 terms in each to present to the business."
   ]
  },
  {
   "cell_type": "code",
   "execution_count": 507,
   "metadata": {},
   "outputs": [
    {
     "name": "stdout",
     "output_type": "stream",
     "text": [
      "C:\\Users\\harsha.teja\\Desktop\\myg\\NLP\\major r=project\\project 1\n"
     ]
    }
   ],
   "source": [
    "cd C:\\Users\\harsha.teja\\Desktop\\myg\\NLP\\major r=project\\project 1"
   ]
  },
  {
   "cell_type": "code",
   "execution_count": 508,
   "metadata": {},
   "outputs": [
    {
     "name": "stderr",
     "output_type": "stream",
     "text": [
      "[nltk_data] Downloading package stopwords to\n",
      "[nltk_data]     C:\\Users\\harsha.teja\\AppData\\Roaming\\nltk_data...\n",
      "[nltk_data]   Package stopwords is already up-to-date!\n",
      "[nltk_data] Downloading package punkt to\n",
      "[nltk_data]     C:\\Users\\harsha.teja\\AppData\\Roaming\\nltk_data...\n",
      "[nltk_data]   Package punkt is already up-to-date!\n"
     ]
    }
   ],
   "source": [
    "import pandas as pd\n",
    "import numpy as np\n",
    "import nltk\n",
    "\n",
    "import spacy\n",
    "#import unidecode\n",
    "#from word2number import w2n\n",
    "#import contractions\n",
    "import nltk\n",
    "import spacy\n",
    "from nltk.corpus import stopwords\n",
    "nltk.download('stopwords')\n",
    "import nltk\n",
    "from nltk.tokenize import word_tokenize\n",
    "import nltk\n",
    "nltk.download('punkt')\n",
    "import string\n",
    "import re"
   ]
  },
  {
   "cell_type": "markdown",
   "metadata": {},
   "source": [
    "Read the .csv file using Pandas. Take a look at the top few records."
   ]
  },
  {
   "cell_type": "code",
   "execution_count": 509,
   "metadata": {},
   "outputs": [],
   "source": [
    "df = pd.read_csv('K8 Reviews v0.2.csv')"
   ]
  },
  {
   "cell_type": "code",
   "execution_count": 510,
   "metadata": {},
   "outputs": [
    {
     "data": {
      "text/html": [
       "<div>\n",
       "<style scoped>\n",
       "    .dataframe tbody tr th:only-of-type {\n",
       "        vertical-align: middle;\n",
       "    }\n",
       "\n",
       "    .dataframe tbody tr th {\n",
       "        vertical-align: top;\n",
       "    }\n",
       "\n",
       "    .dataframe thead th {\n",
       "        text-align: right;\n",
       "    }\n",
       "</style>\n",
       "<table border=\"1\" class=\"dataframe\">\n",
       "  <thead>\n",
       "    <tr style=\"text-align: right;\">\n",
       "      <th></th>\n",
       "      <th>sentiment</th>\n",
       "      <th>review</th>\n",
       "    </tr>\n",
       "  </thead>\n",
       "  <tbody>\n",
       "    <tr>\n",
       "      <th>0</th>\n",
       "      <td>1</td>\n",
       "      <td>Good but need updates and improvements</td>\n",
       "    </tr>\n",
       "    <tr>\n",
       "      <th>1</th>\n",
       "      <td>0</td>\n",
       "      <td>Worst mobile i have bought ever, Battery is dr...</td>\n",
       "    </tr>\n",
       "    <tr>\n",
       "      <th>2</th>\n",
       "      <td>1</td>\n",
       "      <td>when I will get my 10% cash back.... its alrea...</td>\n",
       "    </tr>\n",
       "    <tr>\n",
       "      <th>3</th>\n",
       "      <td>1</td>\n",
       "      <td>Good</td>\n",
       "    </tr>\n",
       "    <tr>\n",
       "      <th>4</th>\n",
       "      <td>0</td>\n",
       "      <td>The worst phone everThey have changed the last...</td>\n",
       "    </tr>\n",
       "  </tbody>\n",
       "</table>\n",
       "</div>"
      ],
      "text/plain": [
       "   sentiment                                             review\n",
       "0          1             Good but need updates and improvements\n",
       "1          0  Worst mobile i have bought ever, Battery is dr...\n",
       "2          1  when I will get my 10% cash back.... its alrea...\n",
       "3          1                                               Good\n",
       "4          0  The worst phone everThey have changed the last..."
      ]
     },
     "execution_count": 510,
     "metadata": {},
     "output_type": "execute_result"
    }
   ],
   "source": [
    "df.head()"
   ]
  },
  {
   "cell_type": "markdown",
   "metadata": {},
   "source": [
    "Normalize casings for the review text and extract the text into a list for easier manipulation."
   ]
  },
  {
   "cell_type": "code",
   "execution_count": 511,
   "metadata": {},
   "outputs": [],
   "source": [
    "# Function to remove emoji.\n",
    "def emoji(string):\n",
    "    emoji_pattern = re.compile(\"[\"\n",
    "                           u\"\\U0001F600-\\U0001F64F\"  # emoticons\n",
    "                           u\"\\U0001F300-\\U0001F5FF\"  # symbols & pictographs\n",
    "                           u\"\\U0001F680-\\U0001F6FF\"  # transport & map symbols\n",
    "                           u\"\\U0001F1E0-\\U0001F1FF\"  # flags (iOS)\n",
    "                           u\"\\U00002702-\\U000027B0\"\n",
    "                           u\"\\U000024C2-\\U0001F251\"\n",
    "                           \"]+\", flags=re.UNICODE)\n",
    "    return emoji_pattern.sub(r'', string)\n",
    "emoji(\"Hi, I am Emoji  😜\")\n",
    "#passing the emoji function to 'text_rare'\n",
    "df['review'] = df['review'].apply(remove_emoji)"
   ]
  },
  {
   "cell_type": "code",
   "execution_count": 512,
   "metadata": {},
   "outputs": [],
   "source": [
    "reviews_lower = [sent.lower() for sent in df.review.values]"
   ]
  },
  {
   "cell_type": "code",
   "execution_count": 513,
   "metadata": {},
   "outputs": [
    {
     "data": {
      "text/plain": [
       "'product is good. purchased on sep-17 and got cash back on 25dec17. what a way to make fool, they called it cash back.lol'"
      ]
     },
     "execution_count": 513,
     "metadata": {},
     "output_type": "execute_result"
    }
   ],
   "source": [
    "reviews_lower[100]"
   ]
  },
  {
   "cell_type": "code",
   "execution_count": 514,
   "metadata": {},
   "outputs": [
    {
     "data": {
      "text/html": [
       "<div>\n",
       "<style scoped>\n",
       "    .dataframe tbody tr th:only-of-type {\n",
       "        vertical-align: middle;\n",
       "    }\n",
       "\n",
       "    .dataframe tbody tr th {\n",
       "        vertical-align: top;\n",
       "    }\n",
       "\n",
       "    .dataframe thead th {\n",
       "        text-align: right;\n",
       "    }\n",
       "</style>\n",
       "<table border=\"1\" class=\"dataframe\">\n",
       "  <thead>\n",
       "    <tr style=\"text-align: right;\">\n",
       "      <th></th>\n",
       "      <th>sentiment</th>\n",
       "      <th>review</th>\n",
       "    </tr>\n",
       "  </thead>\n",
       "  <tbody>\n",
       "    <tr>\n",
       "      <th>0</th>\n",
       "      <td>1</td>\n",
       "      <td>Good but need updates and improvements</td>\n",
       "    </tr>\n",
       "    <tr>\n",
       "      <th>1</th>\n",
       "      <td>0</td>\n",
       "      <td>Worst mobile i have bought ever, Battery is dr...</td>\n",
       "    </tr>\n",
       "    <tr>\n",
       "      <th>2</th>\n",
       "      <td>1</td>\n",
       "      <td>when I will get my 10% cash back.... its alrea...</td>\n",
       "    </tr>\n",
       "    <tr>\n",
       "      <th>3</th>\n",
       "      <td>1</td>\n",
       "      <td>Good</td>\n",
       "    </tr>\n",
       "    <tr>\n",
       "      <th>4</th>\n",
       "      <td>0</td>\n",
       "      <td>The worst phone everThey have changed the last...</td>\n",
       "    </tr>\n",
       "  </tbody>\n",
       "</table>\n",
       "</div>"
      ],
      "text/plain": [
       "   sentiment                                             review\n",
       "0          1             Good but need updates and improvements\n",
       "1          0  Worst mobile i have bought ever, Battery is dr...\n",
       "2          1  when I will get my 10% cash back.... its alrea...\n",
       "3          1                                               Good\n",
       "4          0  The worst phone everThey have changed the last..."
      ]
     },
     "execution_count": 514,
     "metadata": {},
     "output_type": "execute_result"
    }
   ],
   "source": [
    "df.head()\n"
   ]
  },
  {
   "cell_type": "code",
   "execution_count": 515,
   "metadata": {},
   "outputs": [],
   "source": [
    "#wordtokenzation\n",
    "reviews_token = [word_tokenize(sent) for  sent in reviews_lower ]"
   ]
  },
  {
   "cell_type": "code",
   "execution_count": 516,
   "metadata": {},
   "outputs": [
    {
     "name": "stdout",
     "output_type": "stream",
     "text": [
      "['when', 'i', 'will', 'get', 'my', '10', '%', 'cash', 'back', '....', 'its', 'already', '15', 'january', '..']\n"
     ]
    }
   ],
   "source": [
    "print(reviews_tokens[2])"
   ]
  },
  {
   "cell_type": "code",
   "execution_count": 517,
   "metadata": {},
   "outputs": [],
   "source": [
    "reviews_pos = [ nltk.pos_tag(sent) for sent in reviews_token]"
   ]
  },
  {
   "cell_type": "code",
   "execution_count": 518,
   "metadata": {},
   "outputs": [],
   "source": [
    "filter_noun = []\n",
    "for sent in reviews_pos:\n",
    "    filter_noun.append([token for token in sent if re.search('NN.',token[1])])\n",
    "    "
   ]
  },
  {
   "cell_type": "code",
   "execution_count": 519,
   "metadata": {},
   "outputs": [
    {
     "data": {
      "text/plain": [
       "[('updates', 'NNS'), ('improvements', 'NNS')]"
      ]
     },
     "execution_count": 519,
     "metadata": {},
     "output_type": "execute_result"
    }
   ],
   "source": [
    "filter_noun[0]"
   ]
  },
  {
   "cell_type": "code",
   "execution_count": 520,
   "metadata": {},
   "outputs": [],
   "source": [
    "from nltk.stem import WordNetLemmatizer"
   ]
  },
  {
   "cell_type": "code",
   "execution_count": 521,
   "metadata": {},
   "outputs": [],
   "source": [
    "lema = WordNetLemmatizer()"
   ]
  },
  {
   "cell_type": "code",
   "execution_count": 522,
   "metadata": {},
   "outputs": [],
   "source": [
    "reviews_lem =[]\n",
    "for sent in filter_noun:\n",
    "    reviews_lem.append([lema.lemmatize(word[0]) for word in sent])\n",
    "    "
   ]
  },
  {
   "cell_type": "code",
   "execution_count": 523,
   "metadata": {},
   "outputs": [
    {
     "data": {
      "text/plain": [
       "[('updates', 'NNS'), ('improvements', 'NNS')]"
      ]
     },
     "execution_count": 523,
     "metadata": {},
     "output_type": "execute_result"
    }
   ],
   "source": [
    "filter_noun[0]"
   ]
  },
  {
   "cell_type": "code",
   "execution_count": 573,
   "metadata": {},
   "outputs": [],
   "source": [
    "reviews_lem = [s for s in  reviews_lem if s]\n"
   ]
  },
  {
   "cell_type": "markdown",
   "metadata": {},
   "source": [
    "def remove_emoji(string):\n",
    "    emoji_pattern = re.compile(\"[\"\n",
    "                           u\"\\U0001F600-\\U0001F64F\"  # emoticons\n",
    "                           u\"\\U0001F300-\\U0001F5FF\"  # symbols & pictographs\n",
    "                           u\"\\U0001F680-\\U0001F6FF\"  # transport & map symbols\n",
    "                           u\"\\U0001F1E0-\\U0001F1FF\"  # flags (iOS)\n",
    "                           u\"\\U00002702-\\U000027B0\"\n",
    "                           u\"\\U000024C2-\\U0001F251\"\n",
    "                           \"]+\", flags=re.UNICODE)\n",
    "    return emoji_pattern.sub(r'', string)\n",
    "print(remove_emoji(reviews_lem))"
   ]
  },
  {
   "cell_type": "code",
   "execution_count": 527,
   "metadata": {},
   "outputs": [
    {
     "data": {
      "text/plain": [
       "<class 'list'>"
      ]
     },
     "execution_count": 527,
     "metadata": {},
     "output_type": "execute_result"
    }
   ],
   "source": [
    "type(reviews_lem)"
   ]
  },
  {
   "cell_type": "code",
   "execution_count": 529,
   "metadata": {},
   "outputs": [
    {
     "name": "stderr",
     "output_type": "stream",
     "text": [
      "[nltk_data] Downloading package stopwords to\n",
      "[nltk_data]     C:\\Users\\harsha.teja\\AppData\\Roaming\\nltk_data...\n",
      "[nltk_data]   Package stopwords is already up-to-date!\n"
     ]
    },
    {
     "data": {
      "text/plain": [
       "True"
      ]
     },
     "execution_count": 529,
     "metadata": {},
     "output_type": "execute_result"
    }
   ],
   "source": [
    "from nltk.corpus import stopwords\n",
    "from string import punctuation\n",
    "stop_nltk = stopwords.words('english')\n",
    "nltk.download('stopwords')"
   ]
  },
  {
   "cell_type": "code",
   "execution_count": 530,
   "metadata": {},
   "outputs": [
    {
     "name": "stderr",
     "output_type": "stream",
     "text": [
      "[nltk_data] Downloading package averaged_perceptron_tagger to\n",
      "[nltk_data]     C:\\Users\\harsha.teja\\AppData\\Roaming\\nltk_data...\n",
      "[nltk_data]   Package averaged_perceptron_tagger is already up-to-\n",
      "[nltk_data]       date!\n"
     ]
    },
    {
     "data": {
      "text/plain": [
       "True"
      ]
     },
     "execution_count": 530,
     "metadata": {},
     "output_type": "execute_result"
    }
   ],
   "source": [
    "import nltk\n",
    "nltk.download('averaged_perceptron_tagger')"
   ]
  },
  {
   "cell_type": "code",
   "execution_count": 531,
   "metadata": {},
   "outputs": [
    {
     "name": "stderr",
     "output_type": "stream",
     "text": [
      "[nltk_data] Downloading package punkt to\n",
      "[nltk_data]     C:\\Users\\harsha.teja\\AppData\\Roaming\\nltk_data...\n",
      "[nltk_data]   Package punkt is already up-to-date!\n"
     ]
    },
    {
     "data": {
      "text/plain": [
       "True"
      ]
     },
     "execution_count": 531,
     "metadata": {},
     "output_type": "execute_result"
    }
   ],
   "source": [
    "import nltk\n",
    "nltk.download('punkt')"
   ]
  },
  {
   "cell_type": "code",
   "execution_count": 532,
   "metadata": {},
   "outputs": [],
   "source": [
    "stop_updated = stop_nltk  + list(punctuation) + [\"....\"] + [\"..\"]+[\".....\"]+[\"......\"]\n",
    "reviews_sw_removed =[]\n",
    "for sent in reviews_lem:\n",
    "    reviews_sw_removed.append([w for w in sent if w  not in stop_updated] )"
   ]
  },
  {
   "cell_type": "code",
   "execution_count": null,
   "metadata": {},
   "outputs": [],
   "source": []
  },
  {
   "cell_type": "code",
   "execution_count": 533,
   "metadata": {},
   "outputs": [],
   "source": [
    "import gensim\n",
    "from gensim.utils import simple_preprocess\n",
    "from gensim.parsing.preprocessing import STOPWORDS\n",
    "from nltk.stem import WordNetLemmatizer, SnowballStemmer\n",
    "from nltk.stem.porter import *\n",
    "import numpy as np\n",
    "np.random.seed(2018)\n",
    "from gensim.models import CoherenceModel,ldamodel\n",
    "\n",
    "\n"
   ]
  },
  {
   "cell_type": "code",
   "execution_count": 534,
   "metadata": {},
   "outputs": [],
   "source": [
    "processed_docs = reviews_sw_removed "
   ]
  },
  {
   "cell_type": "code",
   "execution_count": 535,
   "metadata": {},
   "outputs": [],
   "source": [
    "dictionary = gensim.corpora.Dictionary(processed_docs)"
   ]
  },
  {
   "cell_type": "code",
   "execution_count": 536,
   "metadata": {},
   "outputs": [
    {
     "name": "stdout",
     "output_type": "stream",
     "text": [
      "0 improvement\n",
      "1 update\n",
      "2 hour\n",
      "3 us\n",
      "4 k8\n",
      "5 problem\n",
      "6 year\n",
      "7 glitch\n",
      "8 option\n",
      "9 month\n",
      "10 solution\n"
     ]
    }
   ],
   "source": [
    "count =0\n",
    "for k,v in dictionary.iteritems():\n",
    "    print(k,v)\n",
    "    count+=1\n",
    "    if count >10:\n",
    "        break"
   ]
  },
  {
   "cell_type": "code",
   "execution_count": 537,
   "metadata": {},
   "outputs": [],
   "source": [
    "dictionary.filter_extremes(no_below=15, no_above=0.5, keep_n=100000)"
   ]
  },
  {
   "cell_type": "code",
   "execution_count": 538,
   "metadata": {},
   "outputs": [],
   "source": [
    "bow_corpus = [dictionary.doc2bow(doc) for doc in processed_docs]"
   ]
  },
  {
   "cell_type": "code",
   "execution_count": 539,
   "metadata": {},
   "outputs": [
    {
     "data": {
      "text/plain": [
       "['mi']"
      ]
     },
     "execution_count": 539,
     "metadata": {},
     "output_type": "execute_result"
    }
   ],
   "source": [
    "processed_docs[1000]"
   ]
  },
  {
   "cell_type": "code",
   "execution_count": 540,
   "metadata": {},
   "outputs": [],
   "source": [
    "lda_model = gensim.models.ldamodel.LdaModel(bow_corpus, \n",
    "                                            num_topics=12,\n",
    "                                            id2word=dictionary,\n",
    "                                            random_state =55,\n",
    "                                           per_word_topics = True)"
   ]
  },
  {
   "cell_type": "code",
   "execution_count": 541,
   "metadata": {},
   "outputs": [],
   "source": [
    "import pprint"
   ]
  },
  {
   "cell_type": "code",
   "execution_count": 542,
   "metadata": {},
   "outputs": [
    {
     "name": "stdout",
     "output_type": "stream",
     "text": [
      "[(0, '0.184*\"thing\" + 0.095*\"week\" + 0.092*\"star\" + 0.082*\"issue\" + 0.066*\"result\" + 0.053*\"atmos\" + 0.049*\"edge\" + 0.037*\"phone\" + 0.035*\"song\" + 0.032*\"game\"'), (1, '0.363*\"problem\" + 0.084*\"feature\" + 0.075*\"contact\" + 0.074*\"device\" + 0.065*\"customer\" + 0.046*\"phone\" + 0.034*\"movie\" + 0.029*\"button\" + 0.027*\"item\" + 0.024*\"day\"'), (2, '0.191*\"data\" + 0.111*\"minute\" + 0.100*\"lot\" + 0.097*\"hour\" + 0.090*\"min\" + 0.087*\"heat\" + 0.065*\"day\" + 0.047*\"slot\" + 0.028*\"update\" + 0.017*\"bug\"'), (3, '0.149*\"game\" + 0.096*\"bug\" + 0.086*\"image\" + 0.072*\"setting\" + 0.063*\"look\" + 0.054*\"detail\" + 0.046*\"word\" + 0.042*\"brand\" + 0.039*\"accessory\" + 0.033*\"u\"'), (4, '0.484*\"day\" + 0.108*\"people\" + 0.075*\"photo\" + 0.041*\"data\" + 0.034*\"term\" + 0.033*\"others\" + 0.029*\"sims\" + 0.017*\"buyer\" + 0.015*\"speaker\" + 0.015*\"application\"'), (5, '0.395*\"issue\" + 0.098*\"option\" + 0.089*\"update\" + 0.074*\"call\" + 0.064*\"camera\" + 0.045*\"review\" + 0.040*\"video\" + 0.016*\"data\" + 0.015*\"feature\" + 0.014*\"effect\"'), (6, '0.212*\"time\" + 0.177*\"thanks\" + 0.127*\"expectation\" + 0.113*\"product\" + 0.062*\"work\" + 0.060*\"pic\" + 0.036*\"message\" + 0.033*\"phone\" + 0.026*\"issue\" + 0.018*\"smartphones\"'), (7, '0.649*\"feature\" + 0.071*\"earphone\" + 0.051*\"hang\" + 0.025*\"model\" + 0.023*\"application\" + 0.021*\"medium\" + 0.020*\"scratch\" + 0.016*\"lag\" + 0.014*\"signal\" + 0.009*\"speaker\"'), (8, '0.307*\"phone\" + 0.090*\"mobile\" + 0.079*\"guy\" + 0.053*\"day\" + 0.049*\"min\" + 0.038*\"service\" + 0.035*\"update\" + 0.033*\"game\" + 0.027*\"need\" + 0.025*\"call\"'), (9, '0.424*\"month\" + 0.113*\"specification\" + 0.112*\"k8\" + 0.069*\"headphone\" + 0.027*\"graphic\" + 0.025*\"issue\" + 0.023*\"second\" + 0.019*\"game\" + 0.018*\"lover\" + 0.018*\"apps\"'), (10, '0.453*\"hour\" + 0.096*\"con\" + 0.065*\"picture\" + 0.043*\"charge\" + 0.041*\"key\" + 0.038*\"pls\" + 0.031*\"suck\" + 0.030*\"issue\" + 0.025*\"drain\" + 0.022*\"minute\"'), (11, '0.179*\"drain\" + 0.157*\"speaker\" + 0.093*\"issue\" + 0.085*\"day\" + 0.079*\"user\" + 0.069*\"function\" + 0.060*\"feel\" + 0.044*\"pro\" + 0.041*\"lenovo\" + 0.034*\"friend\"')]\n"
     ]
    }
   ],
   "source": [
    "print(lda_model.print_topics())"
   ]
  },
  {
   "cell_type": "code",
   "execution_count": 543,
   "metadata": {},
   "outputs": [],
   "source": [
    "cohernce_model_lda = CoherenceModel(model = lda_model,\n",
    "                     texts= reviews_sw_removed,\n",
    "                     dictionary=dictionary,\n",
    "                     coherence ='c_v')\n"
   ]
  },
  {
   "cell_type": "code",
   "execution_count": 544,
   "metadata": {
    "scrolled": true
   },
   "outputs": [
    {
     "name": "stdout",
     "output_type": "stream",
     "text": [
      "cohernce score for ldamodel is: 0.3738166309664918\n"
     ]
    }
   ],
   "source": [
    "cohernce_lda = cohernce_model_lda.get_coherence()\n",
    "print(\"cohernce score for ldamodel is:\",cohernce_lda)"
   ]
  },
  {
   "cell_type": "code",
   "execution_count": 545,
   "metadata": {},
   "outputs": [],
   "source": [
    "x = lda_model.show_topics(formatted = False)\n",
    "topics_words = [(tp[0],[wd[0] for wd in tp[1]]) for tp in x]"
   ]
  },
  {
   "cell_type": "code",
   "execution_count": 546,
   "metadata": {},
   "outputs": [
    {
     "name": "stdout",
     "output_type": "stream",
     "text": [
      "7: :['feature', 'earphone', 'hang', 'model', 'application', 'medium', 'scratch', 'lag', 'signal', 'speaker']\n",
      "11: :['drain', 'speaker', 'issue', 'day', 'user', 'function', 'feel', 'pro', 'lenovo', 'friend']\n",
      "5: :['issue', 'option', 'update', 'call', 'camera', 'review', 'video', 'data', 'feature', 'effect']\n",
      "10: :['hour', 'con', 'picture', 'charge', 'key', 'pls', 'suck', 'issue', 'drain', 'minute']\n",
      "4: :['day', 'people', 'photo', 'data', 'term', 'others', 'sims', 'buyer', 'speaker', 'application']\n",
      "0: :['thing', 'week', 'star', 'issue', 'result', 'atmos', 'edge', 'phone', 'song', 'game']\n",
      "3: :['game', 'bug', 'image', 'setting', 'look', 'detail', 'word', 'brand', 'accessory', 'u']\n",
      "8: :['phone', 'mobile', 'guy', 'day', 'min', 'service', 'update', 'game', 'need', 'call']\n",
      "9: :['month', 'specification', 'k8', 'headphone', 'graphic', 'issue', 'second', 'game', 'lover', 'apps']\n",
      "6: :['time', 'thanks', 'expectation', 'product', 'work', 'pic', 'message', 'phone', 'issue', 'smartphones']\n",
      "\n"
     ]
    }
   ],
   "source": [
    "for topic,words in topics_words:\n",
    "    print(str(topic)+ \": :\"+str(words))\n",
    "print()"
   ]
  },
  {
   "cell_type": "code",
   "execution_count": 547,
   "metadata": {},
   "outputs": [],
   "source": [
    "bow_doc_1000 = bow_corpus[1000]\n",
    "for i in range(len(bow_doc_4310)):\n",
    "    print(\"Word {} (\\\"{}\\\") appears {} time.\".format(bow_doc_4310[i][0], \n",
    "                                               dictionary[bow_doc_4310[i][0]], \n",
    "bow_doc_1000[i][1]))"
   ]
  },
  {
   "cell_type": "code",
   "execution_count": 548,
   "metadata": {},
   "outputs": [],
   "source": [
    "lda_model = gensim.models.LdaMulticore(bow_corpus, num_topics=12, id2word=dictionary, passes=2, workers=2)"
   ]
  },
  {
   "cell_type": "code",
   "execution_count": 549,
   "metadata": {},
   "outputs": [
    {
     "name": "stdout",
     "output_type": "stream",
     "text": [
      "Topic: 0 \n",
      "Words: 0.205*\"product\" + 0.075*\"setting\" + 0.074*\"service\" + 0.063*\"feature\" + 0.055*\"edge\" + 0.048*\"customer\" + 0.047*\"k8\" + 0.046*\"lag\" + 0.037*\"lenovo\" + 0.036*\"problem\"\n",
      "Topic: 1 \n",
      "Words: 0.334*\"day\" + 0.100*\"feature\" + 0.045*\"bug\" + 0.044*\"heat\" + 0.043*\"time\" + 0.030*\"work\" + 0.028*\"apps\" + 0.026*\"slot\" + 0.025*\"update\" + 0.017*\"message\"\n",
      "Topic: 2 \n",
      "Words: 0.359*\"hour\" + 0.125*\"day\" + 0.076*\"phone\" + 0.035*\"pls\" + 0.027*\"application\" + 0.027*\"second\" + 0.020*\"people\" + 0.020*\"data\" + 0.018*\"complaint\" + 0.016*\"key\"\n",
      "Topic: 3 \n",
      "Words: 0.372*\"issue\" + 0.092*\"hour\" + 0.090*\"feature\" + 0.062*\"thing\" + 0.043*\"day\" + 0.042*\"month\" + 0.025*\"lot\" + 0.023*\"update\" + 0.016*\"pro\" + 0.015*\"phone\"\n",
      "Topic: 4 \n",
      "Words: 0.149*\"minute\" + 0.115*\"specification\" + 0.091*\"expectation\" + 0.078*\"headphone\" + 0.065*\"week\" + 0.047*\"look\" + 0.042*\"phone\" + 0.039*\"detail\" + 0.033*\"problem\" + 0.033*\"hour\"\n",
      "Topic: 5 \n",
      "Words: 0.161*\"data\" + 0.081*\"people\" + 0.068*\"hang\" + 0.059*\"star\" + 0.052*\"charge\" + 0.049*\"review\" + 0.046*\"sims\" + 0.045*\"picture\" + 0.033*\"game\" + 0.029*\"u\"\n",
      "Topic: 6 \n",
      "Words: 0.212*\"time\" + 0.147*\"call\" + 0.109*\"con\" + 0.084*\"issue\" + 0.036*\"function\" + 0.031*\"mobile\" + 0.031*\"data\" + 0.029*\"month\" + 0.028*\"problem\" + 0.025*\"game\"\n",
      "Topic: 7 \n",
      "Words: 0.532*\"feature\" + 0.131*\"phone\" + 0.077*\"camera\" + 0.022*\"atmos\" + 0.022*\"scratch\" + 0.017*\"button\" + 0.016*\"problem\" + 0.015*\"specification\" + 0.015*\"movie\" + 0.010*\"customer\"\n",
      "Topic: 8 \n",
      "Words: 0.152*\"drain\" + 0.143*\"option\" + 0.089*\"speaker\" + 0.084*\"photo\" + 0.079*\"guy\" + 0.049*\"others\" + 0.040*\"medium\" + 0.032*\"result\" + 0.030*\"word\" + 0.026*\"feature\"\n",
      "Topic: 9 \n",
      "Words: 0.281*\"month\" + 0.106*\"update\" + 0.073*\"earphone\" + 0.054*\"phone\" + 0.045*\"speaker\" + 0.044*\"mobile\" + 0.038*\"term\" + 0.038*\"feel\" + 0.035*\"contact\" + 0.034*\"feature\"\n",
      "Topic: 10 \n",
      "Words: 0.209*\"problem\" + 0.114*\"game\" + 0.100*\"issue\" + 0.074*\"k8\" + 0.054*\"device\" + 0.051*\"hour\" + 0.040*\"video\" + 0.034*\"user\" + 0.024*\"lover\" + 0.023*\"key\"\n",
      "Topic: 11 \n",
      "Words: 0.279*\"thanks\" + 0.163*\"min\" + 0.103*\"image\" + 0.084*\"pic\" + 0.050*\"accessory\" + 0.044*\"suck\" + 0.037*\"friend\" + 0.026*\"game\" + 0.024*\"lot\" + 0.022*\"problem\"\n"
     ]
    }
   ],
   "source": [
    "for idx, topic in lda_model.print_topics(-1):\n",
    "    print('Topic: {} \\nWords: {}'.format(idx, topic))"
   ]
  },
  {
   "cell_type": "code",
   "execution_count": null,
   "metadata": {},
   "outputs": [],
   "source": []
  },
  {
   "cell_type": "code",
   "execution_count": null,
   "metadata": {},
   "outputs": [],
   "source": []
  },
  {
   "cell_type": "code",
   "execution_count": null,
   "metadata": {},
   "outputs": [],
   "source": []
  },
  {
   "cell_type": "code",
   "execution_count": 550,
   "metadata": {},
   "outputs": [],
   "source": [
    "#another method"
   ]
  },
  {
   "cell_type": "code",
   "execution_count": 551,
   "metadata": {},
   "outputs": [],
   "source": [
    "df1 = df"
   ]
  },
  {
   "cell_type": "code",
   "execution_count": 552,
   "metadata": {},
   "outputs": [
    {
     "data": {
      "text/html": [
       "<div>\n",
       "<style scoped>\n",
       "    .dataframe tbody tr th:only-of-type {\n",
       "        vertical-align: middle;\n",
       "    }\n",
       "\n",
       "    .dataframe tbody tr th {\n",
       "        vertical-align: top;\n",
       "    }\n",
       "\n",
       "    .dataframe thead th {\n",
       "        text-align: right;\n",
       "    }\n",
       "</style>\n",
       "<table border=\"1\" class=\"dataframe\">\n",
       "  <thead>\n",
       "    <tr style=\"text-align: right;\">\n",
       "      <th></th>\n",
       "      <th>sentiment</th>\n",
       "      <th>review</th>\n",
       "    </tr>\n",
       "  </thead>\n",
       "  <tbody>\n",
       "    <tr>\n",
       "      <th>0</th>\n",
       "      <td>1</td>\n",
       "      <td>Good but need updates and improvements</td>\n",
       "    </tr>\n",
       "    <tr>\n",
       "      <th>1</th>\n",
       "      <td>0</td>\n",
       "      <td>Worst mobile i have bought ever, Battery is dr...</td>\n",
       "    </tr>\n",
       "    <tr>\n",
       "      <th>2</th>\n",
       "      <td>1</td>\n",
       "      <td>when I will get my 10% cash back.... its alrea...</td>\n",
       "    </tr>\n",
       "    <tr>\n",
       "      <th>3</th>\n",
       "      <td>1</td>\n",
       "      <td>Good</td>\n",
       "    </tr>\n",
       "    <tr>\n",
       "      <th>4</th>\n",
       "      <td>0</td>\n",
       "      <td>The worst phone everThey have changed the last...</td>\n",
       "    </tr>\n",
       "  </tbody>\n",
       "</table>\n",
       "</div>"
      ],
      "text/plain": [
       "   sentiment                                             review\n",
       "0          1             Good but need updates and improvements\n",
       "1          0  Worst mobile i have bought ever, Battery is dr...\n",
       "2          1  when I will get my 10% cash back.... its alrea...\n",
       "3          1                                               Good\n",
       "4          0  The worst phone everThey have changed the last..."
      ]
     },
     "execution_count": 552,
     "metadata": {},
     "output_type": "execute_result"
    }
   ],
   "source": [
    "df1.head()"
   ]
  },
  {
   "cell_type": "code",
   "execution_count": 553,
   "metadata": {},
   "outputs": [],
   "source": [
    "from sklearn.feature_extraction.text import CountVectorizer"
   ]
  },
  {
   "cell_type": "code",
   "execution_count": 554,
   "metadata": {},
   "outputs": [],
   "source": [
    "cv = CountVectorizer( \n",
    "                   stop_words='english', token_pattern='(?u)\\\\b\\\\w\\\\w+\\\\b', \n",
    "                     ngram_range=(2, 2), analyzer='word', max_df=2.0, \n",
    "                     min_df=2, max_features=None, \n",
    "                     vocabulary=None, \n",
    "                     binary=False)"
   ]
  },
  {
   "cell_type": "code",
   "execution_count": 555,
   "metadata": {},
   "outputs": [],
   "source": [
    "X = cv.fit_transform(df1['review'])"
   ]
  },
  {
   "cell_type": "code",
   "execution_count": 556,
   "metadata": {},
   "outputs": [],
   "source": [
    "from sklearn.decomposition import LatentDirichletAllocation"
   ]
  },
  {
   "cell_type": "code",
   "execution_count": 557,
   "metadata": {},
   "outputs": [],
   "source": [
    "lda1 = LatentDirichletAllocation(n_components =12,random_state=7)"
   ]
  },
  {
   "cell_type": "code",
   "execution_count": 558,
   "metadata": {},
   "outputs": [
    {
     "data": {
      "text/plain": [
       "LatentDirichletAllocation(n_components=12, random_state=7)"
      ]
     },
     "execution_count": 558,
     "metadata": {},
     "output_type": "execute_result"
    }
   ],
   "source": [
    "lda1.fit(X)"
   ]
  },
  {
   "cell_type": "code",
   "execution_count": 559,
   "metadata": {},
   "outputs": [
    {
     "data": {
      "text/plain": [
       "14678"
      ]
     },
     "execution_count": 559,
     "metadata": {},
     "output_type": "execute_result"
    }
   ],
   "source": [
    "len(cv.get_feature_names())"
   ]
  },
  {
   "cell_type": "code",
   "execution_count": 560,
   "metadata": {},
   "outputs": [
    {
     "data": {
      "text/plain": [
       "['000mah battery', '04 2018', '08 2017', '09 17', '09 2017', '10 10', '10 100', '10 12', '10 13', '10 15', '10 17', '10 1hour', '10 20', '10 2017', '10 999', '10 battery', '10 cash', '10 charging', '10 core', '10 cores', '10 days', '10 hours', '10 hr', '10 hrs', '10 min', '10 mins', '10 minutes', '10 months', '10 times', '100 10', '100 30', '100 battery', '100 camera', '100 charge', '100 charging', '100 half', '100 hour', '100 hours', '100 hrs', '100 months', '100 morning', '100 percent', '100 percentage', '100 phone', '100 switch', '100 switched', '100 takes', '100 think', '100 times', '100 turbo', '100 volume', '100 worth', '1000 discount', '1000 rs', '10000 max', '10core processor', '10gaming 10', '10k amazon', '10mins charge', '11 999', '11 days', '11 months', '12 000', '12 13', '12 14', '12 15', '12 999', '12 days', '12 hours', '12 hrs', '12 sensors', '13 5mp', '13 999', '13 days', '13 flash', '13 maga', '13 mega', '13 megapixel', '13 mp', '13 rear', '13999 don', '13999 price', '13999 rs', '13999 worth', '13mp camera', '13mp good', '13mp secondary', '13mp selfie', '14 09', '14 15', '14 2018', '14 hours', '14 hrs', '14000 rs', '14k bucks', '14k mobile', '14k phone', '14k price', '15 100', '15 20', '15 2018', '15 battery', '15 days', '15 goes', '15 hours', '15 hrs', '15 min', '15 mins', '15 minute', '15 minutes', '15 seconds', '15 watt', '1500 2000', '15000 price', '15k price', '15w charger', '15w turbo', '16 hours', '17 days', '17 got', '18 august', '18 hours', '18 oct', '18th august', '1hour battery', '1st day', '1st impression', '1st lenovo', '1st mobile', '1st time', '20 000', '20 25', '20 30', '20 battery', '20 charge', '20 days', '20 drops', '20 hours', '20 hrs', '20 min', '20 mins', '20 minutes', '20 percent', '20 updated', '20 using', '2000 extra', '2000 feeling', '2000 mah', '2000 rs', '2000mah battery', '2017 amazon', '2017 month', '2017 phone', '2017 received', '2017 today', '2017 warranty', '2017 working', '2018 checked', '2018 just', '2018 received', '20th august', '21 august', '22 aug', '24 hours', '24 hrs', '25 battery', '25 days', '25 hrs', '25 minutes', '2500 mah', '28 days', '2g 3g', '2g network', '2gb ram', '2hrs charge', '2hrs charging', '2nd camera', '2nd day', '2nd rear', '2nd sim', '30 09', '30 100', '30 20', '30 40', '30 battery', '30 days', '30 hours', '30 hrs', '30 min', '30 mins', '30 mints', '30 minute', '30 minutes', '30 reach', '30 sec', '30 seconds', '3000 mah', '3000mah battery', '30min 100', '32 gb', '32gb 4gb', '32gb internal', '343 ka', '3500 mah', '3900 mah', '3g 2g', '3g 4g', '3gb 32gb', '3gb gb', '3gb ram', '3gb variant', '3rd class', '3rd lenovo', '3rd party', '40 50', '40 ask', '40 degree', '40 degrees', '40 hour', '40 min', '40 minutes', '40 percent', '40 total', '4000 battery', '4000 mah', '4000 mh', '4000mah bad', '4000mah battery', '4000mah buy', '4000mah camera', '4000mah doesn', '4000mah fast', '4000mah just', '4000mah phone', '4000mah processor', '4010 mah', '4100 mah', '43 degree', '44 degree', '45 40', '45 battery', '45 days', '45 degree', '45 min', '45 mins', '45 minutes', '48 degree', '48 hours', '4g 3g', '4g 4g', '4g camera', '4g connection', '4g connectivity', '4g data', '4g dual', '4g handset', '4g handsets', '4g lte', '4g mobile', '4g net', '4g network', '4g option', '4g phone', '4g ram', '4g reality', '4g signal', '4g sim', '4g sims', '4g single', '4g slot', '4g speed', '4g standby', '4g support', '4g time', '4g voice', '4g volte', '4g working', '4g works', '4gb 64', '4gb 64gb', '4gb new', '4gb ram', '4gb variant', '4gb version', '4hours charge', '4k battery', '4k dust', '4k mah', '4k recording', '4k video', '50 100', '50 60', '50 battery', '50 gb', '500 mah', '5000 phone', '5d curved', '5hrs charge', '5mm jack', '5mp cam', '5mp camera', '5mp dual', '5mp working', '60 65', '625 battery', '64 bit', '64 gb', '64 ram', '64gb 4gb', '64gb gb', '64gb inbuilt', '64gb internal', '64gb mobile', '64gb rom', '65 idle', '6hours charge', '6hours fully', '6x better', '6x lenovo', '7hrs hours', '7th oct', '80 100', '80 battery', '8mp camera', '90 100', '90 minutes', '999 month', 'a1 better', 'a1 instead', 'a1 mi', 'a6000 plus', 'aap giving', 'aap log', 'aaps open', 'abhi tak', 'able cast', 'able charge', 'able connect', 'able contact', 'able detect', 'able hear', 'able hold', 'able make', 'able phone', 'able pick', 'able provide', 'able receive', 'able recording', 'able resolve', 'able return', 'able save', 'able send', 'able set', 'able support', 'able switch', 'able transfer', 'able turn', 'able use', 'able watch', 'absolutely amazing', 'absolutely fine', 'absolutely good', 'absolutely useless', 'abt mobile', 'ac band', 'accept phone', 'accept refund', 'accept return', 'accepting return', 'access good', 'access internet', 'accessories like', 'accha pr', 'according mentioned', 'according price', 'according specification', 'according specifications', 'according standards', 'acha nahi', 'actually expected', 'actually giving', 'actually takes', 'ad killer', 'adapter usb', 'adapter working', 'adaptive brightness', 'add contact', 'add features', 'add screen', 'added 4000', 'added advantage', 'added features', 'additional features', 'additional music', 'additional themesdual', 'adequate battery', 'adjust settings', 'advanced features', 'advice buy', 'advice don', 'affordable budget', 'affordable cost', 'affordable price', 'agar aap', 'ago amazon', 'ago bought', 'ago network', 'ago problem', 'air bubbles', 'airplane mode', 'airtel 4g', 'airtel jio', 'airtel k8', 'airtel sim', 'alarm does', 'alarm sound', 'alarm working', 'allow return', 'allowing return', 'alot using', 'amazing battery', 'amazing buy', 'amazing camera', 'amazing cell', 'amazing delivery', 'amazing experience', 'amazing features', 'amazing handset', 'amazing look', 'amazing looks', 'amazing love', 'amazing mobile', 'amazing performance', 'amazing phone', 'amazing picture', 'amazing processor', 'amazing product', 'amazing service', 'amazing sound', 'amazing speed', 'amazing superb', 'amazon able', 'amazon accepting', 'amazon agent', 'amazon agree', 'amazon amazing', 'amazon amazon', 'amazon anymore', 'amazon app', 'amazon asking', 'amazon bad', 'amazon battery', 'amazon buy', 'amazon buying', 'amazon care', 'amazon charger', 'amazon cheat', 'amazon cheated', 'amazon cheating', 'amazon couple', 'amazon customer', 'amazon day', 'amazon days', 'amazon deliver', 'amazon delivered', 'amazon delivering', 'amazon delivery', 'amazon did', 'amazon didn', 'amazon does', 'amazon doesn', 'amazon doing', 'amazon don', 'amazon dont', 'amazon excellent', 'amazon exchange', 'amazon exchanging', 'amazon executive', 'amazon expected', 'amazon face', 'amazon fake', 'amazon fast', 'amazon flipkart', 'amazon fooling', 'amazon fraud', 'amazon given', 'amazon gives', 'amazon giving', 'amazon good', 'amazon great', 'amazon having', 'amazon help', 'amazon holding', 'amazon india', 'amazon issue', 'amazon just', 'amazon kindly', 'amazon lenovo', 'amazon love', 'amazon matter', 'amazon mobile', 'amazon months', 'amazon need', 'amazon offer', 'amazon order', 'amazon packing', 'amazon pathetic', 'amazon phone', 'amazon plz', 'amazon policy', 'amazon poor', 'amazon prime', 'amazon problem', 'amazon product', 'amazon products', 'amazon prompt', 'amazon provide', 'amazon providing', 'amazon purchased', 'amazon quick', 'amazon ready', 'amazon realized', 'amazon really', 'amazon refund', 'amazon refunding', 'amazon refused', 'amazon rep', 'amazon replace', 'amazon replaced', 'amazon replacement', 'amazon replacing', 'amazon response', 'amazon return', 'amazon returning', 'amazon said', 'amazon sale', 'amazon se', 'amazon seller', 'amazon selling', 'amazon sells', 'amazon sent', 'amazon service', 'amazon services', 'amazon site', 'amazon solve', 'amazon stick', 'amazon superb', 'amazon support', 'amazon tagline', 'amazon taking', 'amazon team', 'amazon tech', 'amazon technician', 'amazon thank', 'amazon thanks', 'amazon time', 'amazon told', 'amazon totally', 'amazon wale', 'amazon won', 'amazon wonderful', 'amazon wont', 'amazon worst', 'amoled screen', 'ample contrast', 'android battery', 'android better', 'android bit', 'android buy', 'android camera', 'android decent', 'android devices', 'android experience', 'android expirience', 'android feel', 'android good', 'android got', 'android great', 'android just', 'android lenovo', 'android makes', 'android network', 'android nice', 'android nougat', 'android oreo', 'android os', 'android phone', 'android phones', 'android software', 'android stock', 'android tends', 'android turbo', 'android tv', 'android ui', 'android update', 'android user', 'android v7', 'android version', 'android working', 'android worst', 'annoying phone', 'answer option', 'answer queries', 'anyphone sale', 'apart battery', 'apart good', 'apart heating', 'apart phone', 'apart thing', 'apne ap', 'app access', 'app app', 'app battery', 'app better', 'app check', 'app crashes', 'app does', 'app doesn', 'app don', 'app download', 'app dual', 'app facebook', 'app fast', 'app feature', 'app fraud', 'app games', 'app gestures', 'app google', 'app heard', 'app images', 'app inbuilt', 'app installed', 'app instead', 'app just', 'app like', 'app lock', 'app management', 'app missing', 'app music', 'app open', 'app opens', 'app option', 'app phone', 'app play', 'app pre', 'app record', 'app recorder', 'app responding', 'app running', 'app says', 'app screen', 'app settings', 'app shows', 'app stopped', 'app stops', 'app store', 'app time', 'app use', 'app wait', 'app working', 'application like', 'application phone', 'application suddenly', 'application working', 'applications like', 'apply better', 'appreciate amazon', 'approach lenovo', 'approached amazon', 'approx hrs', 'approx months', 'approximately hours', 'apps amazon', 'apps app', 'apps auto', 'apps background', 'apps basic', 'apps camera', 'apps charging', 'apps closing', 'apps crash', 'apps don', 'apps finger', 'apps frequently', 'apps getting', 'apps hang', 'apps installed', 'apps like', 'apps memory', 'apps mobile', 'apps open', 'apps phone', 'apps poor', 'apps really', 'apps recording', 'apps reload', 'apps responding', 'apps run', 'apps running', 'apps showing', 'apps stop', 'apps suddenly', 'apps support', 'apps time', 'apps use', 'apps used', 'apps whatsapp', 'apps work', 'apps working', 'apps worst', 'apps worth', 'aren available', 'arranged technician', 'arrived day', 'aside phone', 'ask company', 'ask replacement', 'ask sim', 'asked amazon', 'asked customer', 'asked refund', 'asked replace', 'asked replacement', 'asked return', 'asking local', 'asking replacement', 'asking wait', 'aspect mobile', 'assist answer', 'assistant gud', 'asus zenfone', 'atleast times', 'atmos 4gb', 'atmos app', 'atmos average', 'atmos camera', 'atmos dedicated', 'atmos dolby', 'atmos don', 'atmos effect', 'atmos feature', 'atmos gimmick', 'atmos good', 'atmos just', 'atmos music', 'atmos sound', 'atmos sounds', 'atmos speakers', 'atmos surround', 'atmos useless', 'atmos working', 'atom sound', 'attached phone', 'audio bluetooth', 'audio camera', 'audio clean', 'audio good', 'audio jack', 'audio level', 'audio output', 'audio problem', 'audio quality', 'audio sound', 'audio speaker', 'audio speakers', 'audio video', 'aug 17', 'aug 2017', 'august 2017', 'aur badiya', 'aur service', 'aur yeh', 'authorised service', 'authorized service', 'auto brightness', 'auto focus', 'auto network', 'auto record', 'auto recorder', 'auto recording', 'auto restart', 'automatic recorder', 'automatic recording', 'automatic restart', 'automatic screen', 'automatic stop', 'automatically 10', 'automatically battery', 'automatically charge', 'automatically comes', 'automatically drains', 'automatically gets', 'automatically getting', 'automatically goes', 'automatically hang', 'automatically need', 'automatically restart', 'automatically shut', 'automatically stops', 'automatically switch', 'automatically switched', 'automatically switching', 'automatically times', 'automatically unable', 'automatically worst', 'available amazon', 'available better', 'available box', 'available camera', 'available cast', 'available depth', 'available does', 'available editing', 'available good', 'available k4', 'available k8', 'available lenovo', 'available like', 'available market', 'available mobile', 'available model', 'available phone', 'available phones', 'available photo', 'available photos', 'available price', 'available return', 'available service', 'available set', 'available stock', 'available think', 'available use', 'available user', 'availablebattery backup', 'avarage camera', 'avarage phone', 'average battery', 'average better', 'average budget', 'average camera', 'average compared', 'average day', 'average depend', 'average don', 'average dual', 'average good', 'average heating', 'average just', 'average low', 'average mobile', 'average overall', 'average performance', 'average phone', 'average processor', 'average product', 'average quality', 'average rear', 'average suggest', 'average takes', 'average think', 'average usage', 'average use', 'average user', 'avg battery', 'avg camera', 'avg performance', 'avg phone', 'avoid purchasing', 'away phone', 'awesome 4g', 'awesome android', 'awesome battery', 'awesome best', 'awesome buy', 'awesome camera', 'awesome certainly', 'awesome depth', 'awesome device', 'awesome display', 'awesome dolby', 'awesome dual', 'awesome duel', 'awesome experience', 'awesome fast', 'awesome features', 'awesome feel', 'awesome gaming', 'awesome good', 'awesome great', 'awesome handset', 'awesome just', 'awesome like', 'awesome look', 'awesome love', 'awesome mobile', 'awesome nice', 'awesome overall', 'awesome performance', 'awesome phone', 'awesome pics', 'awesome picture', 'awesome price', 'awesome problem', 'awesome processor', 'awesome product', 'awesome quality', 'awesome rear', 'awesome screen', 'awesome selfie', 'awesome service', 'awesome smartphone', 'awesome sound', 'awesome speaker', 'awesome specifications', 'awesome super', 'awesome takes', 'awesome thing', 'awesome touch', 'awesome using', 'awesome work', 'awesome worth', 'awsm mobile', 'awsm phone', 'awsm product', 'awsome phone', 'awsome product', 'baad bhi', 'background app', 'background application', 'background blur', 'background focus', 'backlight home', 'backlit keys', 'backlit navigation', 'backup 10', 'backup 1day', 'backup 4000', 'backup 4000mah', 'backup average', 'backup awesome', 'backup bad', 'backup battery', 'backup best', 'backup better', 'backup camera', 'backup charging', 'backup come', 'backup comes', 'backup compare', 'backup day', 'backup dual', 'backup excellent', 'backup expected', 'backup fantastic', 'backup fast', 'backup fine', 'backup getting', 'backup goes', 'backup good', 'backup great', 'backup gud', 'backup hanging', 'backup heating', 'backup heats', 'backup heavy', 'backup hour', 'backup hours', 'backup hrs', 'backup isn', 'backup issue', 'backup just', 'backup like', 'backup little', 'backup low', 'backup mark', 'backup mi', 'backup mobile', 'backup moderate', 'backup nice', 'backup normal', 'backup ok', 'backup performance', 'backup phone', 'backup poor', 'backup power', 'backup problem', 'backup really', 'backup rest', 'backup satisfactory', 'backup screen', 'backup sufficient', 'backup takes', 'backup think', 'backup turbo', 'backup upto', 'backup worse', 'backup worst', 'bad according', 'bad actually', 'bad amazon', 'bad audio', 'bad average', 'bad bad', 'bad battery', 'bad behavior', 'bad bokeh', 'bad bought', 'bad bt', 'bad buy', 'bad buying', 'bad camera', 'bad charging', 'bad choice', 'bad company', 'bad compare', 'bad deal', 'bad decision', 'bad depth', 'bad design', 'bad device', 'bad display', 'bad don', 'bad dont', 'bad dual', 'bad expected', 'bad experiance', 'bad experience', 'bad experiences', 'bad features', 'bad focus', 'bad giving', 'bad good', 'bad hanging', 'bad head', 'bad heating', 'bad heavy', 'bad hrs', 'bad image', 'bad just', 'bad lenovo', 'bad looking', 'bad low', 'bad mean', 'bad mobile', 'bad model', 'bad music', 'bad network', 'bad night', 'bad ok', 'bad oreo', 'bad overall', 'bad performance', 'bad phone', 'bad picture', 'bad piece', 'bad plz', 'bad poor', 'bad problem', 'bad product', 'bad pros', 'bad purchase', 'bad purchasing', 'bad quality', 'bad rear', 'bad recommended', 'bad response', 'bad result', 'bad reviews', 'bad said', 'bad service', 'bad set', 'bad smart', 'bad software', 'bad sound', 'bad takes', 'bad thing', 'bad things', 'bad think', 'bad time', 'bad touch', 'bad turbo', 'bad ui', 'bad update', 'bad using', 'bad video', 'bad want', 'bad wifi', 'bad work', 'bad working', 'bad worst', 'bada problem', 'baddon buy', 'badly battery', 'badly charging', 'bahut bekar', 'bahut dheere', 'bahut heat', 'bahut hi', 'bahut jaldi', 'bahut kharab', 'baki sab', 'bakwaas hai', 'bakwaas phone', 'bakwas mobile', 'bakwas phone', 'bakwas product', 'band dedicated', 'band ho', 'bang resets', 'bar continously', 'bar does', 'bar features', 'bars network', 'bars sims', 'based phone', 'basic application', 'basic applications', 'basic apps', 'basic camerabattery', 'basic feature', 'basic features', 'basic function', 'basic functionalities', 'basic functions', 'basic games', 'basic issues', 'basic options', 'basic phone', 'basic requirement', 'basic software', 'basic things', 'basic use', 'batery backup', 'batery good', 'batry backup', 'battary backup', 'battary drains', 'battary good', 'batter camera', 'batter lenovo', 'batter phone', 'battery 100', 'battery 15', 'battery 30', 'battery 40', 'battery 4000', 'battery 4000mah', 'battery 4100', 'battery 64gb', 'battery 80', 'battery amazing', 'battery automatically', 'battery average', 'battery awesome', 'battery backup', 'battery backupoverall', 'battery bad', 'battery barely', 'battery battery', 'battery best', 'battery better', 'battery bhi', 'battery big', 'battery bit', 'battery bugs', 'battery camera', 'battery capacity', 'battery charge', 'battery charged', 'battery charger', 'battery charges', 'battery charging', 'battery checking', 'battery claimed', 'battery comes', 'battery coming', 'battery condition', 'battery consumed', 'battery consumption', 'battery data', 'battery day', 'battery days', 'battery decent', 'battery depth', 'battery device', 'battery dies', 'battery disappointed', 'battery disappointing', 'battery discharge', 'battery discharged', 'battery discharges', 'battery discharging', 'battery display', 'battery does', 'battery doesn', 'battery doesnt', 'battery don', 'battery drain', 'battery drainage', 'battery drained', 'battery draing', 'battery draining', 'battery drains', 'battery draning', 'battery dry', 'battery drying', 'battery efficient', 'battery excellent', 'battery exhaust', 'battery expected', 'battery failed', 'battery far', 'battery fast', 'battery faster', 'battery features', 'battery fine', 'battery fully', 'battery gave', 'battery gets', 'battery getting', 'battery gives', 'battery giving', 'battery goes', 'battery good', 'battery goodit', 'battery got', 'battery great', 'battery handset', 'battery hanging', 'battery hardly', 'battery having', 'battery heat', 'battery heating', 'battery heats', 'battery heavy', 'battery help', 'battery high', 'battery hot', 'battery hour', 'battery hours', 'battery hrs', 'battery indicator', 'battery internet', 'battery isn', 'battery issue', 'battery issues', 'battery just', 'battery jyada', 'battery k5', 'battery killer', 'battery knew', 'battery lasted', 'battery lasting', 'battery lasts', 'battery left', 'battery level', 'battery life', 'battery life2', 'battery lifeturbo', 'battery like', 'battery little', 'battery long', 'battery longer', 'battery looking', 'battery looks', 'battery lost', 'battery low', 'battery mark', 'battery max', 'battery mobile', 'battery mode', 'battery need', 'battery nice', 'battery normal', 'battery ok', 'battery optimisation', 'battery overall', 'battery overheating', 'battery pack', 'battery packup', 'battery percentage', 'battery performance', 'battery phone', 'battery pick', 'battery pickup', 'battery poor', 'battery power', 'battery powerful', 'battery problem', 'battery problems', 'battery quality', 'battery quick', 'battery quickly', 'battery quite', 'battery ram', 'battery rapidly', 'battery really', 'battery redmi', 'battery remaining', 'battery remains', 'battery restarting', 'battery run', 'battery running', 'battery runs', 'battery satisfactory', 'battery saver', 'battery saving', 'battery screen', 'battery seen', 'battery seriously', 'battery service', 'battery showing', 'battery shown', 'battery single', 'battery small', 'battery software', 'battery sound', 'battery speed', 'battery stable', 'battery stand', 'battery standby', 'battery standing', 'battery started', 'battery starts', 'battery status', 'battery stay', 'battery stock', 'battery stop', 'battery storage', 'battery sucks', 'battery super', 'battery superb', 'battery sure', 'battery takes', 'battery taking', 'battery time', 'battery total', 'battery touch', 'battery turbo', 'battery ui', 'battery upto', 'battery usage', 'battery use', 'battery used', 'battery using', 'battery value', 'battery want', 'battery warm', 'battery weak', 'battery won', 'battery work', 'battery working', 'battery works', 'battery worse', 'battery worst', 'battery worth', 'battery worthy', 'battery wrost', 'battery year', 'battry backup', 'bcoz charge', 'bcoz turbo', 'bcz heating', 'bcz lenovo', 'bcz phone', 'beast camera', 'beast performance', 'beat mobile', 'beats phones', 'beautiful camera', 'beautiful mobile', 'beautiful phone', 'bed phone', 'bed product', 'bed screen', 'beep sound', 'behave like', 'bekar chalti', 'bekar ha', 'bekar hai', 'bekar phone', 'believe amazon', 'believe guys', 'believe lenovo', 'believe phone', 'best android', 'best battery', 'best best', 'best better', 'best budget', 'best buy', 'best buys', 'best camera', 'best cell', 'best choice', 'best class', 'best deal', 'best delivery', 'best device', 'best dolby', 'best experience', 'best far', 'best feature', 'best features', 'best future', 'best gaming', 'best good', 'best hai', 'best heating', 'best k8', 'best lenovo', 'best love', 'best market', 'best mi', 'best mid', 'best mobile', 'best mobiles', 'best music', 'best option', 'best performance', 'best ph', 'best phn', 'best phone', 'best phones', 'best price', 'best processor', 'best product', 'best products', 'best quality', 'best range', 'best redmi', 'best segment', 'best selfie', 'best seller', 'best smart', 'best smartphone', 'best sound', 'best specifications', 'best specs', 'best stock', 'best thing', 'best things', 'best till', 'best use', 'best value', 'betry backup', 'betry drain', 'better 13', 'better 5mp', 'better average', 'better avoid', 'better backup', 'better bad', 'better battery', 'better bcz', 'better best', 'better buy', 'better camera', 'better choice', 'better choose', 'better compared', 'better device', 'better display', 'better dolby', 'better don', 'better dual', 'better earlier', 'better expectations', 'better expected', 'better experience', 'better features', 'better good', 'better google', 'better headphones', 'better heating', 'better honor', 'better just', 'better k3', 'better k4', 'better k8', 'better lenovo', 'better life', 'better low', 'better mi', 'better mobile', 'better mobiles', 'better moto', 'better new', 'better nice', 'better note4', 'better opt', 'better option', 'better options', 'better overall', 'better performance', 'better phone', 'better phones', 'better prefer', 'better price', 'better problems', 'better product', 'better purchase', 'better quality', 'better ram', 'better range', 'better rear', 'better redmi', 'better resolution', 'better samsung', 'better single', 'better snapdragon', 'better software', 'better sound', 'better storage', 'better update', 'better use', 'better used', 'better using', 'better way', 'better work', 'bettery backup', 'bettery charging', 'bettery drain', 'bettery drains', 'bettery life', 'bettery performance', 'bettry backup', 'bettry low', 'bettry poor', 'bhai log', 'bhej diya', 'bhi mat', 'bhi nahi', 'bhi nehi', 'bhi nhi', 'bhul se', 'bhut bekar', 'big battery', 'big concern', 'big deal', 'big disadvantage', 'big disappointment', 'big drawback', 'big fan', 'big flaw', 'big games', 'big headache', 'big heating', 'big issue', 'big issues', 'big let', 'big mistake', 'big network', 'big phone', 'big plus', 'big problem', 'big screen', 'biggest advantage', 'biggest drawback', 'biggest issue', 'biggest mistake', 'biggest problem', 'bit annoying', 'bit average', 'bit better', 'bit big', 'bit charging', 'bit costly', 'bit difficult', 'bit disappointed', 'bit disappointing', 'bit faster', 'bit hard', 'bit heat', 'bit heating', 'bit heavy', 'bit high', 'bit hitting', 'bit low', 'bit poor', 'bit slow', 'bit time', 'bit warm', 'bitter purchase', 'black 4gb', 'black color', 'black colour', 'black screen', 'black variant', 'black white', 'blast na', 'blast time', 'blazing fast', 'blink text', 'blinks unread', 'bloatware 000mah', 'blue tooth', 'bluetooth audio', 'bluetooth connected', 'bluetooth connection', 'bluetooth connectivity', 'bluetooth device', 'bluetooth devices', 'bluetooth don', 'bluetooth getting', 'bluetooth good', 'bluetooth headphones', 'bluetooth headset', 'bluetooth heating', 'bluetooth hotspot', 'bluetooth issue', 'bluetooth issues', 'bluetooth phone', 'bluetooth poor', 'bluetooth problem', 'bluetooth proper', 'bluetooth properly', 'bluetooth screen', 'bluetooth speaker', 'bluetooth speakers', 'bluetooth switch', 'bluetooth wifi', 'bluetooth wireless', 'bluetooth won', 'bluetooth work', 'bluetooth working', 'bluetooth worst', 'blur background', 'blur effect', 'blur poor', 'blur working', 'blurr camera', 'blurred background', 'board crashed', 'body comes', 'body design', 'body good', 'body phone', 'body price', 'boke effect', 'bokeh effect', 'bokeh just', 'bokeh mode', 'boldbeast recorder', 'bolte hai', 'bookeh effect', 'boom dead', 'booster charger', 'boot mode', 'bought 10', 'bought 12999', 'bought 13000', 'bought 13999', 'bought 14', 'bought 14000', 'bought 14k', 'bought 4gb', 'bought 64gb', 'bought amazon', 'bought august', 'bought battery', 'bought bought', 'bought dad', 'bought day', 'bought device', 'bought dual', 'bought father', 'bought flash', 'bought gb', 'bought k8', 'bought lenovo', 'bought life', 'bought mobile', 'bought month', 'bought months', 'bought new', 'bought nokia', 'bought phone', 'bought product', 'bought recently', 'bought redmi', 'bought sale', 'bought september', 'bought using', 'bought value', 'bought yesterday', 'box 4000', 'box accessories', 'box battery', 'box camera', 'box charger', 'box charging', 'box cheating', 'box contain', 'box contains', 'box does', 'box doesn', 'box ear', 'box handset', 'box headphone', 'box headset', 'box lenovo', 'box mentioned', 'box phone', 'box really', 'box received', 'brand comes', 'brand just', 'brand lenovo', 'brand like', 'brand new', 'brand throwing', 'brands good', 'brands lenovo', 'brands manufacturing', 'brands offering', 'brands range', 'breaking connected', 'breaks frequently', 'breaks time', 'bright ample', 'bright display', 'brightness good', 'brightness hope', 'brightness issue', 'brightness level', 'brightness low', 'brightness mode', 'brightness poor', 'brilliant camera', 'broke just', 'broke pieces', 'broke screen', 'broke small', 'broken battery', 'broken display', 'broken early', 'broken gorilla', 'broken just', 'broken screen', 'brought k8', 'brought lenovo', 'brought mi', 'brought mobile', 'brought phone', 'brought product', 'browsing battery', 'browsing charging', 'browsing consumes', 'browsing device', 'browsing hold', 'browsing internet', 'browsing playing', 'browsing wifi', 'bt battery', 'bt cam', 'bt camera', 'bt charge', 'bt heating', 'bt nt', 'bt problem', 'bty performance', 'bucks lenovo', 'budget 12000', 'budget 15k', 'budget best', 'budget dual', 'budget fast', 'budget good', 'budget mobile', 'budget phone', 'budget phones', 'budget range', 'budget segment', 'budget smart', 'budget smartphone', 'budget smartphones', 'bug fixes', 'bug phone', 'bug software', 'buget phone', 'bugs apps', 'bugs camera', 'bugs fixed', 'bugs os', 'bugs solved', 'build good', 'build looks', 'build quality', 'build ringtones', 'build stock', 'built casting', 'built gallery', 'built good', 'built quality', 'bukeh effect', 'bulky heavy', 'bulky looks', 'bulky phone', 'bums update', 'burner avg', 'button available', 'button button', 'button camera', 'button dedicated', 'button left', 'button light', 'button opposite', 'button right', 'button stopped', 'button supports', 'button twice', 'button working', 'button works', 'buttons backlit', 'buttons working', 'buy 12k', 'buy 14000', 'buy 4gb', 'buy amazon', 'buy anyphone', 'buy bad', 'buy battery', 'buy better', 'buy bluetooth', 'buy buy', 'buy camera', 'buy cell', 'buy check', 'buy chinese', 'buy chromecast', 'buy company', 'buy crap', 'buy device', 'buy dis', 'buy don', 'buy dont', 'buy dual', 'buy friends', 'buy future', 'buy gallery', 'buy good', 'buy got', 'buy great', 'buy guys', 'buy handset', 'buy headphone', 'buy heating', 'buy heavy', 'buy hesitation', 'buy item', 'buy items', 'buy just', 'buy k8', 'buy killer', 'buy lenevo', 'buy lenovo', 'buy life', 'buy like', 'buy ll', 'buy look', 'buy looking', 'buy low', 'buy mediatek', 'buy mi', 'buy mobile', 'buy model', 'buy money', 'buy month', 'buy moto', 'buy need', 'buy network', 'buy new', 'buy nice', 'buy offer', 'buy online', 'buy option', 'buy oreo', 'buy phone', 'buy phones', 'buy pls', 'buy plz', 'buy poor', 'buy price', 'buy problem', 'buy product', 'buy productbattery', 'buy products', 'buy range', 'buy really', 'buy redmi', 'buy risk', 'buy screen', 'buy second', 'buy seeing', 'buy sell', 'buy seller', 'buy set', 'buy smartphone', 'buy soon', 'buy suggestion', 'buy thank', 'buy things', 'buy think', 'buy ths', 'buy touch', 'buy using', 'buy want', 'buy waste', 'buy worst', 'buy worth', 'buyed phone', 'buyers battery', 'buying amazon', 'buying dual', 'buying good', 'buying k8', 'buying lenovo', 'buying mobile', 'buying mobiles', 'buying phone', 'buying product', 'buying products', 'buying smartphone', 'buying think', 'bye bye', 'bye lenovo', 'bye phone', 'cable bad', 'cable phone', 'cable working', 'called 4000mah', 'called amazon', 'called customer', 'called fast', 'called gorilla', 'called lenovo', 'called told', 'called turbo', 'caller id', 'caller voice', 'calling 13', 'calling 15', 'calling 20', 'calling feeling', 'calling good', 'calling issue', 'calling network', 'calling speaker', 'calling waste', 'calls app', 'calls battery', 'calls browsing', 'calls calls', 'calls coming', 'calls contact', 'calls disconnected', 'calls drop', 'calls getting', 'calls incoming', 'calls internet', 'calls jio', 'calls lenovo', 'calls make', 'calls messaging', 'calls mins', 'calls new', 'calls pathetic', 'calls phone', 'calls properly', 'calls receiving', 'calls showing', 'calls time', 'calls voice', 'calls volte', 'calls work', 'calls working', 'cam awesome', 'cam battery', 'cam bit', 'cam clarity', 'cam doesn', 'cam excellent', 'cam features', 'cam good', 'cam issues', 'cam just', 'cam quality', 'cam sake', 'camara good', 'camara ok', 'camara quality', 'came know', 'came lenovo', 'came mobile', 'came time', 'came turbo', 'camera 10', 'camera 13', 'camera 13mp', 'camera 5mp', 'camera accha', 'camera amazing', 'camera app', 'camera average', 'camera averagebattery', 'camera avg', 'camera awesome', 'camera awsome', 'camera background', 'camera bad', 'camera battery', 'camera beat', 'camera best', 'camera better', 'camera big', 'camera bit', 'camera blur', 'camera blurred', 'camera bokeh', 'camera bt', 'camera bugs', 'camera busy', 'camera camera', 'camera capturing', 'camera centric', 'camera charging', 'camera checked', 'camera clarity', 'camera class', 'camera clear', 'camera clearity', 'camera clearly', 'camera clearty', 'camera click', 'camera clicking', 'camera comes', 'camera company', 'camera compare', 'camera couldn', 'camera coupled', 'camera damn', 'camera daylight', 'camera deca', 'camera decent', 'camera deep', 'camera department', 'camera depth', 'camera descent', 'camera design', 'camera did', 'camera disappointed', 'camera disappointing', 'camera display', 'camera does', 'camera doesn', 'camera dolby', 'camera don', 'camera drawback', 'camera dual', 'camera duel', 'camera dull', 'camera easily', 'camera effect', 'camera effective', 'camera effects', 'camera excellent', 'camera expectation', 'camera expected', 'camera experience', 'camera facility', 'camera fails', 'camera fake', 'camera fantastic', 'camera far', 'camera fast', 'camera feature', 'camera features', 'camera fine', 'camera fingerprint', 'camera flash', 'camera focus', 'camera focuses', 'camera function', 'camera gaming', 'camera garbage', 'camera gives', 'camera giving', 'camera glass', 'camera good', 'camera good3', 'camera goodbattery', 'camera goodi', 'camera goodrear', 'camera got', 'camera great', 'camera gud', 'camera hanging', 'camera happy', 'camera having', 'camera heating', 'camera heats', 'camera heavy', 'camera high', 'camera hope', 'camera image', 'camera images', 'camera impressive', 'camera improve', 'camera improved', 'camera improvement', 'camera interested', 'camera interface', 'camera isn', 'camera issue', 'camera issues', 'camera joke', 'camera just', 'camera k8', 'camera killer', 'camera know', 'camera lags', 'camera led', 'camera lenovo', 'camera lens', 'camera light', 'camera like', 'camera little', 'camera looks', 'camera love', 'camera lovely', 'camera lover', 'camera low', 'camera main', 'camera mark', 'camera medium', 'camera mega', 'camera mi', 'camera mind', 'camera mobile', 'camera mode', 'camera moto', 'camera mp', 'camera music', 'camera nd', 'camera need', 'camera needs', 'camera network', 'camera nice', 'camera night', 'camera normal', 'camera ok', 'camera okay', 'camera open', 'camera option', 'camera options', 'camera osm', 'camera overall', 'camera pathetic', 'camera people', 'camera perfect', 'camera performance', 'camera phase', 'camera phone', 'camera phones', 'camera photo', 'camera photos', 'camera pic', 'camera pics', 'camera picture', 'camera pictures', 'camera poor', 'camera powerful', 'camera pretty', 'camera price', 'camera primary', 'camera problem', 'camera problems', 'camera processor', 'camera pure', 'camera quality', 'camera qualitybattery', 'camera quite', 'camera ram', 'camera range', 'camera rare', 'camera really', 'camera rear', 'camera remaining', 'camera resolution', 'camera result', 'camera results', 'camera returned', 'camera sake', 'camera satisfactory', 'camera satisfied', 'camera satisfying', 'camera screen', 'camera section', 'camera seen', 'camera selfie', 'camera sensor', 'camera set', 'camera setting', 'camera setup', 'camera shots', 'camera showing', 'camera showoff', 'camera shows', 'camera similarly', 'camera single', 'camera slow', 'camera smooth', 'camera software', 'camera sound', 'camera speaker', 'camera specifications', 'camera specs', 'camera spectacular', 'camera speed', 'camera stars', 'camera stock', 'camera stopped', 'camera stops', 'camera storage', 'camera stuck', 'camera sucks', 'camera super', 'camera superb', 'camera takes', 'camera thing', 'camera think', 'camera time', 'camera totally', 'camera touch', 'camera trying', 'camera turbo', 'camera ui', 'camera update', 'camera updates', 'camera upto', 'camera usage', 'camera use', 'camera used', 'camera useful', 'camera useless', 'camera usp', 'camera video', 'camera want', 'camera waste', 'camera wonderful', 'camera work', 'camera working', 'camera works', 'camera worst', 'camera worth', 'camera wrost', 'camera yes', 'camerabattery drain', 'cameragood battery', 'camerai want', 'cameras average', 'cameras awesome', 'cameras decent', 'cameras good', 'cameras great', 'cameras high', 'cameras performance', 'cameras price', 'cameras really', 'cameras rear', 'cameras selfie', 'cameras use', 'cameras using', 'cameras working', 'candy crush', 'capable performance', 'capacity 4000', 'capacity 4000mah', 'capacity battery', 'capacity doesn', 'capacity excellent', 'capacity good', 'capture good', 'capture photo', 'captured images', 'captures depth', 'capturing photos', 'capturing pictures', 'car audio', 'car bluetooth', 'card default', 'card excellent', 'card good', 'card important', 'card lock', 'card mobile', 'card network', 'card nfc', 'card paid', 'card payment', 'card set', 'card slot', 'card tray', 'card works', 'cards memory', 'cards time', 'care center', 'care centre', 'care charger', 'care dont', 'care executive', 'care help', 'care issue', 'care lenovo', 'care number', 'care people', 'care regarding', 'care responding', 'care response', 'care return', 'care says', 'care service', 'care support', 'care team', 'care told', 'care use', 'care visited', 'careful buy', 'careful buying', 'carry power', 'case camera', 'case cover', 'case performance', 'case split', 'cash 10', 'cash 15', 'cash credit', 'cash paying', 'cash till', 'cast cast', 'cast device', 'cast does', 'cast doesn', 'cast feature', 'cast function', 'cast mirroring', 'cast mobile', 'cast new', 'cast option', 'cast phone', 'cast screen', 'cast smart', 'cast software', 'cast tube', 'cast tv', 'cast won', 'cast work', 'cast working', 'casting available', 'casting device', 'casting doesn', 'casting option', 'casting tv', 'casting work', 'casting working', 'casting works', 'catch signal', 'causes heat', 'cell phone', 'cell phones', 'cellular network', 'cemara good', 'cemera good', 'cemera quality', 'center able', 'center bad', 'center buy', 'center did', 'center don', 'center giving', 'center lenovo', 'center new', 'center people', 'center phone', 'center problem', 'center said', 'center saying', 'center service', 'center solution', 'center times', 'center told', 'center took', 'center twice', 'centre chennai', 'centre didn', 'centre jayanagar', 'centre lenovo', 'centre number', 'centre people', 'centre poor', 'centre say', 'centre service', 'centre times', 'centre told', 'centric company', 'centric phone', 'certainly recommend', 'chal raha', 'chalti hai', 'chances getting', 'change background', 'change handset', 'change mobile', 'change option', 'change phone', 'change ringtone', 'change sim', 'changed battery', 'changed charger', 'changed dual', 'changed phone', 'changed sim', 'changedno additional', 'changing background', 'changing issue', 'charge 100', 'charge 12', 'charge 15', 'charge 1hr', 'charge 30', 'charge 40', 'charge 50', 'charge 70', 'charge approx', 'charge awesome', 'charge bad', 'charge battery', 'charge bcoz', 'charge camera', 'charge charger', 'charge charging', 'charge completely', 'charge disappointed', 'charge discharge', 'charge display', 'charge doesn', 'charge don', 'charge draining', 'charge drains', 'charge fast', 'charge fully', 'charge gets', 'charge getting', 'charge gives', 'charge giving', 'charge good', 'charge great', 'charge handset', 'charge heating', 'charge heats', 'charge hota', 'charge hour', 'charge hours', 'charge hrs', 'charge inspite', 'charge just', 'charge kr', 'charge krna', 'charge lasted', 'charge lasts', 'charge late', 'charge later', 'charge long', 'charge low', 'charge minutes', 'charge mobile', 'charge network', 'charge nhi', 'charge night', 'charge normal', 'charge performance', 'charge phone', 'charge problem', 'charge properly', 'charge quickly', 'charge really', 'charge service', 'charge support', 'charge takes', 'charge time', 'charge times', 'charge turbo', 'charge twice', 'charge upto', 'charge usage', 'charge use', 'charge using', 'charge went', 'charge working', 'charge works', 'charge worst', 'charged 100', 'charged 1hr', 'charged battery', 'charged charger', 'charged charging', 'charged expected', 'charged fast', 'charged fully', 'charged gets', 'charged hours', 'charged hr', 'charged mobile', 'charged morning', 'charged phone', 'charged properly', 'charged quickly', 'charged rear', 'charged slowly', 'charged takes', 'charged turbo', 'charger actually', 'charger adaptor', 'charger battery', 'charger box', 'charger cable', 'charger charge', 'charger charger', 'charger charges', 'charger charging', 'charger connected', 'charger cord', 'charger does', 'charger doesn', 'charger don', 'charger effective', 'charger fast', 'charger getting', 'charger given', 'charger giving', 'charger good', 'charger got', 'charger great', 'charger headset', 'charger heated', 'charger hours', 'charger just', 'charger khrab', 'charger kindly', 'charger makes', 'charger making', 'charger missing', 'charger mobile', 'charger normal', 'charger pathetic', 'charger phone', 'charger problem', 'charger properly', 'charger provided', 'charger purchase', 'charger really', 'charger seen', 'charger send', 'charger slow', 'charger speaker', 'charger start', 'charger stopped', 'charger supplied', 'charger taken', 'charger takes', 'charger taking', 'charger turbo', 'charger usb', 'charger using', 'charger waste', 'charger web', 'charger work', 'charger worked', 'charger working', 'charger works', 'charger worst', 'charges 10', 'charges 100', 'charges fast', 'charges mobile', 'charges phone', 'charges quickly', 'charges slow', 'charging 10', 'charging 100', 'charging 15', 'charging 20', 'charging 30', 'charging 4000mah', 'charging adapter', 'charging apart', 'charging aslo', 'charging backup', 'charging bad', 'charging battery', 'charging best', 'charging bought', 'charging budget', 'charging cable', 'charging calling', 'charging camera', 'charging charge', 'charging charged', 'charging charges', 'charging charging', 'charging common', 'charging company', 'charging dead', 'charging device', 'charging display', 'charging does', 'charging doesn', 'charging don', 'charging drain', 'charging drains', 'charging dual', 'charging effect', 'charging excellent', 'charging fast', 'charging feature', 'charging fine', 'charging finger', 'charging gaming', 'charging gets', 'charging getting', 'charging good', 'charging google', 'charging got', 'charging hanging', 'charging happened', 'charging happy', 'charging hate', 'charging haven', 'charging heat', 'charging heated', 'charging heating', 'charging heats', 'charging heavy', 'charging helps', 'charging hitting', 'charging hour', 'charging hours', 'charging hr', 'charging hrs', 'charging issue', 'charging issues', 'charging just', 'charging k8', 'charging late', 'charging led', 'charging lenovo', 'charging like', 'charging little', 'charging ll', 'charging looks', 'charging main', 'charging mentioned', 'charging method', 'charging mobile', 'charging mode', 'charging net', 'charging normal', 'charging ok', 'charging overall', 'charging phone', 'charging pictures', 'charging playing', 'charging poor', 'charging port', 'charging problem', 'charging problems', 'charging properly', 'charging quick', 'charging really', 'charging recommend', 'charging shows', 'charging slot', 'charging slow', 'charging slower', 'charging slowly', 'charging socket', 'charging speed', 'charging stopped', 'charging super', 'charging superb', 'charging supported', 'charging takes', 'charging taking', 'charging talking', 'charging thanks', 'charging think', 'charging time', 'charging times', 'charging took', 'charging turbo', 'charging upto', 'charging usb', 'charging use', 'charging used', 'charging using', 'charging way', 'charging work', 'charging working', 'charging worst', 'charm good', 'cheap best', 'cheap chinese', 'cheap feature', 'cheap mobile', 'cheap phone', 'cheap plastic', 'cheap price', 'cheap product', 'cheap quality', 'cheap ui', 'cheaper price', 'cheapest phone', 'cheat customers', 'cheat product', 'cheated amazon', 'cheated giving', 'cheated lenovo', 'cheater company', 'cheating company', 'cheating customer', 'cheating customers', 'cheating people', 'cheating policy', 'check app', 'check camera', 'check lenovo', 'check phone', 'check quality', 'checked k8', 'checked online', 'checked phone', 'checked rear', 'checked service', 'checked warranty', 'checking option', 'checking phone', 'cherry cake', 'china product', 'chinese mobile', 'chinese phone', 'chinese product', 'chip set', 'choice lenovo', 'choice price', 'choice range', 'choose lenovo', 'choose option', 'choose phone', 'choose redmi', 'chor hai', 'chrome cast', 'chromecast bad', 'chromecast device', 'city like', 'claimed lenovo', 'claims 4000', 'claims deca', 'claims dolby', 'claims gorilla', 'claims turbo', 'clarity 13', 'clarity average', 'clarity awesome', 'clarity bad', 'clarity battery', 'clarity camera', 'clarity good', 'clarity heating', 'clarity looking', 'clarity low', 'clarity mark', 'clarity missing', 'clarity needs', 'clarity nice', 'clarity par', 'clarity phone', 'clarity photos', 'clarity pixels', 'clarity speaker', 'clarity upto', 'clash clans', 'clash royale', 'class battery', 'class camera', 'class mobile', 'class phone', 'class product', 'classic phone', 'clean months', 'clean supports', 'clear camera', 'clear display', 'clear good', 'clear lenovo', 'clear like', 'clear phone', 'clear picture', 'clear screen', 'clear shot', 'clear sound', 'clear voice', 'clearity good', 'clearly shows', 'clicked blur', 'clicked camera', 'clicking photos', 'clicking pics', 'clock showing', 'close app', 'close apps', 'close stock', 'closing automatically', 'color images', 'colour display', 'colour led', 'colour reproduction', 'combination moto', 'come camera', 'come days', 'come earphone', 'come hours', 'come know', 'come point', 'come second', 'come solution', 'comes 10', 'comes 60', 'comes battery', 'comes clear', 'comes day', 'comes days', 'comes earphones', 'comes hours', 'comes phone', 'comes transparent', 'comes variants', 'coming battery', 'coming camera', 'coming charging', 'coming display', 'coming mobile', 'coming phone', 'comment message', 'comments got', 'common features', 'common lenovo', 'common problem', 'company added', 'company cheated', 'company claimed', 'company claiming', 'company claims', 'company ki', 'company lenovo', 'company like', 'company mobile', 'company motorola', 'company phone', 'company really', 'company said', 'company software', 'company worst', 'comparable redmi', 'compare devices', 'compare earlier', 'compare handsets', 'compare k4', 'compare k6', 'compare k8', 'compare lenovo', 'compare mi', 'compare mobile', 'compare moto', 'compare note', 'compare phone', 'compare phones', 'compare price', 'compare redmi', 'compare samsung', 'compared brand', 'compared devices', 'compared features', 'compared honor', 'compared k3', 'compared k4', 'compared k5', 'compared latest', 'compared lenovo', 'compared mi', 'compared mi4', 'compared mobile', 'compared mobiles', 'compared models', 'compared old', 'compared past', 'compared phone', 'compared phones', 'compared previous', 'compared price', 'compared purchase', 'compared range', 'compared redmi', 'compared time', 'compared vibe', 'comparing lenovo', 'comparing mi', 'comparison mi', 'competitive decide', 'complain amazon', 'complain product', 'complain time', 'complaint lenovo', 'complete charge', 'complete charging', 'complete day', 'complete failure', 'complete package', 'complete phone', 'complete waste', 'completed year', 'completely disappointed', 'completely happy', 'completely satisfied', 'compromise camera', 'concern battery', 'conclude phone', 'condition battery', 'condition good', 'condition mobile', 'condition phone', 'condition poor', 'conditions good', 'configuration camera', 'configuration design', 'configuration good', 'configuration mobile', 'configuration price', 'connect 4g', 'connect bluetooth', 'connect camera', 'connect charger', 'connect computer', 'connect device', 'connect devices', 'connect internet', 'connect laptop', 'connect lenovo', 'connect mobile', 'connect pc', 'connect phone', 'connect smart', 'connect tv', 'connect wi', 'connect wifi', 'connected battery', 'connected bluetooth', 'connected car', 'connected charging', 'connected hotspot', 'connected internet', 'connected mobile', 'connected pc', 'connected phone', 'connected wifi', 'connecting bluetooth', 'connecting issue', 'connecting mobile', 'connecting wifi', 'connection 4g', 'connection automatically', 'connection breaks', 'connection connected', 'connection issues', 'connection phone', 'connection problem', 'connection problems', 'connection warm', 'connection wifi', 'connectivity battery', 'connectivity bluetooth', 'connectivity connected', 'connectivity cool', 'connectivity gets', 'connectivity good', 'connectivity issue', 'connectivity issues', 'connectivity jio', 'connectivity poor', 'connectivity problem', 'connectivity problems', 'connectivity sim', 'connectivity worst', 'cons battery', 'cons camera', 'cons comes', 'cons consider', 'cons earphones', 'cons heating', 'cons lenovo', 'cons phone', 'cons rear', 'cons worst', 'cons1 heating', 'consider buying', 'considering 4000', 'considering price', 'consume battery', 'consume memory', 'consumes 25', 'consumes battery', 'consumes power', 'consumption high', 'consuntil update', 'contact amazon', 'contact details', 'contact lenovo', 'contact list', 'contact mail', 'contact manager', 'contact number', 'contact service', 'contact sms', 'contact working', 'contacted amazon', 'contacted customer', 'contacted lenovo', 'contacted service', 'contacts getting', 'contacts phone', 'contacts saving', 'contacts sim', 'contacts stored', 'contain earphone', 'continously fluctuating', 'continue use', 'continue using', 'continues usage', 'continuous gaming', 'continuous usage', 'continuous use', 'continuous working', 'continuously continuous', 'contrast k8', 'convenient used', 'cool battery', 'cool camera', 'cool feature', 'cool features', 'cool good', 'cool mobile', 'cool overall', 'cool performance', 'cool phone', 'coolpad cool', 'coolpad note', 'copmare dual', 'copy paste', 'core 4gb', 'core camera', 'core good', 'core mediatek', 'core processor', 'core processors', 'core soc', 'core use', 'corilla glass', 'corning gorilla', 'corrected service', 'cost 10k', 'cost features', 'cost high', 'cost mobile', 'cost phone', 'cost rs', 'costly compared', 'costly phone', 'costs rs', 'costumer care', 'couldn connect', 'couldn make', 'couldn run', 'couple days', 'couple months', 'coupled fast', 'courier service', 'course good', 'cousin phone', 'cover available', 'cover camera', 'cover good', 'cover like', 'cover mobile', 'cover phone', 'cover provided', 'cover screen', 'cover supplied', 'coverage area', 'covered gorilla', 'covered warranty', 'crack display', 'crack glass', 'cracked falling', 'cracked phone', 'cracks screen', 'crap don', 'crap takes', 'crashed times', 'creating problem', 'credit card', 'crystal clear', 'currently best', 'curve edges', 'curve screen', 'curved edges', 'curved glass', 'curved screen', 'curved sides', 'custom build', 'custom ringtone', 'customer amazon', 'customer care', 'customer case', 'customer centric', 'customer lenovo', 'customer service', 'customer support', 'customers defective', 'customers product', 'customization features', 'customization options', 'dabba phone', 'daily usage', 'daily use', 'damage lenovo', 'damage mobile', 'damage phone', 'damage pice', 'damage product', 'damaged month', 'damaged months', 'damaged phone', 'damaged product', 'damaged request', 'damn good', 'dark room', 'darshita electronics', 'dash charging', 'data 10', 'data apps', 'data battery', 'data cable', 'data connection', 'data connectivity', 'data does', 'data getting', 'data heat', 'data internet', 'data jio', 'data mobile', 'data network', 'data rear', 'data sim', 'data speed', 'data suspended', 'data transfer', 'data turned', 'data usage', 'data use', 'data used', 'data wifi', 'date excellent', 'date phone', 'date purchase', 'day 100', 'day 4g', 'day average', 'day awesome', 'day backup', 'day bad', 'day battery', 'day bought', 'day browsing', 'day called', 'day camera', 'day charge', 'day charging', 'day cons', 'day customer', 'day day', 'day days', 'day delivery', 'day despite', 'day disappointed', 'day display', 'day doesn', 'day dolby', 'day don', 'day dual', 'day getting', 'day good', 'day got', 'day half', 'day heating', 'day heavy', 'day internet', 'day just', 'day lags', 'day light', 'day medium', 'day mobile', 'day moderate', 'day network', 'day nice', 'day normal', 'day oreo', 'day phone', 'day price', 'day problem', 'day promised', 'day purchase', 'day really', 'day received', 'day recieved', 'day return', 'day sale', 'day screen', 'day service', 'day standby', 'day started', 'day time', 'day took', 'day totally', 'day usage', 'day use', 'day used', 'day uses', 'day using', 'day work', 'daylight camera', 'days ago', 'days amazon', 'days battery', 'days bought', 'days came', 'days camera', 'days cameras', 'days charger', 'days charging', 'days day', 'days delivery', 'days didn', 'days does', 'days don', 'days dont', 'days excellent', 'days feel', 'days fully', 'days getting', 'days good', 'days got', 'days issues', 'days just', 'days k8', 'days kind', 'days lenovo', 'days little', 'days low', 'days meaning', 'days mobile', 'days normal', 'days old', 'days performance', 'days phone', 'days problem', 'days problems', 'days pros', 'days purchase', 'days purchased', 'days really', 'days repair', 'days replaced', 'days replacement', 'days return', 'days screen', 'days started', 'days suddenly', 'days takes', 'days time', 'days took', 'days tried', 'days usage', 'days use', 'days used', 'days using', 'days won', 'days working', 'days worst', 'days writing', 'dead arrival', 'dead days', 'dead just', 'dead manually', 'deal price', 'deal worth', 'dear sir', 'debit card', 'deca core', 'deca processor', 'decacore processer', 'decacore processor', 'decent battery', 'decent buy', 'decent camera', 'decent look', 'decent mobile', 'decent performance', 'decent phone', 'decent specs', 'decent speed', 'decide buy', 'decide recommend', 'decided buy', 'decision amazon', 'decision bought', 'decision buy', 'decision buying', 'decreases took', 'dedicated card', 'dedicated memory', 'dedicated music', 'dedicated sd', 'dedicated sdcard', 'dedicated slot', 'deep mode', 'default app', 'default apps', 'default gallery', 'default recording', 'default ringtone', 'default storage', 'default video', 'defect device', 'defect lenovo', 'defect like', 'defect mobile', 'defected piece', 'defective amazon', 'defective charger', 'defective item', 'defective models', 'defective peace', 'defective peice', 'defective phone', 'defective piece', 'defective pieces', 'defective product', 'defective products', 'defective speakers', 'definitely recommend', 'definitely recommended', 'definitely won', 'definitely worth', 'definition game', 'degree battery', 'degree celcius', 'degree celsius', 'degree customer', 'degree ear', 'delay delivery', 'delay lenovo', 'delete option', 'delicate screen', 'delivered defective', 'delivered expected', 'delivered faulty', 'delivered good', 'delivered product', 'delivered time', 'delivered today', 'delivering days', 'delivering product', 'delivery amazon', 'delivery bad', 'delivery best', 'delivery boy', 'delivery date', 'delivery day', 'delivery experience', 'delivery fast', 'delivery good', 'delivery great', 'delivery guy', 'delivery late', 'delivery lenovo', 'delivery like', 'delivery man', 'delivery mobile', 'delivery nice', 'delivery option', 'delivery overall', 'delivery person', 'delivery phone', 'delivery product', 'delivery really', 'delivery received', 'delivery service', 'delivery services', 'delivery speed', 'delivery thank', 'delivery thanks', 'delivery time', 'delivery value', 'delivery week', 'depend usages', 'depending mood', 'dept mode', 'depth camera', 'depth editor', 'depth effect', 'depth effects', 'depth enable', 'depth enabled', 'depth feature', 'depth field', 'depth mode', 'depth sensing', 'depth sensor', 'deserve star', 'deserves star', 'design battery', 'design better', 'design good', 'design nice', 'design perfect', 'design phone', 'design quite', 'design screen', 'design software', 'design worth', 'despite 4000mah', 'despite having', 'deta hai', 'details given', 'details just', 'details lenovo', 'dete hai', 'detect primary', 'detect smart', 'detected pc', 'develop camera', 'device 4k', 'device appreciate', 'device battery', 'device bit', 'device camera', 'device chromecast', 'device day', 'device device', 'device display', 'device does', 'device doesn', 'device don', 'device fast', 'device fault', 'device faulty', 'device feels', 'device gets', 'device getting', 'device good', 'device got', 'device heat', 'device heating', 'device heats', 'device high', 'device hot', 'device issues', 'device just', 'device k8', 'device lenovo', 'device like', 'device look', 'device looking', 'device memory', 'device months', 'device music', 'device need', 'device option', 'device perfect', 'device phone', 'device poor', 'device premium', 'device price', 'device problem', 'device provide', 'device really', 'device return', 'device running', 'device satisfied', 'device screen', 'device service', 'device started', 'device stopped', 'device super', 'device switched', 'device takes', 'device taking', 'device use', 'device used', 'device using', 'device won', 'device working', 'devices battery', 'devices connected', 'did cover', 'did factory', 'did help', 'did like', 'did nt', 'did provide', 'did purchased', 'did receive', 'did received', 'did research', 'did work', 'did working', 'didn blink', 'didn earphones', 'didn expect', 'didn face', 'didn faced', 'didn got', 'didn head', 'didn issue', 'didn know', 'didn like', 'didn liked', 'didn meet', 'didn play', 'didn provide', 'didn receive', 'didn received', 'didn respond', 'didn solve', 'didn use', 'didn work', 'didnt phone', 'didnt receive', 'didnt update', 'dies fast', 'dies half', 'difference battery', 'difference dolby', 'difference moto', 'different apps', 'different phones', 'different sims', 'difficult delete', 'difficult device', 'difficult hold', 'difficult operate', 'difficult use', 'dim light', 'din baad', 'dint like', 'directly glad', 'dis mobile', 'dis product', 'disadvantage good', 'disadvantage phone', 'disappointed amazon', 'disappointed basic', 'disappointed battery', 'disappointed bit', 'disappointed buying', 'disappointed camera', 'disappointed dolby', 'disappointed dont', 'disappointed heating', 'disappointed just', 'disappointed k8', 'disappointed large', 'disappointed lenovo', 'disappointed lot', 'disappointed mobile', 'disappointed network', 'disappointed packing', 'disappointed performance', 'disappointed phone', 'disappointed problem', 'disappointed product', 'disappointed purchase', 'disappointed purchasing', 'disappointed say', 'disappointed time', 'disappointed update', 'disappointed worst', 'disappointing brand', 'disappointing experience', 'disappointing features', 'disappointing poor', 'disappointing product', 'disappointment lenovo', 'disappointment phone', 'disaster phone', 'discharge battery', 'discharge fast', 'discharge ho', 'discharge soon', 'discharge turbo', 'discharged fast', 'discharged hours', 'discharges fast', 'discharges quickly', 'discharging fast', 'discharging minutes', 'discharging quickly', 'discharging soon', 'disconnected frequently', 'disconnected problem', 'disconnecting feet', 'discount 1000', 'discount 2000', 'discount price', 'disgusting phone', 'disgusting product', 'display awesome', 'display battery', 'display blank', 'display blinking', 'display brightness', 'display broken', 'display camera', 'display cast', 'display clarity', 'display color', 'display contacts', 'display cracked', 'display damaged', 'display don', 'display failure', 'display fast', 'display flickering', 'display gone', 'display good', 'display gorilla', 'display got', 'display great', 'display internet', 'display issue', 'display k8', 'display lag', 'display light', 'display little', 'display look', 'display looks', 'display network', 'display nice', 'display perfect', 'display performance', 'display pixel', 'display poor', 'display problem', 'display quality', 'display quite', 'display screen', 'display sharp', 'display smooth', 'display sound', 'display speaker', 'display super', 'display touch', 'display video', 'display white', 'display working', 'dissappointed product', 'dissatisfied lenovo', 'dissatisfied phone', 'dissatisfied product', 'distorted sound', 'distorted time', 'diwali offer', 'diwali sale', 'diya hai', 'dnt buy', 'dnt use', 'dobly atmos', 'does allow', 'does average', 'does battery', 'does better', 'does catch', 'does charge', 'does charged', 'does come', 'does connect', 'does contain', 'does day', 'does decent', 'does exist', 'does features', 'does feel', 'does fit', 'does gallery', 'does good', 'does great', 'does hang', 'does heat', 'does hours', 'does important', 'does job', 'does lag', 'does like', 'does long', 'does look', 'does make', 'does matter', 'does meet', 'does power', 'does provide', 'does respond', 'does screen', 'does service', 'does start', 'does support', 'does switch', 'does usb', 'does want', 'does work', 'does works', 'doesn allow', 'doesn basic', 'doesn battery', 'doesn behave', 'doesn capture', 'doesn cast', 'doesn charge', 'doesn charges', 'doesn come', 'doesn connect', 'doesn contain', 'doesn day', 'doesn display', 'doesn feel', 'doesn gallery', 'doesn goes', 'doesn good', 'doesn half', 'doesn hang', 'doesn heat', 'doesn hold', 'doesn hours', 'doesn installed', 'doesn lag', 'doesn like', 'doesn long', 'doesn look', 'doesn looks', 'doesn make', 'doesn match', 'doesn meet', 'doesn open', 'doesn option', 'doesn perform', 'doesn performs', 'doesn provide', 'doesn really', 'doesn recording', 'doesn respond', 'doesn start', 'doesn support', 'doesn work', 'doesn working', 'doesn works', 'doesnt day', 'doesnt support', 'doesnt work', 'doing great', 'doing multitasking', 'dolby atmos', 'dolby atmosphere', 'dolby atom', 'dolby atomos', 'dolby atoms', 'dolby audio', 'dolby effect', 'dolby effects', 'dolby good', 'dolby just', 'dolby music', 'dolby sound', 'dolby sounds', 'dolby speaker', 'dolby speakers', 'dolby working', 'dollby atmos', 'don accept', 'don amazon', 'don apps', 'don basic', 'don battery', 'don believe', 'don better', 'don buy', 'don bye', 'don care', 'don charge', 'don cheated', 'don earphone', 'don expect', 'don feel', 'don forget', 'don gallery', 'don good', 'don internet', 'don issues', 'don know', 'don lenovo', 'don like', 'don mobile', 'don need', 'don negative', 'don option', 'don phone', 'don play', 'don problems', 'don product', 'don purchase', 'don receive', 'don recommend', 'don respond', 'don stock', 'don suggest', 'don support', 'don think', 'don time', 'don trust', 'don understand', 'don update', 'don use', 'don want', 'don waste', 'don west', 'don work', 'don worry', 'donate money', 'donot buy', 'dont buy', 'dont bye', 'dont care', 'dont expect', 'dont know', 'dont like', 'dont make', 'dont mobile', 'dont phone', 'dont prefer', 'dont purchase', 'dont recommend', 'dont think', 'dont want', 'dont waste', 'double camera', 'double sim', 'double tap', 'doubt battery', 'doubt best', 'doubt good', 'download app', 'download application', 'download apps', 'download google', 'download mobile', 'download speed', 'downloading speed', 'drain battery', 'drain camera', 'drain fast', 'drain faster', 'drain fastly', 'drain high', 'drain hours', 'drain idle', 'drain issue', 'drain issues', 'drain months', 'drain network', 'drain problem', 'drain quickly', 'drain rapidly', 'drain soon', 'drain time', 'drain update', 'drain using', 'drainage camera', 'drainage fast', 'drainage issue', 'drainage issues', 'drainage problem', 'drainage slow', 'drained battery', 'drained early', 'drained fast', 'drained faster', 'drained frequently', 'drained hours', 'drained just', 'drained quickly', 'draining 10', 'draining 100', 'draining battery', 'draining camera', 'draining charging', 'draining fast', 'draining fast2', 'draining faster', 'draining fastly', 'draining idle', 'draining issue', 'draining issues', 'draining just', 'draining like', 'draining poor', 'draining problem', 'draining quickly', 'draining rapidly', 'drains 100', 'drains 12', 'drains battery', 'drains bit', 'drains fast', 'drains fast3', 'drains faster', 'drains fastly', 'drains half', 'drains hours', 'drains hrs', 'drains just', 'drains like', 'drains little', 'drains lot', 'drains quick', 'drains quickly', 'drains quite', 'drains rapidly', 'drains soon', 'drains standby', 'draning fast', 'drastically calling', 'drawback camera', 'drawback heating', 'drawback phone', 'drawback turbo', 'drop playing', 'drop unexpectedly', 'drops heating', 'dslr like', 'dual 4g', 'dual app', 'dual apps', 'dual cam', 'dual camera', 'dual cameras', 'dual depth', 'dual led', 'dual mode', 'dual nano', 'dual rear', 'dual sim', 'dual speaker', 'dual speakers', 'dual stand', 'dual standby', 'duel camera', 'dule camera', 'dumb phone', 'duplicate charger', 'duplicate phone', 'duplicate product', 'dust resistant', 'e4 plus', 'eagerly waiting', 'ear bear', 'ear hazardous', 'ear make', 'ear phone', 'ear phones', 'ear piece', 'ear speaker', 'ear talking', 'earlier lenovo', 'earlier phone', 'earlier phones', 'earlier product', 'earlier using', 'earlier versions', 'early battery', 'early possible', 'earned money', 'earphone box', 'earphone camera', 'earphone given', 'earphone jack', 'earphone missing', 'earphone package', 'earphone phone', 'earphone plug', 'earphone received', 'earphone set', 'earphone socket', 'earphone sound', 'earphone supplied', 'earphones available', 'earphones box', 'earphones fitting', 'earphones good', 'earphones headphones', 'earphones mobile', 'earphones provided', 'earphones sim', 'earphones sound', 'earpiece volume', 'earth customer', 'earth don', 'easily day', 'easily mobile', 'easy access', 'easy battery', 'easy handle', 'easy mobile', 'easy operate', 'easy use', 'edge detection', 'edges object', 'edges screen', 'edges subject', 'edit photo', 'edit pictures', 'effect bad', 'effect best', 'effect camera', 'effect dual', 'effect good', 'effect lenovo', 'effect looks', 'effect mark', 'effect poor', 'effect proper', 'effect working', 'effect works', 'effort lenovo', 'ek dum', 'ek feature', 'ekdum bakwas', 'electronic items', 'elegant look', 'email id', 'enable mode', 'enable option', 'enabled camera', 'enabled feature', 'enabled mode', 'enabled option', 'end day', 'end games', 'end phones', 'end user', 'engineer visited', 'engineers noticed', 'enhanced performance', 'enhancement home', 'enjoy using', 'enquired abt', 'entire day', 'equally good', 'equipped features', 'equivalent 5mp', 'error message', 'especially battery', 'especially camera', 'especially connected', 'especially depth', 'especially lenovo', 'especially use', 'evening normal', 'everyday new', 'everytime try', 'everytime use', 'excellent battery', 'excellent camera', 'excellent cameras', 'excellent device', 'excellent display', 'excellent dolby', 'excellent dual', 'excellent excellent', 'excellent experience', 'excellent feature', 'excellent features', 'excellent good', 'excellent heating', 'excellent mobile', 'excellent music', 'excellent nice', 'excellent overall', 'excellent performance', 'excellent phone', 'excellent piece', 'excellent price', 'excellent product', 'excellent quality', 'excellent rear', 'excellent respect', 'excellent service', 'excellent specially', 'excellent stock', 'excellent storage', 'excellent superb', 'excellent touch', 'excellent value', 'excellent working', 'excellent worth', 'exceptionally good', 'excessive heating', 'exchange mobile', 'exchange model', 'exchange offer', 'exchange phone', 'exchange product', 'exchange value', 'exchanging product', 'excited buy', 'exhausted fast', 'expect amazon', 'expect camera', 'expect charger', 'expect dual', 'expect features', 'expect good', 'expect phone', 'expect quality', 'expect type', 'expectation battery', 'expectations camera', 'expectations good', 'expectations great', 'expectations high', 'expectations lenovo', 'expectations mark', 'expectations went', 'expectations worth', 'expected 4000', 'expected amazon', 'expected battery', 'expected better', 'expected brand', 'expected camera', 'expected features', 'expected good', 'expected heating', 'expected lenovo', 'expected level', 'expected mobile', 'expected phone', 'expected planning', 'expected really', 'expected rear', 'expected thought', 'expected time', 'expected worst', 'expecting better', 'expecting camera', 'expecting lenovo', 'expecting new', 'expecting quality', 'experience amazon', 'experience bad', 'experience battery', 'experience best', 'experience buy', 'experience camera', 'experience cons', 'experience delivery', 'experience dolby', 'experience don', 'experience good', 'experience got', 'experience heating', 'experience hv', 'experience k8', 'experience lenevo', 'experience lenovo', 'experience life', 'experience mobile', 'experience nice', 'experience phone', 'experience product', 'experience purchase', 'experience purchasing', 'experience return', 'experience returning', 'experience service', 'experience smooth', 'experience stock', 'experience tis', 'experience using', 'experience value', 'experience waste', 'express delivery', 'extended warranty', 'extensive usage', 'external apps', 'external media', 'external memory', 'external sd', 'external speakers', 'extra day', 'extra features', 'extra memory', 'extra moto', 'extra music', 'extra ordinary', 'extra sd', 'extraordinary battery', 'extraordinary features', 'extremely bad', 'extremely disappointed', 'extremely dissatisfied', 'extremely poor', 'extremely powerful', 'extremely satisfied', 'extremely slow', 'extremely unsatisfied', 'fabulous fantastic', 'fabulous mobile', 'fabulous phone', 'face battery', 'face book', 'face camera', 'face detection', 'face heating', 'face issue', 'face lot', 'face problem', 'face unlock', 'facebook instagram', 'facebook whatsapp', 'faced battery', 'faced charging', 'faced days1', 'faced hanging', 'faced heating', 'faced issue', 'faced issues', 'faced network', 'faced problem', 'faced problems', 'faced single', 'faced users', 'facility available', 'facility good', 'facility loved', 'facing battery', 'facing big', 'facing camera', 'facing charging', 'facing day', 'facing display', 'facing following', 'facing heating', 'facing issue', 'facing issues', 'facing lot', 'facing network', 'facing phone', 'facing problem', 'facing problems', 'factor good', 'factory reset', 'fail mobile', 'failure mobile', 'fairly good', 'fake 4000', 'fake app', 'fake dolby', 'fake dual', 'fake mobile', 'fake phone', 'fake promise', 'fake review', 'fall ft', 'fall hand', 'family thought', 'fan lenovo', 'fantastic display', 'fantastic mobile', 'fantastic phone', 'fantastic product', 'fantastic value', 'far battery', 'far best', 'far better', 'far far', 'far good', 'far happy', 'far issues', 'far lenovo', 'far user', 'far using', 'fast 10', 'fast 100', 'fast 15', 'fast 4000', 'fast 4000mah', 'fast able', 'fast accurate', 'fast apps', 'fast awesome', 'fast bad', 'fast battery', 'fast best', 'fast better', 'fast camera', 'fast cast', 'fast charge', 'fast charged', 'fast charger', 'fast charging', 'fast charing', 'fast compare', 'fast compared', 'fast day', 'fast deca', 'fast delivery', 'fast device', 'fast didn', 'fast difficult', 'fast disappointed', 'fast discharge', 'fast discharging', 'fast display', 'fast doesn', 'fast don', 'fast drain', 'fast draining', 'fast dual', 'fast excellent', 'fast fast', 'fast finger', 'fast fingerprint', 'fast furious', 'fast gets', 'fast getting', 'fast good', 'fast google', 'fast great', 'fast hang', 'fast heating', 'fast help', 'fast hour', 'fast hrs', 'fast idle', 'fast inspite', 'fast just', 'fast kept', 'fast kindly', 'fast lags', 'fast lenovo', 'fast lens', 'fast like', 'fast low', 'fast mobile', 'fast network', 'fast normal', 'fast overall', 'fast performance', 'fast phone', 'fast poor', 'fast processing', 'fast processor', 'fast proper', 'fast rear', 'fast response', 'fast rest', 'fast screen', 'fast shipping', 'fast slow', 'fast software', 'fast sound', 'fast speed', 'fast stand', 'fast standby', 'fast takes', 'fast think', 'fast time', 'fast took', 'fast touch', 'fast turbo', 'fast update', 'fast usage', 'fast use', 'fast using', 'fast won', 'fast work', 'fast working', 'fast worth', 'faster battery', 'faster camera', 'faster expected', 'faster overall', 'faster rate', 'fastly charge', 'fastly charging', 'fastly drained', 'father law', 'fault lenovo', 'fault mobile', 'faulty charger', 'faulty device', 'faulty mobile', 'faulty phone', 'faulty piece', 'faulty product', 'fb messenger', 'feature available', 'feature awesome', 'feature battery', 'feature camera', 'feature cast', 'feature depth', 'feature does', 'feature doesn', 'feature features', 'feature gets', 'feature good', 'feature great', 'feature just', 'feature lenovo', 'feature like', 'feature low', 'feature missing', 'feature mobile', 'feature nice', 'feature overall', 'feature phone', 'feature quite', 'feature really', 'feature recording', 'feature rich', 'feature wise', 'feature work', 'feature working', 'featured phone', 'features added', 'features affordable', 'features amazon', 'features available', 'features awesome', 'features bad', 'features battery', 'features best', 'features budget', 'features built', 'features camera', 'features come', 'features compare', 'features compared', 'features cons', 'features doesn', 'features dual', 'features excellent', 'features existing', 'features given', 'features good', 'features great', 'features having', 'features just', 'features k3', 'features k4', 'features k8', 'features killer', 'features lenovo', 'features like', 'features looking', 'features low', 'features mark', 'features mean', 'features mentioned', 'features missing', 'features mobile', 'features network', 'features nice', 'features ok', 'features overall', 'features paper', 'features perfect', 'features performance', 'features phone', 'features phones', 'features poor', 'features present', 'features price', 'features provided', 'features rate', 'features really', 'features reasonable', 'features screen', 'features set', 'features smartphone', 'features speaker', 'features specifications', 'features steal', 'features superb', 'features thanks', 'features user', 'features want', 'features wise', 'features working', 'features worth', 'february 2018', 'feel amazon', 'feel bad', 'feel bit', 'feel changes', 'feel cheated', 'feel dolby', 'feel good', 'feel heat', 'feel heating', 'feel hold', 'feel lag', 'feel lenovo', 'feel like', 'feel phone', 'feel premium', 'feeling bad', 'feeling bitter', 'feeling cheated', 'feeling heat', 'feeling like', 'feeling little', 'feeling regret', 'feels bit', 'feels good', 'feels like', 'feels little', 'feels premium', 'feels warm', 'feet display', 'feet height', 'feet range', 'fell feet', 'fell free', 'fell just', 'fell love', 'felt bad', 'felt cheated', 'felt like', 'felt till', 'fetures good', 'fetures like', 'fi data', 'figure issue', 'file manager', 'files memory', 'final verdict', 'finally brought', 'finally don', 'finally lenovo', 'finally product', 'finally returned', 'fine battery', 'fine camera', 'fine cons', 'fine days', 'fine fast', 'fine features', 'fine gold', 'fine good', 'fine hd', 'fine heating', 'fine issues', 'fine just', 'fine like', 'fine low', 'fine mobile', 'fine overall', 'fine performance', 'fine phone', 'fine problem', 'fine quality', 'fine sim', 'fine till', 'fine turbo', 'fine want', 'fine working', 'finger print', 'finger scanner', 'finger sensor', 'fingerprint fast', 'fingerprint good', 'fingerprint pattern', 'fingerprint scanner', 'fingerprint sensor', 'finish good', 'finish performance', 'finishing body', 'fit properly', 'fitting lenovo', 'fitting properly', 'fix camera', 'fix issue', 'fix issues', 'fix problem', 'fix problems', 'fix software', 'fix update', 'fixed software', 'fixed update', 'fixes issues', 'flash 13', 'flash battery', 'flash better', 'flash camera', 'flash cameras', 'flash dedicated', 'flash does', 'flash extra', 'flash flash', 'flash good', 'flash great', 'flash light', 'flash like', 'flash low', 'flash nice', 'flash option', 'flash perform', 'flash poor', 'flash quality', 'flash sale', 'flash sell', 'flash turbo', 'flash works', 'flashlight good', 'flickering horizontal', 'flight mode', 'flip cover', 'flop mobile', 'fluctuating battary', 'fluctuating time', 'focus adjust', 'focus depth', 'focus good', 'focus object', 'focus properly', 'focus time', 'following issues', 'following problems', 'follows foot', 'fone good', 'fone range', 'fool buyers', 'fool customer', 'fool people', 'fooling customers', 'foot print', 'force stop', 'forget dual', 'forget phone', 'form amazon', 'form lenovo', 'format phone', 'frame drop', 'frame drops', 'frankly speaking', 'fraud app', 'free comment', 'free phone', 'free poor', 'free transparent', 'frequent restarts', 'frequent updates', 'frequently battery', 'frequently disconnecting', 'frequently don', 'frequently getting', 'frequently phone', 'friend bought', 'friendly lenovo', 'friendly like', 'friendly mobile', 'friendly phone', 'friends believe', 'friends don', 'friends mobile', 'ft glass', 'ft height', 'fulfill expectations', 'fully charge', 'fully charged', 'fully disappointed', 'fully loaded', 'fully mobile', 'fully month', 'fully satisfied', 'fully waste', 'function available', 'function calling', 'function camera', 'function does', 'function doesn', 'function good', 'function like', 'function phone', 'function properly', 'function working', 'functional camera', 'functionalities like', 'functionality working', 'functioning cast', 'functioning good', 'functioning properly', 'functioning smooth', 'functions good', 'functions like', 'functions phone', 'functions working', 'funny earth', 'furious heating', 'future good', 'future lenovo', 'future phone', 'future purchase', 'future updates', 'futures notification', 'g4 plus', 'g5 plus', 'g5s plus', 'gallary app', 'gallery app', 'gallery automatic', 'gallery available', 'gallery battery', 'gallery don', 'gallery file', 'gallery google', 'gallery missing', 'gallery mobile', 'gallery music', 'gallery option', 'gallery options', 'gallery phone', 'gallery ringtone', 'gallery store', 'gallery video', 'gallery view', 'galleryonly wall', 'game 100', 'game changer', 'game heated', 'game high', 'game lags', 'game like', 'game lovers', 'game performance', 'game phone', 'game play', 'game playing', 'game running', 'game using', 'game video', 'games apps', 'games battery', 'games camera', 'games charging', 'games deca', 'games display', 'games does', 'games don', 'games easily', 'games good', 'games heavy', 'games internet', 'games lag', 'games like', 'games long', 'games opening', 'games played', 'games playing', 'games use', 'games wifi', 'gaming apps', 'gaming better', 'gaming camera', 'gaming downloading', 'gaming experience', 'gaming good', 'gaming heats', 'gaming just', 'gaming like', 'gaming media', 'gaming performance', 'gaming phone', 'gaming smooth', 'garam ho', 'garm ho', 'gas burner', 'gave good', 'gave phone', 'gave service', 'gave star', 'gave stars', 'gb available', 'gb camera', 'gb free', 'gb good', 'gb internal', 'gb memory', 'gb mobile', 'gb ram', 'gb rom', 'gb storage', 'gb sufficient', 'gb used', 'gb variants', 'gb varient', 'gd bad', 'gd battery', 'gd product', 'geeting hot', 'genuine price', 'genuine product', 'genuine review', 'gets blur', 'gets blurred', 'gets charged', 'gets connected', 'gets discharged', 'gets disconnected', 'gets distorted', 'gets drain', 'gets drained', 'gets exhausted', 'gets fully', 'gets hang', 'gets hanged', 'gets hangs', 'gets heat', 'gets heated', 'gets heating', 'gets hot', 'gets hung', 'gets laggy', 'gets little', 'gets lost', 'gets low', 'gets overheated', 'gets restarted', 'gets slow', 'gets slower', 'gets switched', 'gets touched', 'gets warm', 'gets warmed', 'gets warmer', 'getting bars', 'getting battery', 'getting bit', 'getting blurred', 'getting charge', 'getting charged', 'getting connected', 'getting discharge', 'getting discharged', 'getting disconnected', 'getting drain', 'getting drained', 'getting fully', 'getting good', 'getting hang', 'getting hanged', 'getting hanging', 'getting heat', 'getting heated', 'getting heating', 'getting heatup', 'getting high', 'getting highly', 'getting hot', 'getting hours', 'getting issues', 'getting lot', 'getting low', 'getting missed', 'getting new', 'getting oreo', 'getting overheat', 'getting overheated', 'getting overheating', 'getting phone', 'getting problem', 'getting refund', 'getting regular', 'getting replacement', 'getting saved', 'getting scratches', 'getting signal', 'getting slow', 'getting struck', 'getting stuck', 'getting switch', 'getting time', 'getting turned', 'getting update', 'getting warm', 'getting weak', 'getting worse', 'getting worst', 'getting yellow', 'ghatiya mobile', 'ghatiya phone', 'ghatiya product', 'ghatiya service', 'ghtiya phone', 'gimmick don', 'given amazon', 'given best', 'given company', 'given default', 'given features', 'given given', 'given good', 'given k8', 'given lenovo', 'given mobile', 'given phone', 'given price', 'given product', 'given specifications', 'given star', 'given stars', 'given time', 'given turbo', 'gives backup', 'gives better', 'gives day', 'gives days', 'gives good', 'gives hrs', 'gives message', 'giving automatic', 'giving backup', 'giving battery', 'giving good', 'giving option', 'giving performance', 'giving problem', 'giving problems', 'giving proper', 'giving rating', 'giving refund', 'giving review', 'giving star', 'giving stars', 'glad assist', 'glass break', 'glass broke', 'glass broken', 'glass cover', 'glass cracked', 'glass did', 'glass display', 'glass fake', 'glass genuine', 'glass good', 'glass gorilla', 'glass got', 'glass just', 'glass lenovo', 'glass mobile', 'glass phone', 'glass protection', 'glass quality', 'glass scratches', 'glass screen', 'glass simply', 'glass touch', 'glassbut glass', 'gmail com', 'god help', 'god knows', 'goes 100', 'goes 15', 'goes automatically', 'goes blank', 'goes day', 'goes dead', 'goes quickly', 'goes sleep', 'goes stock', 'goes zero', 'going buy', 'going good', 'going happen', 'going heat', 'going heating', 'going offline', 'going phone', 'going return', 'gold 4gb', 'gold color', 'gold good', 'gold mobile', 'gone dead', 'gone phone', 'gone switched', 'gone way', 'gonna buy', 'good 10', 'good 12', 'good 13', 'good 4000mah', 'good 4g', 'good able', 'good according', 'good amazon', 'good android', 'good aspects', 'good audio', 'good auto', 'good available', 'good average', 'good awesome', 'good backup', 'good bad', 'good basic', 'good battery', 'good best', 'good betry', 'good better', 'good bettery', 'good bluetooth', 'good blur', 'good bokeh', 'good box', 'good brightness', 'good broken', 'good bt', 'good bty', 'good budget', 'good bugs', 'good build', 'good built', 'good buttons', 'good buy', 'good buying', 'good called', 'good calling', 'good cam', 'good camera', 'good cameras', 'good case', 'good cast', 'good cellphone', 'good charge', 'good charged', 'good charger', 'good charging', 'good choice', 'good claim', 'good claiming', 'good clarity', 'good clear', 'good come', 'good comes', 'good comfortable', 'good coming', 'good comments', 'good company', 'good compare', 'good compared', 'good comparison', 'good condition', 'good configuration', 'good connect', 'good connectivity', 'good cons', 'good constant', 'good consumes', 'good copmare', 'good cost', 'good cover', 'good customer', 'good day', 'good days', 'good deal', 'good decent', 'good dedicated', 'good delivered', 'good delivery', 'good depth', 'good described', 'good describes', 'good description', 'good design', 'good details', 'good device', 'good didn', 'good disappointed', 'good display', 'good dnt', 'good does', 'good doesn', 'good dolby', 'good don', 'good dont', 'good doubt', 'good draining', 'good drains', 'good draw', 'good drawback', 'good dual', 'good duel', 'good earphone', 'good easy', 'good especially', 'good excellent', 'good exchange', 'good expect', 'good expectations', 'good expected', 'good expecting', 'good experience', 'good facing', 'good fake', 'good far', 'good fast', 'good faster', 'good feature', 'good features', 'good feel', 'good feeling', 'good feels', 'good fine', 'good finger', 'good fingerprint', 'good flash', 'good fone', 'good fully', 'good functions', 'good future', 'good gallery', 'good game', 'good games', 'good gaming', 'good gb', 'good gets', 'good getting', 'good given', 'good giving', 'good good', 'good gorilla', 'good got', 'good great', 'good guys', 'good hand', 'good handle', 'good handling', 'good handset', 'good handy', 'good hang', 'good hanging', 'good hangs', 'good happy', 'good hardware', 'good haven', 'good having', 'good hd', 'good head', 'good headphone', 'good headset', 'good heard', 'good heat', 'good heating', 'good heats', 'good heavy', 'good help', 'good heting', 'good high', 'good hitting', 'good hold', 'good holding', 'good honor', 'good hot', 'good hrs', 'good hyped', 'good images', 'good initially', 'good internal', 'good internet', 'good isme', 'good issue', 'good issues', 'good item', 'good jio', 'good job', 'good just', 'good k4', 'good k8', 'good killer', 'good know', 'good lack', 'good lag', 'good lagging', 'good latest', 'good led', 'good lenovo', 'good light', 'good like', 'good lit', 'good little', 'good look', 'good looking', 'good looks', 'good lot', 'good loud', 'good love', 'good loved', 'good low', 'good luck', 'good main', 'good major', 'good make', 'good mark', 'good means', 'good memory', 'good mentioned', 'good mi', 'good miss', 'good mobil', 'good mobile', 'good mobiles', 'good model', 'good money', 'good months', 'good morning', 'good moto', 'good multiple', 'good multitasking', 'good music', 'good nd', 'good need', 'good needs', 'good net', 'good network', 'good new', 'good nice', 'good normal', 'good note', 'good number', 'good ok', 'good okay', 'good old', 'good online', 'good open', 'good operating', 'good option', 'good options', 'good ordered', 'good overall', 'good overheat', 'good overheating', 'good package', 'good packing', 'good paper', 'good papers', 'good people', 'good perfect', 'good performance', 'good performing', 'good personally', 'good ph', 'good phone', 'good phonegood', 'good phones', 'good photo', 'good photos', 'good pics', 'good picture', 'good pictures', 'good play', 'good playing', 'good poor', 'good portrait', 'good power', 'good previous', 'good price', 'good primary', 'good problem', 'good problems', 'good processing', 'good processor', 'good product', 'good products', 'good protect', 'good provide', 'good purchase', 'good qualities', 'good quality', 'good quick', 'good quite', 'good ram', 'good range', 'good rate', 'good rating', 'good really', 'good rear', 'good reasonable', 'good received', 'good recommend', 'good record', 'good recorder', 'good recording', 'good redmi', 'good rest', 'good result', 'good reviews', 'good rough', 'good running', 'good samsung', 'good satisfactory', 'good satisfied', 'good say', 'good says', 'good scratch', 'good screen', 'good second', 'good selfi', 'good selfie', 'good selfies', 'good seller', 'good service', 'good set', 'good shown', 'good sim', 'good single', 'good sleek', 'good slim', 'good small', 'good smart', 'good smartphone', 'good smooth', 'good soft', 'good software', 'good sound', 'good sounds', 'good speaker', 'good speakers', 'good specially', 'good specification', 'good specifications', 'good specs', 'good speed', 'good split', 'good started', 'good stock', 'good stylish', 'good suddenly', 'good suggest', 'good suggested', 'good sunlight', 'good superb', 'good support', 'good switch', 'good takes', 'good talk', 'good terms', 'good thank', 'good thanks', 'good thing', 'good things', 'good think', 'good thought', 'good till', 'good time', 'good total', 'good totally', 'good touch', 'good tried', 'good trust', 'good try', 'good turbo', 'good ui', 'good unable', 'good unhappy', 'good update', 'good updating', 'good upto', 'good ur', 'good use', 'good used', 'good useful', 'good user', 'good using', 'good value', 'good video', 'good voice', 'good volte', 'good volume', 'good waiting', 'good want', 'good waste', 'good way', 'good wish', 'good work', 'good working', 'good works', 'good worst', 'good worth', 'good wrong', 'good year', 'good yellow', 'good2 camera', 'goodbut battery', 'goodonly problem', 'goodrear camera', 'google account', 'google app', 'google apps', 'google assistant', 'google chrome', 'google chromecast', 'google drive', 'google lenovo', 'google music', 'google photo', 'google photos', 'google play', 'gorilla glass', 'gorilla screen', 'gorrila glass', 'gorrilla glass', 'got 10', 'got 10k', 'got 11k', 'got amazing', 'got amazon', 'got android', 'got awesome', 'got bad', 'got best', 'got blurred', 'got broken', 'got cash', 'got charger', 'got cheated', 'got cracked', 'got crashed', 'got damaged', 'got day', 'got dead', 'got defected', 'got defective', 'got delivered', 'got delivery', 'got device', 'got discount', 'got display', 'got earphone', 'got expected', 'got faulty', 'got frustrated', 'got good', 'got hanged', 'got heat', 'got heated', 'got heating', 'got issues', 'got k8', 'got know', 'got lenovo', 'got major', 'got mobile', 'got new', 'got oreo', 'got phone', 'got problem', 'got product', 'got refund', 'got refunded', 'got replaced', 'got replacement', 'got rs', 'got sale', 'got scratch', 'got scratches', 'got shattered', 'got software', 'got stuck', 'got switched', 'got time', 'got today', 'got update', 'got updates', 'gr8 phone', 'graphic game', 'graphic games', 'graphic intensive', 'graphics games', 'graphics good', 'great according', 'great amazon', 'great bad', 'great battery', 'great best', 'great budget', 'great build', 'great built', 'great buy', 'great camera', 'great cameras', 'great comes', 'great day', 'great deal', 'great delivery', 'great device', 'great display', 'great doesn', 'great dual', 'great expectations', 'great expected', 'great experience', 'great feature', 'great features', 'great gaming', 'great good', 'great great', 'great heating', 'great hope', 'great indian', 'great issue', 'great job', 'great just', 'great looks', 'great loved', 'great low', 'great mediatek', 'great mistake', 'great mobile', 'great normal', 'great overall', 'great paisa', 'great performance', 'great phone', 'great picture', 'great pictures', 'great piece', 'great price', 'great problem', 'great processor', 'great product', 'great promised', 'great ram', 'great rear', 'great smartphone', 'great sound', 'great specifications', 'great specs', 'great speed', 'great thanks', 'great till', 'great time', 'great touch', 'great updates', 'great user', 'great using', 'great value', 'grip good', 'guard phone', 'gud battery', 'gud buy', 'gud camera', 'gud google', 'gud gud', 'gud low', 'gud mobile', 'gud phone', 'gud product', 'gud sound', 'gud speed', 'gud value', 'guess lenovo', 'guess normal', 'guess phone', 'guest mode', 'guys better', 'guys buy', 'guys careful', 'guys don', 'guys phone', 'guys really', 'guys update', 'guys using', 'guys worst', 'gya hai', 'gya tha', 'hai aisa', 'hai amazon', 'hai app', 'hai aur', 'hai battery', 'hai bhai', 'hai camera', 'hai don', 'hai good', 'hai isse', 'hai jaise', 'hai ki', 'hai koi', 'hai kya', 'hai lenovo', 'hai maine', 'hai mera', 'hai mere', 'hai mobile', 'hai mujhe', 'hai par', 'hai phone', 'hai wo', 'hai ye', 'half cooked', 'half day', 'half days', 'half hour', 'half meter', 'half month', 'half price', 'hand broken', 'hand buy', 'hand feels', 'hand mobile', 'hand mode', 'hand operation', 'hand phone', 'hand set', 'hand simple', 'hand users', 'handle phone', 'hands free', 'handset bad', 'handset bluetooth', 'handset box', 'handset doesn', 'handset features', 'handset gets', 'handset getting', 'handset giving', 'handset good', 'handset got', 'handset heat', 'handset heated', 'handset hope', 'handset lenovo', 'handset loved', 'handset months', 'handset nice', 'handset piece', 'handset price', 'handset received', 'handset usb', 'handsets shows', 'handy smooth', 'handy upto', 'handy use', 'hang automatically', 'hang battery', 'hang camera', 'hang far', 'hang frequently', 'hang good', 'hang heat', 'hang heavy', 'hang ho', 'hang hota', 'hang issue', 'hang issues', 'hang like', 'hang mobile', 'hang observed', 'hang overall', 'hang playing', 'hang problem', 'hang switch', 'hang till', 'hang time', 'hang times', 'hang use', 'hanged camera', 'hanged time', 'hanging badly', 'hanging battery', 'hanging big', 'hanging camera', 'hanging frequently', 'hanging heat', 'hanging heating', 'hanging issue', 'hanging issues', 'hanging lot', 'hanging mobile', 'hanging phone', 'hanging play', 'hanging playing', 'hanging problem', 'hanging problems', 'hanging slow', 'hanging sound', 'hanging switch', 'hanging time', 'hanging times', 'hanging using', 'hangout aap', 'hangs alot', 'hangs battery', 'hangs camera', 'hangs everytime', 'hangs frequently', 'hangs heating', 'hangs heats', 'hangs lags', 'hangs lot', 'hangs multiple', 'hangs phone', 'hangs time', 'happy amazon', 'happy battery', 'happy buy', 'happy buying', 'happy camera', 'happy decision', 'happy diwali', 'happy good', 'happy issues', 'happy lenovo', 'happy mobile', 'happy overall', 'happy performance', 'happy phone', 'happy product', 'happy purchase', 'happy service', 'happy shopping', 'happy thanks', 'happy using', 'hard case', 'hard core', 'hard cover', 'hard earned', 'hard time', 'hard use', 'hard work', 'hardly 10', 'hardly charges', 'hardly day', 'hardly getting', 'hardly hours', 'hardly lasts', 'hardly notice', 'hardly run', 'hardware better', 'hardware configuration', 'hardware good', 'hardware issue', 'hardware issues', 'hardware problem', 'hardware really', 'hardware software', 'hardware wise', 'hassle free', 'hate lenovo', 'hate return', 'hated product', 'haven come', 'haven faced', 'haven got', 'haven installed', 'haven received', 'having 4000', 'having 4000mah', 'having battery', 'having best', 'having called', 'having core', 'having days', 'having dolby', 'having dual', 'having features', 'having gb', 'having good', 'having gorilla', 'having hanging', 'having heat', 'having heating', 'having issue', 'having issues', 'having lot', 'having lots', 'having major', 'having network', 'having problem', 'having problems', 'having software', 'having turbo', 'having usage', 'having volte', 'havy use', 'hazardous health', 'hd display', 'hd quality', 'hd screen', 'hd video', 'hd videos', 'hdfc card', 'hdr mode', 'head phone', 'head phones', 'head set', 'headache problems', 'headphone available', 'headphone box', 'headphone does', 'headphone included', 'headphone jack', 'headphone missing', 'headphone mobile', 'headphone ok', 'headphone output', 'headphone working', 'headphones bit', 'headphones box', 'headphones device', 'headphones dolby', 'headphones included', 'headphones missing', 'headphones provided', 'headphones socket', 'headphones work', 'headphones working', 'headset box', 'headset connection', 'headset frequently', 'headset jack', 'headset missing', 'headset mobile', 'headset problem', 'headset provided', 'health performance', 'hear caller', 'hear clearly', 'hear person', 'hear phone', 'hear sound', 'hear voice', 'hearing issue', 'hearing problem', 'heat automatically', 'heat battery', 'heat browsing', 'heat charge', 'heat charging', 'heat don', 'heat easily', 'heat fast', 'heat generating', 'heat ho', 'heat hold', 'heat hurt', 'heat immediately', 'heat issue', 'heat issues', 'heat karta', 'heat like', 'heat lot', 'heat mobile', 'heat normal', 'heat phone', 'heat playing', 'heat problem', 'heat produced', 'heat quickly', 'heat slow', 'heat software', 'heat soon', 'heat temperature', 'heat think', 'heat time', 'heat update', 'heat use', 'heat using', 'heated battery', 'heated camera', 'heated charge', 'heated charging', 'heated drained', 'heated drastically', 'heated easily', 'heated everytime', 'heated fast', 'heated hangs', 'heated lenovo', 'heated like', 'heated little', 'heated mobile', 'heated normal', 'heated play', 'heated quickly', 'heated soon', 'heated time', 'heated turbo', 'heated use', 'heated using', 'heating 4g', 'heating abnormally', 'heating bad', 'heating battery', 'heating best', 'heating big', 'heating bit', 'heating bluetooth', 'heating browsing', 'heating camera', 'heating changing', 'heating charge', 'heating charging', 'heating don', 'heating double', 'heating draining', 'heating effect', 'heating fast', 'heating frequently', 'heating game', 'heating good', 'heating hang', 'heating hanging', 'heating heavy', 'heating high', 'heating highly', 'heating hold', 'heating huge', 'heating idle', 'heating issue', 'heating issue2', 'heating issues', 'heating issues2', 'heating lag', 'heating like', 'heating little', 'heating lot', 'heating low', 'heating makes', 'heating mobile', 'heating muchbattery', 'heating network', 'heating normal', 'heating ok', 'heating phone', 'heating playing', 'heating prblm', 'heating prob', 'heating problam', 'heating problem', 'heating problembattery', 'heating problems', 'heating process', 'heating quickly', 'heating return', 'heating short', 'heating signal', 'heating slow', 'heating taking', 'heating talk', 'heating temperature', 'heating time', 'heating times', 'heating unable', 'heating use', 'heating used', 'heating using', 'heating usual', 'heating working', 'heating worst', 'heats alot', 'heats battery', 'heats bit', 'heats camera', 'heats charging', 'heats fast', 'heats like', 'heats little', 'heats lot', 'heats mins', 'heats normal', 'heats playing', 'heats quickly', 'heats quite', 'heats rapidly', 'heats small', 'heats soon', 'heats time', 'heats unnecessarily', 'heats use', 'heats using', 'heatup battery', 'heatup like', 'heavier weight', 'heavy apps', 'heavy battery', 'heavy bulky', 'heavy camera', 'heavy compared', 'heavy dual', 'heavy duty', 'heavy game', 'heavy gamer', 'heavy games', 'heavy gaming', 'heavy graphics', 'heavy heat', 'heavy heating', 'heavy hold', 'heavy manageable', 'heavy phone', 'heavy usage', 'heavy use', 'heavy used', 'heavy user', 'heavy users', 'heavy weight', 'heavy worst', 'heeting problem', 'height gorilla', 'height screen', 'helio 10', 'helio x20', 'helio x23', 'hell don', 'hell lot', 'hell ok', 'hellios x23', 'hello friends', 'hello guys', 'hello phone', 'help amazon', 'help app', 'help battery', 'help center', 'help don', 'help issue', 'help issues', 'help lenovo', 'help like', 'help phone', 'help replacement', 'help return', 'help solve', 'help use', 'helped question', 'helps save', 'hetting issue', 'hi bekar', 'hi bought', 'hi ghatiya', 'hi guys', 'hi lenovo', 'hi nahi', 'hi team', 'high battery', 'high definition', 'high end', 'high expectations', 'high graphic', 'high graphics', 'high heating', 'high hopes', 'high performance', 'high price', 'high quality', 'high resolution', 'high specs', 'high speed', 'high usage', 'high use', 'high value', 'higher price', 'highly disappointed', 'highly disappointing', 'highly recommend', 'highly recommended', 'hissing sound', 'hit door', 'hit phone', 'hiting issue', 'hiting problem', 'hitting battery', 'hitting issue', 'hitting problem', 'hitting problems', 'ho gaya', 'ho gya', 'ho gye', 'ho jata', 'ho jati', 'ho jayega', 'ho raha', 'ho rahi', 'ho rha', 'ho toh', 'hold battery', 'hold camera', 'hold ear', 'hold hand', 'hold mobile', 'hold phone', 'holding hot', 'holding phone', 'home button', 'home keys', 'home screen', 'hone ka', 'hone ke', 'hone ki', 'hone lagta', 'honest review', 'honestly speaking', 'honor 6x', 'honor 7x', 'honor lite', 'hope amazon', 'hope future', 'hope help', 'hope helps', 'hope lenevo', 'hope lenovo', 'hope receive', 'hope refund', 'hope resolved', 'hope review', 'hope solved', 'hope update', 'horizontal lines', 'horrible battery', 'horrible camera', 'horrible experience', 'horrible normal', 'horrible product', 'hot battery', 'hot charge', 'hot charging', 'hot ear', 'hot frequently', 'hot idle', 'hot iron', 'hot like', 'hot long', 'hot mobile', 'hot normal', 'hot playing', 'hot quickly', 'hot spot', 'hot switch', 'hot talking', 'hot time', 'hot use', 'hot using', 'hot worst', 'hota hai', 'hotspot connect', 'hotspot doesn', 'hotspot issue', 'hotspot signal', 'hotspot work', 'hotspot working', 'hotspot working6', 'hour battery', 'hour charge', 'hour charged', 'hour charging', 'hour hour', 'hour issue', 'hour leta', 'hour phone', 'hour turbocharging', 'hour use', 'hour worst', 'hours 100', 'hours 30', 'hours battery', 'hours called', 'hours calling', 'hours camera', 'hours charge', 'hours charged', 'hours charging', 'hours come', 'hours complete', 'hours continue', 'hours data', 'hours don', 'hours drains', 'hours fully', 'hours gets', 'hours getting', 'hours good', 'hours hanging', 'hours heat', 'hours heating', 'hours heavy', 'hours internet', 'hours just', 'hours k8', 'hours max', 'hours medium', 'hours mobile', 'hours moderate', 'hours net', 'hours normal', 'hours phone', 'hours reach', 'hours sot', 'hours standby', 'hours stock', 'hours takes', 'hours time', 'hours turbo', 'hours update', 'hours use', 'hours using', 'hours video', 'hr backup', 'hr charge', 'hr charging', 'hr fully', 'hr time', 'hr use', 'hrs 30', 'hrs battery', 'hrs camera', 'hrs charge', 'hrs charged', 'hrs charging', 'hrs continuous', 'hrs fully', 'hrs getting', 'hrs got', 'hrs heat', 'hrs heavy', 'hrs mobile', 'hrs normal', 'hrs time', 'hrs turbo', 'hrs use', 'hrs used', 'hrs verdict', 'hu ki', 'hua hai', 'huge network', 'huge pain', 'huge problem', 'humble request', 'hung issue', 'hurt ears', 'hv option', 'hv switch', 'hybrid sim', 'hype created', 'iam satisfied', 'iam using', 'icicibank hangout', 'idea network', 'idea offer', 'idle 10mins', 'idle battery', 'idle condition', 'idle loses', 'idle mode', 'idle state', 'idle time', 'im disappointed', 'im facing', 'im getting', 'im happy', 'im satisfied', 'im using', 'image camera', 'image quality', 'image stabilization', 'image try', 'images blurred', 'images camera', 'images captured', 'images good', 'images like', 'images poor', 'images quality', 'images sharp', 'images videos', 'imei number', 'immediately charging', 'immediately drain', 'immediately return', 'important apps', 'important feature', 'important features', 'important thing', 'impossible hold', 'improve battery', 'improve camera', 'improve lenovo', 'improve product', 'improve software', 'improved battery', 'improved camera', 'improved lot', 'improved rest', 'improvedno inbuilt', 'improvement camera', 'inbuilt app', 'inbuilt apps', 'inbuilt gallery', 'inbuilt galleryonly', 'inbuilt music', 'inbuilt recorder', 'inbuilt recording', 'inch hd', 'include box', 'incoming calls', 'incoming outgoing', 'increase volume', 'india ka', 'indian festival', 'indian sale', 'indicator working', 'induction stove', 'information regarding', 'informed amazon', 'infrared support', 'initially phone', 'initially problems', 'initiate return', 'insert earphones', 'insert jio', 'insert remove', 'insert sim', 'inserted 4g', 'inside box', 'inside mobile', 'inside package', 'inside phone', 'instagram browsing', 'install app', 'install apps', 'install games', 'install greenify', 'install jio', 'install new', 'install party', 'install separate', 'installed app', 'installed apps', 'installed battery', 'installed feeling', 'installed phone', 'installed speed', 'installing apps', 'installing google', 'instead k8', 'instead lenovo', 'instead phone', 'instead providing', 'instead samsung', 'intensive games', 'interface bad', 'interface good', 'internal memory', 'internal space', 'internal storage', 'internet battery', 'internet calls', 'internet camera', 'internet charging', 'internet connection', 'internet connectivity', 'internet data', 'internet don', 'internet jio', 'internet just', 'internet mobile', 'internet pls', 'internet problem', 'internet speed', 'internet time', 'internet update', 'internet usage', 'internet use', 'internet used', 'internet using', 'internet working', 'intex aqua', 'invoice copy', 'invoice mail', 'invoice mobile', 'invoice product', 'iphone price', 'ir blaster', 'iron box', 'iron shirt', 'irritating thing', 'iska glass', 'isn good', 'isn great', 'isn upto', 'isn working', 'isnt good', 'issue 10', 'issue 4g', 'issue amazon', 'issue apart', 'issue app', 'issue application', 'issue apps', 'issue assume', 'issue bad', 'issue bang', 'issue battery', 'issue best', 'issue better', 'issue bettery', 'issue big', 'issue bluetooth', 'issue buy', 'issue camera', 'issue cast', 'issue charge', 'issue charger', 'issue charging', 'issue cheating', 'issue checked', 'issue comes', 'issue coming', 'issue compared', 'issue connect', 'issue connecting', 'issue customer', 'issue days', 'issue device', 'issue disappointed', 'issue display', 'issue don', 'issue double', 'issue exists', 'issue extreme', 'issue face', 'issue faced', 'issue facing', 'issue fast', 'issue finally', 'issue fixed', 'issue gaming', 'issue gets', 'issue getting', 'issue good', 'issue great', 'issue hai', 'issue handset', 'issue hang', 'issue hanging', 'issue hangs', 'issue heat', 'issue heating', 'issue heats', 'issue hung', 'issue issue', 'issue jio', 'issue just', 'issue k8', 'issue left', 'issue lenovo', 'issue light', 'issue like', 'issue little', 'issue look', 'issue low', 'issue major', 'issue make', 'issue mediatek', 'issue mentioned', 'issue mobile', 'issue model', 'issue months', 'issue nd', 'issue need', 'issue network', 'issue ok', 'issue option', 'issue oreo', 'issue os', 'issue overall', 'issue people', 'issue performance', 'issue persists', 'issue phone', 'issue phones', 'issue photo', 'issue place', 'issue play', 'issue playing', 'issue poor', 'issue problem', 'issue product', 'issue providing', 'issue quick', 'issue real', 'issue rear', 'issue regarding', 'issue replacement', 'issue resolved', 'issue rest', 'issue returning', 'issue satisfied', 'issue screen', 'issue sim', 'issue software', 'issue solved', 'issue soon', 'issue sound', 'issue speaker', 'issue speed', 'issue started', 'issue starts', 'issue stock', 'issue support', 'issue takes', 'issue taking', 'issue think', 'issue till', 'issue time', 'issue took', 'issue touch', 'issue try', 'issue turbo', 'issue unable', 'issue update', 'issue use', 'issue using', 'issue video', 'issue voice', 'issue want', 'issue waste', 'issue week', 'issue worst', 'issue worth', 'issues 4g', 'issues amazon', 'issues awesome', 'issues bad', 'issues battery', 'issues better', 'issues browsing', 'issues calling', 'issues camera', 'issues charging', 'issues connect', 'issues cons', 'issues day', 'issues days', 'issues device', 'issues dolby', 'issues don', 'issues dual', 'issues face', 'issues faced', 'issues far', 'issues fast', 'issues features', 'issues getting', 'issues good', 'issues handset', 'issues headphone', 'issues heating', 'issues incoming', 'issues issues', 'issues jio', 'issues just', 'issues know', 'issues lag', 'issues lenovo', 'issues let', 'issues like', 'issues main', 'issues major', 'issues mentioned', 'issues mobile', 'issues network', 'issues normal', 'issues os', 'issues performance', 'issues phone', 'issues phone1', 'issues playing', 'issues poor', 'issues product', 'issues regarding', 'issues regards', 'issues replaced', 'issues screen', 'issues software', 'issues till', 'issues time', 'issues turbo', 'issues ui', 'issues update', 'issues use', 'issues using', 'issues want', 'issues went', 'issues wifi', 'issues working', 'issues worth', 'issues1 heats', 'item good', 'item heating', 'item received', 'item working', 'items amazon', 'ja raha', 'jack does', 'jack fitting', 'jack trades', 'jack working', 'jaldi garam', 'jan 18', 'jan 2018', 'jane par', 'january 2018', 'jata hai', 'jati hai', 'jio 4g', 'jio airtel', 'jio app', 'jio connectivity', 'jio customer', 'jio network', 'jio phone', 'jio signal', 'jio sim', 'jio use', 'jio voice', 'jio volte', 'jio work', 'jio working', 'jio works', 'job lenovo', 'job phone', 'job really', 'juice left', 'june 2018', 'just 10', 'just 13', 'just 15', 'just 2500', 'just acceptable', 'just amazing', 'just average', 'just awesome', 'just bad', 'just basic', 'just best', 'just bought', 'just brought', 'just browsing', 'just buy', 'just camera', 'just check', 'just day', 'just days', 'just doesn', 'just don', 'just fake', 'just fall', 'just fantastic', 'just fell', 'just fine', 'just fool', 'just fooling', 'just fully', 'just gets', 'just gimmick', 'just giving', 'just good', 'just got', 'just great', 'just hour', 'just hours', 'just hrs', 'just internet', 'just issue', 'just kept', 'just lasts', 'just like', 'just love', 'just loved', 'just loving', 'just marketing', 'just minutes', 'just month', 'just months', 'just myth', 'just need', 'just needed', 'just normal', 'just note', 'just ok', 'just okay', 'just ordinary', 'just paper', 'just perfect', 'just phone', 'just piece', 'just problem', 'just provide', 'just purchased', 'just received', 'just sake', 'just slipped', 'just started', 'just superb', 'just thing', 'just updated', 'just used', 'just want', 'just waste', 'just week', 'just weeks', 'just word', 'just worst', 'just year', 'jyada nahi', 'k3 k4', 'k3 note', 'k4 better', 'k4 k5', 'k4 k6', 'k4 k8', 'k4 lenovo', 'k4 note', 'k4 vibe', 'k5 better', 'k5 far', 'k5 k8', 'k5 note', 'k5 notes', 'k5 plus', 'k5 vibe', 'k6 k8', 'k6 note', 'k6 power', 'k6 working', 'k8 4000', 'k8 4gb', 'k8 bad', 'k8 better', 'k8 camera', 'k8 days', 'k8 don', 'k8 fine', 'k8 fix', 'k8 flash', 'k8 following', 'k8 good', 'k8 great', 'k8 hardly', 'k8 just', 'k8 killer', 'k8 lenovo', 'k8 lte', 'k8 mobile', 'k8 network', 'k8 note', 'k8 notei', 'k8 notethe', 'k8 phone', 'k8 plus', 'k8 received', 'k8 series', 'k8 sound', 'k8 want', 'k8 worst', 'ka game', 'ka koi', 'ka nahi', 'ka option', 'ka pata', 'ka phone', 'ka recharge', 'kaam ka', 'kab tak', 'kabhi kabhi', 'kabhi nahi', 'kam hai', 'kam nahi', 'kar raha', 'karne par', 'karne se', 'karo toh', 'karta hai', 'ke baad', 'ke bad', 'ke liye', 'ke novo', 'keeping pocket', 'keeps disconnecting', 'keeps flickering', 'keeps fluctuating', 'keeps hanging', 'keeps rebooting', 'keeps restarting', 'keeps switching', 'kenobi k8', 'kept charging', 'kept idle', 'kept phone', 'kept pocket', 'key audio', 'key board', 'key button', 'key camera', 'key features', 'key function', 'key good', 'key key', 'key left', 'key light', 'key lights', 'key notification', 'key option', 'key pad', 'key right', 'key shortcut', 'key working', 'keys illuminated', 'keys light', 'keys working', 'kharab hai', 'kharab mobile', 'khrab ho', 'khup mast', 'ki note', 'killar phone', 'killed expectations', 'killer battery', 'killer camera', 'killer cameras', 'killer device', 'killer experience', 'killer features', 'killer killer', 'killer lenovo', 'killer look', 'killer mobile', 'killer note', 'killer notes', 'killer performance', 'killer phone', 'killer smartphone', 'killer speed', 'kind game', 'kind issue', 'kind problem', 'kind request', 'kind software', 'kinda bums', 'kindly arrange', 'kindly check', 'kindly confirm', 'kindly contact', 'kindly deliver', 'kindly fix', 'kindly help', 'kindly provide', 'kindly return', 'king battery', 'kisi kaam', 'kisi ko', 'kiya tha', 'knew handset', 'know bought', 'know buy', 'know future', 'know happens', 'know issue', 'know lenovo', 'know mean', 'know mi', 'know mobile', 'know need', 'know people', 'know phone', 'know problem', 'know purchased', 'know return', 'know tell', 'know turbo', 'know use', 'know worksexpecting', 'known cheap', 'known issue', 'koi bhi', 'koi bi', 'koi mat', 'koi phone', 'kr rha', 'krna padta', 'kuch bhi', 'kuch kaam', 'kudos amazon', 'lack basic', 'lacking features', 'lacks basic', 'lacks camera', 'lacks feature', 'lacks features', 'lacks good', 'lag bit', 'lag camera', 'lag despite', 'lag game', 'lag gaming', 'lag heating', 'lag issue', 'lag issues', 'lag just', 'lag multi', 'lag overall', 'lag performance', 'lag play', 'lag playing', 'lag using', 'lagging heating', 'lagging issue', 'lagging little', 'lagging phone', 'lagging problem', 'lags camera', 'lags display', 'lags hangs', 'lags heating', 'lags lot', 'lags performance', 'lags phone', 'lags playing', 'lags time', 'lagta hai', 'lagti hai', 'lanovo k8', 'laptop desktop', 'laptop usb', 'laptop wifi', 'large scale', 'large screen', 'lasting battery', 'lasting day', 'lastly battery', 'lasts 10', 'lasts 12', 'lasts 24', 'lasts day', 'lasts days', 'lasts entire', 'lasts half', 'lasts hours', 'lasts hrs', 'lasts long', 'lasts longer', 'lasts upto', 'late charging', 'late courier', 'late delivery', 'later heating', 'latest android', 'latest features', 'latest oreo', 'latest security', 'latest software', 'latest stock', 'latest update', 'latest updates', 'latest version', 'launch amazon', 'launch date', 'launched mobile', 'launcher mobile', 'le rha', 'leads bad', 'learned buy', 'led flash', 'led light', 'led notification', 'led tv', 'left battery', 'left camera', 'left good', 'left hand', 'left phone', 'left screen', 'left sound', 'left speaker', 'left speakers', 'left work', 'lena bekar', 'lena koi', 'lenevo good', 'lenevo k8', 'lenevo mobiles', 'lenevo service', 'lenevo update', 'lennovo k8', 'lenova k4', 'lenova k8', 'lenova product', 'lenove k8', 'lenovo 13', 'lenovo 4000', 'lenovo a6000', 'lenovo a7000', 'lenovo able', 'lenovo add', 'lenovo amazing', 'lenovo amazon', 'lenovo answer', 'lenovo application', 'lenovo bad', 'lenovo basic', 'lenovo battery', 'lenovo best', 'lenovo better', 'lenovo big', 'lenovo bought', 'lenovo brand', 'lenovo branding', 'lenovo buy', 'lenovo calling', 'lenovo camera', 'lenovo care', 'lenovo center', 'lenovo charger', 'lenovo cheat', 'lenovo cheated', 'lenovo cheater', 'lenovo cheating', 'lenovo claimed', 'lenovo claiming', 'lenovo claims', 'lenovo come', 'lenovo company', 'lenovo costumer', 'lenovo customer', 'lenovo definitely', 'lenovo delivery', 'lenovo device', 'lenovo devices', 'lenovo did', 'lenovo disappointed', 'lenovo display', 'lenovo does', 'lenovo doesn', 'lenovo doing', 'lenovo don', 'lenovo dont', 'lenovo equipped', 'lenovo failed', 'lenovo failing', 'lenovo family', 'lenovo fan', 'lenovo features', 'lenovo finally', 'lenovo fix', 'lenovo forum', 'lenovo forums', 'lenovo gets', 'lenovo going', 'lenovo good', 'lenovo got', 'lenovo great', 'lenovo guess', 'lenovo handset', 'lenovo happy', 'lenovo hasn', 'lenovo having', 'lenovo heating', 'lenovo help', 'lenovo high', 'lenovo hope', 'lenovo improve', 'lenovo issue', 'lenovo issues', 'lenovo just', 'lenovo k3', 'lenovo k3note', 'lenovo k4', 'lenovo k4note', 'lenovo k5', 'lenovo k6', 'lenovo k8', 'lenovo k8note', 'lenovo ka', 'lenovo ki', 'lenovo killer', 'lenovo known', 'lenovo laptop', 'lenovo launch', 'lenovo launched', 'lenovo lenovo', 'lenovo let', 'lenovo ll', 'lenovo logo', 'lenovo lost', 'lenovo lot', 'lenovo lots', 'lenovo lower', 'lenovo make', 'lenovo making', 'lenovo missed', 'lenovo missing', 'lenovo mobile', 'lenovo mobiles', 'lenovo model', 'lenovo models', 'lenovo months', 'lenovo moto', 'lenovo motorola', 'lenovo need', 'lenovo needs', 'lenovo new', 'lenovo nice', 'lenovo note', 'lenovo ok', 'lenovo overcome', 'lenovo p2', 'lenovo phone', 'lenovo phones', 'lenovo pls', 'lenovo previously', 'lenovo price', 'lenovo product', 'lenovo products', 'lenovo promised', 'lenovo provide', 'lenovo provided', 'lenovo provides', 'lenovo providing', 'lenovo real', 'lenovo really', 'lenovo received', 'lenovo rectify', 'lenovo regarding', 'lenovo release', 'lenovo replacement', 'lenovo resolve', 'lenovo return', 'lenovo said', 'lenovo say', 'lenovo saying', 'lenovo says', 'lenovo seal', 'lenovo sell', 'lenovo series', 'lenovo seriously', 'lenovo service', 'lenovo signal', 'lenovo slow', 'lenovo smart', 'lenovo smartphone', 'lenovo software', 'lenovo solve', 'lenovo started', 'lenovo stock', 'lenovo store', 'lenovo stupid', 'lenovo suggested', 'lenovo support', 'lenovo sure', 'lenovo taken', 'lenovo team', 'lenovo technical', 'lenovo thanks', 'lenovo thanx', 'lenovo till', 'lenovo time', 'lenovo took', 'lenovo trust', 'lenovo unable', 'lenovo update', 'lenovo updates', 'lenovo upgraded', 'lenovo use', 'lenovo used', 'lenovo user', 'lenovo using', 'lenovo value', 'lenovo vibe', 'lenovo warranty', 'lenovo waste', 'lenovo work', 'lenovo worked', 'lenovo working', 'lenovo works', 'lenovo worst', 'lenovo years', 'lenovo z2', 'lenovo zuk', 'lenovobattery backup', 'lenovok8 note', 'lens camera', 'lens leads', 'lenvo k8', 'lesser phone', 'lesson learned', 'let hope', 'let know', 'let phone', 'let start', 'leta hai', 'level amazon', 'level battery', 'level low', 'levono k8', 'lg q6', 'life 4000', 'life 4000mah', 'life average', 'life awesome', 'life bad', 'life battery', 'life best', 'life better', 'life camera', 'life day', 'life days', 'life excellent', 'life expected', 'life fast', 'life getting', 'life good', 'life great', 'life heating', 'life improved', 'life internet', 'life just', 'life like', 'life long', 'life lot', 'life mobile', 'life nice', 'life ok', 'life phone', 'life poor', 'life quick', 'life quite', 'life really', 'life short', 'life speakers', 'life super', 'life superb', 'life till', 'life time', 'life upto', 'life want', 'life wish', 'light bad', 'light battery', 'light blinks', 'light camera', 'light condition', 'light conditions', 'light depth', 'light didn', 'light does', 'light doesn', 'light flash', 'light good', 'light heat', 'light low', 'light open', 'light performance', 'light photography', 'light pictures', 'light poor', 'light problem', 'light rear', 'light single', 'light software', 'light usage', 'light weight', 'light working', 'light works', 'light worst', 'light yellow', 'lighting condition', 'lighting speed', 'lightly heating', 'like 13', 'like 13mp', 'like 1500', 'like 2000', 'like 2g', 'like 3000', 'like 3000mah', 'like 4000', 'like 4000mah', 'like 4100', 'like 4gb', 'like 5mp', 'like amazon', 'like anti', 'like app', 'like apps', 'like asphalt', 'like basic', 'like battery', 'like best', 'like bluetooth', 'like bulb', 'like camera', 'like candy', 'like cast', 'like charge', 'like charging', 'like charm', 'like cheap', 'like cheated', 'like china', 'like clash', 'like deca', 'like depth', 'like device', 'like display', 'like dolby', 'like dslr', 'like dual', 'like earlier', 'like edit', 'like expected', 'like facebook', 'like fake', 'like feel', 'like gallery', 'like game', 'like getting', 'like good', 'like gorilla', 'like got', 'like hanging', 'like having', 'like hd', 'like heat', 'like heating', 'like heavy', 'like hell', 'like holding', 'like instagram', 'like iphone', 'like iron', 'like just', 'like k3', 'like k4', 'like k5', 'like led', 'like lenovo', 'like like', 'like mentioned', 'like message', 'like mi', 'like micromax', 'like miui', 'like mobile', 'like mobiles', 'like model', 'like moto', 'like mp', 'like music', 'like near', 'like network', 'like normal', 'like note', 'like old', 'like older', 'like ordinary', 'like overheating', 'like phone', 'like phones', 'like previous', 'like product', 'like pure', 'like received', 'like recording', 'like redmi', 'like refund', 'like replace', 'like replacement', 'like responding', 'like return', 'like samsung', 'like screen', 'like sit', 'like snail', 'like software', 'like sony', 'like sound', 'like speed', 'like start', 'like stupid', 'like subway', 'like suggest', 'like taken', 'like taking', 'like throwing', 'like turbo', 'like unable', 'like use', 'like used', 'like using', 'like vga', 'like vibe', 'like vodafone', 'like voice', 'like war', 'like watching', 'like whatsapp', 'like wifi', 'like worst', 'liked phone', 'liked product', 'liked sound', 'lil warm', 'limited warranty', 'line don', 'line lenovo', 'line screen', 'line sounds', 'lineup let', 'list doesn', 'listen music', 'listened problem', 'listening music', 'listening songs', 'lit conditions', 'lite weight', 'little better', 'little bit', 'little costly', 'little curved', 'little difficulty', 'little disappointed', 'little dull', 'little fast', 'little faster', 'little good', 'little heat', 'little heating', 'little heavier', 'little heavy', 'little hot', 'little problem', 'little slow', 'little use', 'little warm', 'little weight', 'live wallpaper', 'living expectations', 'liya tha', 'll buy', 'll camera', 'll end', 'll feel', 'll recommend', 'll star', 'll suggest', 'loaded features', 'loading time', 'loads features', 'local app', 'located left', 'lock apps', 'lock aside', 'lock feature', 'lock screen', 'lock unlock', 'lock working', 'long battery', 'long charge', 'long charging', 'long day', 'long lasting', 'long life', 'long run', 'long time', 'long turbo', 'long usage', 'longer 4000mah', 'longer battery', 'longer period', 'longer time', 'look average', 'look camera', 'look design', 'look excellent', 'look feature', 'look feel', 'look gd', 'look good', 'look great', 'look issue', 'look just', 'look like', 'look matter', 'look mobile', 'look nice', 'look option', 'look options', 'look phone', 'look pretty', 'look quality', 'look wise', 'looked like', 'looking awesome', 'looking battery', 'looking best', 'looking better', 'looking budget', 'looking buy', 'looking camera', 'looking elegant', 'looking excellent', 'looking forward', 'looking good', 'looking great', 'looking lenovo', 'looking like', 'looking mobile', 'looking nice', 'looking performance', 'looking phone', 'looking smart', 'looking smooth', 'looks artificial', 'looks awesome', 'looks bad', 'looks camera', 'looks classy', 'looks display', 'looks dull', 'looks features', 'looks feel', 'looks good', 'looks great', 'looks impressive', 'looks like', 'looks nice', 'looks ordinary', 'looks premium', 'looks really', 'looks sexy', 'lose money', 'loses battery', 'losing battery', 'loss money', 'lost data', 'lost day', 'lost hope', 'lost money', 'lost phone', 'lost time', 'lost trust', 'lot apps', 'lot battery', 'lot better', 'lot bugs', 'lot buying', 'lot charging', 'lot expectations', 'lot features', 'lot games', 'lot gaming', 'lot good', 'lot heat', 'lot heating', 'lot improvement', 'lot issue', 'lot issues', 'lot lag', 'lot people', 'lot playing', 'lot positive', 'lot problem', 'lot problems', 'lot reviews', 'lot screen', 'lot software', 'lot time', 'lots bugs', 'lots features', 'lots good', 'lots heating', 'lots issues', 'lots network', 'lots people', 'lots problem', 'lots problems', 'lots space', 'lots things', 'lots time', 'loud clear', 'loud sound', 'loud speaker', 'loud speakers', 'love camera', 'love device', 'love features', 'love good', 'love lenovo', 'love mobile', 'love nice', 'love phone', 'love product', 'love sound', 'love stock', 'love use', 'love using', 'loved camera', 'loved device', 'loved phone', 'loved stock', 'loved thing', 'loved using', 'lovely phone', 'lovely product', 'lover don', 'lover dual', 'lover like', 'lovers dedicated', 'loving phone', 'low bad', 'low battery', 'low better', 'low brightness', 'low budget', 'low camera', 'low class', 'low compare', 'low compared', 'low cost', 'low dolby', 'low earphone', 'low features', 'low good', 'low headphones', 'low hear', 'low heating', 'low high', 'low lenovo', 'low light', 'low lighting', 'low like', 'low nd', 'low need', 'low phone', 'low poor', 'low price', 'low quality', 'low quickly', 'low range', 'low signal', 'low signals', 'low sound', 'low think', 'low time', 'low usage', 'low volume', 'lower price', 'lower redmi', 'lowest price', 'loyal customer', 'lte battery', 'lte does', 'lte lte', 'lte mode', 'lte network', 'lte option', 'lte phone', 'lte signal', 'lte support', 'lte volte', 'maga pixal', 'mah battery', 'mah camera', 'mah capacity', 'mah drains', 'mah performance', 'mah power', 'mah work', 'mail id', 'mail lenovo', 'main battery', 'main camera', 'main cons', 'main disadvantage', 'main drawback', 'main features', 'main issue', 'main problem', 'main problems', 'main reason', 'main screen', 'main thing', 'major bug', 'major disadvantage', 'major draw', 'major drawback', 'major heating', 'major issue', 'major issues', 'major lags', 'major network', 'major problem', 'major problems', 'major reasons', 'make better', 'make calls', 'make difference', 'make fool', 'make gets', 'make good', 'make mistake', 'make mobile', 'make money', 'make phone', 'make receive', 'make ringtone', 'make sure', 'make work', 'make yes', 'makes better', 'makes hissing', 'makes lot', 'makes phone', 'making false', 'making fool', 'making people', 'making problem', 'making receiving', 'management bad', 'management better', 'management good', 'management issue', 'management mark', 'management poor', 'management proper', 'manual book', 'manually power', 'manufacturer defect', 'manufacturing defect', 'manufacturing defects', 'march 2018', 'mark 4000', 'mark 4000mah', 'mark amazon', 'mark bad', 'mark battery', 'mark camera', 'mark compare', 'mark compared', 'mark depth', 'mark display', 'mark doesn', 'mark dolby', 'mark dual', 'mark getting', 'mark good', 'mark heating', 'mark just', 'mark like', 'mark performance', 'mark phone', 'mark poor', 'mark slow', 'mark specially', 'mark specification', 'mark want', 'market android', 'market buy', 'market price', 'marketing gimmick', 'mast ahe', 'mast hai', 'mast mobile', 'mast phone', 'mat kharido', 'mat lena', 'mat lo', 'matching performance', 'matter seriously', 'max awesome', 'max phone', 'max sound', 'maximum hours', 'maximum time', 'maybe music', 'mb ram', 'mean started', 'mean time', 'means phone', 'means use', 'means used', 'means work', 'mechanism needs', 'media player', 'media ringtone', 'media tech', 'mediatake hellios', 'mediatek helio', 'mediatek processor', 'mediatek x23', 'medium budget', 'medium usage', 'medium user', 'meet expectation', 'meet expectations', 'meet requirements', 'meeting expectation', 'meeting expectations', 'meets expectations', 'mega pixels', 'megapixel camera', 'memory 10', 'memory 4gb', 'memory 64', 'memory card', 'memory good', 'memory half', 'memory heating', 'memory management', 'memory phone', 'memory ram', 'memory sim', 'memory slot', 'memory speed', 'memory use', 'mentioned 4000', 'mentioned amazon', 'mentioned description', 'mentioned dual', 'mentioned earlier', 'mentioned lenovo', 'mentioned pack', 'mentioned reviews', 'mentioned turbo', 'menu button', 'menu options', 'menu settings', 'mera cash', 'mera lenovo', 'mera mobile', 'mere mobile', 'message directly', 'message phone', 'message send', 'message settings', 'message tone', 'message whatsapp', 'messages calls', 'messages jio', 'messages phone', 'messages whatsapp', 'messaging did', 'met expectations', 'metal body', 'metallic body', 'mh battery', 'mi a1', 'mi basic', 'mi better', 'mi brand', 'mi far', 'mi max', 'mi mobiles', 'mi note', 'mi phone', 'mi phones', 'mi redmi', 'mi samsung', 'mi used', 'mic issue', 'mic problem', 'mic problems', 'mic working', 'micro sd', 'micro usb', 'microphone working', 'microsoft apps', 'microsoft office', 'mid range', 'mid ranged', 'middle range', 'mike working', 'mild usage', 'min 10', 'min battery', 'min charge', 'min charging', 'min comes', 'min phone', 'min totally', 'min usage', 'min use', 'min video', 'mind blowing', 'mind returning', 'minimal usage', 'minimum features', 'minimum hours', 'minimum hrs', 'minimum usage', 'minor bugs', 'minor fall', 'minor heating', 'minor issues', 'mins battery', 'mins browsing', 'mins phone', 'mins playing', 'mins turbo', 'minus rating', 'minus stars', 'minute phone', 'minutes battery', 'minutes charge', 'minutes depending', 'minutes device', 'minutes dolby', 'minutes don', 'minutes getting', 'minutes mobile', 'minutes phone', 'minutes screen', 'minutes taking', 'minutes usage', 'minutes use', 'mirror casting', 'mirror doesn', 'mirror image', 'mirroring option', 'mirroring possible', 'mirroring tv', 'mirroring working', 'miss calls', 'missed calls', 'missed whatsapp', 'missing able', 'missing box', 'missing camera', 'missing compare', 'missing compared', 'missing dont', 'missing gallery', 'missing headset', 'missing k8', 'missing lenovo', 'missing like', 'missing like1', 'missing phone', 'missing pin', 'missing recording', 'missing stock', 'missing used', 'missing want', 'mistake buying', 'mistake don', 'mm jack', 'mob bad', 'mobil good', 'mobile 10', 'mobile 100', 'mobile 10k', 'mobile 11000', 'mobile 14k', 'mobile 15', 'mobile 15000', 'mobile 4000', 'mobile 4000mah', 'mobile 4gb', 'mobile amazing', 'mobile amazon', 'mobile android', 'mobile apps', 'mobile audio', 'mobile auto', 'mobile automatic', 'mobile automatically', 'mobile available', 'mobile average', 'mobile awesome', 'mobile bad', 'mobile battery', 'mobile bed', 'mobile best', 'mobile big', 'mobile bought', 'mobile box', 'mobile brought', 'mobile budget', 'mobile buy', 'mobile came', 'mobile camera', 'mobile cast', 'mobile cemera', 'mobile charge', 'mobile charger', 'mobile charging', 'mobile compared', 'mobile configuration', 'mobile connect', 'mobile cost', 'mobile courier', 'mobile cover', 'mobile customer', 'mobile dad', 'mobile data', 'mobile day', 'mobile days', 'mobile deca', 'mobile definitely', 'mobile delivery', 'mobile device', 'mobile did', 'mobile disappointed', 'mobile display', 'mobile does', 'mobile doesn', 'mobile dolby', 'mobile don', 'mobile dont', 'mobile dual', 'mobile earphone', 'mobile easy', 'mobile excellent', 'mobile experience', 'mobile facility', 'mobile facing', 'mobile fall', 'mobile fallen', 'mobile fast', 'mobile faster', 'mobile feature', 'mobile features', 'mobile fell', 'mobile finally', 'mobile fine', 'mobile fully', 'mobile gallery', 'mobile gaming', 'mobile gets', 'mobile getting', 'mobile given', 'mobile giving', 'mobile good', 'mobile gorilla', 'mobile got', 'mobile great', 'mobile gud', 'mobile hai', 'mobile half', 'mobile hand', 'mobile handset', 'mobile hang', 'mobile hanging', 'mobile having', 'mobile heat', 'mobile heated', 'mobile heating', 'mobile heats', 'mobile heavy', 'mobile heting', 'mobile high', 'mobile highly', 'mobile hitting', 'mobile hot', 'mobile hours', 'mobile iam', 'mobile idle', 'mobile instead', 'mobile internet', 'mobile issue', 'mobile issues', 'mobile just', 'mobile k8', 'mobile ka', 'mobile ke', 'mobile keeps', 'mobile lacks', 'mobile lenovo', 'mobile let', 'mobile life', 'mobile like', 'mobile little', 'mobile look', 'mobile looking', 'mobile looks', 'mobile lot', 'mobile lots', 'mobile love', 'mobile loved', 'mobile low', 'mobile mail', 'mobile mean', 'mobile mi', 'mobile mobile', 'mobile money', 'mobile month', 'mobile months', 'mobile moto', 'mobile need', 'mobile net', 'mobile network', 'mobile networks', 'mobile new', 'mobile nice', 'mobile normal', 'mobile nt', 'mobile ok', 'mobile online', 'mobile options', 'mobile overall', 'mobile overheating', 'mobile past', 'mobile perfect', 'mobile performance', 'mobile phone', 'mobile phones', 'mobile picture', 'mobile play', 'mobile pls', 'mobile plz', 'mobile pocket', 'mobile poor', 'mobile price', 'mobile prize', 'mobile problem', 'mobile purchase', 'mobile purchased', 'mobile quality', 'mobile quickly', 'mobile quite', 'mobile ram', 'mobile range', 'mobile really', 'mobile receive', 'mobile redmi', 'mobile replaced', 'mobile restarting', 'mobile return', 'mobile rs', 'mobile sale', 'mobile satisfied', 'mobile screen', 'mobile seen', 'mobile sent', 'mobile service', 'mobile set', 'mobile signal', 'mobile sim', 'mobile simple', 'mobile sims', 'mobile smooth', 'mobile sound', 'mobile speaker', 'mobile special', 'mobile speed', 'mobile started', 'mobile suddenly', 'mobile super', 'mobile superb', 'mobile support', 'mobile supported', 'mobile switch', 'mobile switched', 'mobile takes', 'mobile thank', 'mobile thanks', 'mobile till', 'mobile time', 'mobile today', 'mobile totally', 'mobile touch', 'mobile turbo', 'mobile turning', 'mobile ui', 'mobile unique', 'mobile upto', 'mobile use', 'mobile used', 'mobile using', 'mobile value', 'mobile volume', 'mobile want', 'mobile wastage', 'mobile waste', 'mobile weak', 'mobile week', 'mobile weeks', 'mobile work', 'mobile working', 'mobile works', 'mobile wormly', 'mobile worst', 'mobile worth', 'mobiles better', 'mobiles flipkart', 'mobiles worst', 'modal lenovo', 'mode activated', 'mode auto', 'mode average', 'mode bad', 'mode battery', 'mode best', 'mode bokeh', 'mode camera', 'mode data', 'mode day', 'mode depth', 'mode display', 'mode does', 'mode doesn', 'mode dual', 'mode effective', 'mode expected', 'mode fake', 'mode fast', 'mode finger', 'mode good', 'mode great', 'mode isn', 'mode just', 'mode like', 'mode little', 'mode low', 'mode missing', 'mode need', 'mode needs', 'mode network', 'mode nice', 'mode night', 'mode option', 'mode overall', 'mode phone', 'mode pics', 'mode poor', 'mode proper', 'mode really', 'mode rear', 'mode rest', 'mode screen', 'mode selfie', 'mode slow', 'mode takes', 'mode time', 'mode use', 'mode using', 'mode work', 'mode working', 'mode works', 'mode worse', 'model battery', 'model better', 'model features', 'model good', 'model having', 'model just', 'model lenovo', 'model like', 'model number', 'model really', 'model recommended', 'model specific', 'model worst', 'models got', 'models k8', 'models lenovo', 'models option', 'models personally', 'moderate gaming', 'moderate usage', 'moderate use', 'moderate user', 'moderately fast', 'modified version', 'money amazon', 'money bad', 'money battery', 'money best', 'money better', 'money bought', 'money buy', 'money buying', 'money camera', 'money configuration', 'money coz', 'money customers', 'money disappointed', 'money don', 'money doubt', 'money dual', 'money excellent', 'money feel', 'money garbage', 'money good', 'money got', 'money great', 'money heating', 'money hope', 'money issue', 'money just', 'money lenovo', 'money like', 'money loss', 'money major', 'money mobile', 'money network', 'money nice', 'money note', 'money paid', 'money phone', 'money poor', 'money price', 'money problem', 'money product', 'money pros', 'money purchased', 'money purchasing', 'money range', 'money really', 'money refunded', 'money return', 'money spend', 'money spent', 'money time', 'money totally', 'money updates', 'money using', 'money want', 'money waste', 'money wasted', 'money works', 'money worst', 'money worth', 'month ago', 'month bad', 'month battery', 'month bought', 'month cell', 'month facing', 'month fully', 'month good', 'month got', 'month heating', 'month mobile', 'month month', 'month months', 'month need', 'month noticed', 'month old', 'month phone', 'month price', 'month problem', 'month purchase', 'month service', 'month speaker', 'month started', 'month think', 'month till', 'month time', 'month today', 'month turbo', 'month usage', 'month use', 'month used', 'month using', 'month working', 'months ago', 'months battery', 'months bought', 'months buy', 'months buying', 'months charging', 'months device', 'months disappointed', 'months don', 'months facing', 'months going', 'months good', 'months got', 'months great', 'months issue', 'months issues', 'months mobile', 'months overall', 'months performance', 'months phone', 'months plus', 'months problem', 'months problems', 'months purchase', 'months started', 'months suddenly', 'months time', 'months totally', 'months updating', 'months usage', 'months use', 'months used', 'months using', 'months working', 'months worst', 'mood rate', 'morning boom', 'morning evening', 'mortal combat', 'mother board', 'motherboard problem', 'motion 4k', 'motion recording', 'motion video', 'moto apps', 'moto e4', 'moto g2', 'moto g4', 'moto g5', 'moto g5s', 'moto great', 'moto launcher', 'moto lenovo', 'moto makes', 'moto moto', 'moto nokia', 'moto phones', 'moto play', 'moto plus', 'moto point', 'moto series', 'motorola g5', 'motorola lenovo', 'motorola phone', 'motorola phones', 'motorola sports', 'movies battery', 'movies dolby', 'movies videos', 'mp camera', 'mp clear', 'mp deep', 'mp equivalent', 'mp flash', 'mp good', 'mp moderately', 'mp rear', 'mp specially', 'msg settings', 'mst phone', 'mt lena', 'mtk processor', 'multi features', 'multi tasking', 'multiple applications', 'multiple apps', 'multiple complaints', 'multiple issues', 'multiple messages', 'multiple problems', 'multiple report', 'multiple tasking', 'multiple times', 'multiple windows', 'multitasking feature', 'multitasking phone', 'music app', 'music apps', 'music battery', 'music bluetooth', 'music button', 'music camera', 'music dolby', 'music earphone', 'music good', 'music headphones', 'music key', 'music lover', 'music lovers', 'music output', 'music person', 'music phone', 'music player', 'music playing', 'music poor', 'music quality', 'music sound', 'music speaker', 'music video', 'na ho', 'nahi chalta', 'nahi hai', 'nahi ho', 'nahi kar', 'nahi karta', 'nai hai', 'nano coating', 'nano sim', 'nano sims', 'native app', 'navigation buttons', 'navigation keys', 'nd bad', 'nd battery', 'nd camera', 'nd heat', 'nd heating', 'nd phone', 'near ear', 'near stock', 'nearly hours', 'nearly hrs', 'nearly weeks', 'necessary features', 'need add', 'need battery', 'need buy', 'need change', 'need charge', 'need check', 'need dedicated', 'need develop', 'need download', 'need exchange', 'need extra', 'need fix', 'need good', 'need help', 'need high', 'need hold', 'need imei', 'need improve', 'need improved', 'need improvement', 'need install', 'need invoice', 'need little', 'need mobile', 'need money', 'need open', 'need reboot', 'need refund', 'need replace', 'need replacement', 'need restart', 'need return', 'need root', 'need software', 'need think', 'need update', 'need updates', 'need work', 'need worry', 'needs improve', 'needs improved', 'needs improvedno', 'needs improvement', 'needs improvements', 'needs lot', 'needs pin', 'needs replacement', 'needs worked', 'negative point', 'negative points', 'negative rating', 'negative review', 'negative reviews', 'net battery', 'net connection', 'net connectivity', 'net day', 'net heating', 'net slow', 'net speed', 'net surfing', 'net usage', 'net use', 'net used', 'net using', 'net velocity', 'net work', 'network 4g', 'network amazon', 'network available', 'network bad', 'network battery', 'network calling', 'network camera', 'network catch', 'network catching', 'network coming', 'network connected', 'network connection', 'network connectivity', 'network coverage', 'network easily', 'network fluctuate', 'network fluctuating', 'network gone', 'network good', 'network issue', 'network issues', 'network jio', 'network keeps', 'network lost', 'network low', 'network mobile', 'network network', 'network phone', 'network poor', 'network problem', 'network problems', 'network properly', 'network range', 'network reception', 'network related', 'network selection', 'network shows', 'network signal', 'network signals', 'network sim', 'network speed', 'network strength', 'network support', 'network time', 'network tower', 'network using', 'network work', 'network working', 'network works', 'network worst', 'networking problem', 'new app', 'new charger', 'new contacts', 'new device', 'new display', 'new feature', 'new features', 'new handset', 'new issues', 'new item', 'new k8', 'new launched', 'new lenovo', 'new mobile', 'new new', 'new phone', 'new phones', 'new problem', 'new processor', 'new product', 'new screen', 'new set', 'new software', 'new update', 'new updates', 'new version', 'nfc miss', 'nfc present', 'nhi chalta', 'nhi hai', 'nhi ho', 'nhi hota', 'nhi mila', 'nic phone', 'nice amazing', 'nice awesome', 'nice battery', 'nice beautiful', 'nice best', 'nice better', 'nice budget', 'nice build', 'nice buy', 'nice camera', 'nice charging', 'nice cool', 'nice design', 'nice device', 'nice display', 'nice dolby', 'nice dual', 'nice excellent', 'nice experience', 'nice fast', 'nice faster', 'nice feature', 'nice features', 'nice fingerprint', 'nice fone', 'nice good', 'nice got', 'nice handset', 'nice heating', 'nice job', 'nice k8', 'nice lenovo', 'nice liked', 'nice look', 'nice looking', 'nice looks', 'nice loud', 'nice love', 'nice mobile', 'nice model', 'nice nice', 'nice packing', 'nice peace', 'nice performance', 'nice ph', 'nice phn', 'nice phone', 'nice phonebut', 'nice phonecamera', 'nice photo', 'nice photos', 'nice piece', 'nice price', 'nice problem', 'nice processing', 'nice processor', 'nice product', 'nice products', 'nice really', 'nice satisfied', 'nice screen', 'nice selfie', 'nice set', 'nice smart', 'nice smartphone', 'nice smooth', 'nice sound', 'nice specification', 'nice specifications', 'nice specs', 'nice super', 'nice thanks', 'nice touch', 'nice use', 'nice user', 'nice value', 'nice working', 'night camera', 'night charging', 'night lock', 'night mode', 'night mood', 'night photos', 'night time', 'night use', 'noisy distorted', 'non functional', 'non removable', 'non responsive', 'nonetheless competitive', 'normal according', 'normal camera', 'normal charger', 'normal daily', 'normal day', 'normal depth', 'normal earphones', 'normal fast', 'normal good', 'normal heat', 'normal like', 'normal mode', 'normal music', 'normal phone', 'normal photos', 'normal screen', 'normal usage', 'normal use', 'normal user', 'normal uses', 'normal way', 'note 13', 'note 18', 'note 30', 'note 3gb', 'note 4gb', 'note 64', 'note 64gb', 'note a1', 'note amazon', 'note android', 'note audio', 'note available', 'note average', 'note awesome', 'note bad', 'note basic', 'note battery', 'note best', 'note better', 'note big', 'note bit', 'note bluetooth', 'note bought', 'note budget', 'note buy', 'note camera', 'note charger', 'note charging', 'note check', 'note come', 'note comes', 'note compare', 'note connects', 'note cover', 'note damaged', 'note days', 'note didn', 'note disappointed', 'note display', 'note does', 'note doesn', 'note dolby', 'note don', 'note dont', 'note dual', 'note earlier', 'note excellent', 'note expected', 'note family', 'note far', 'note fast', 'note feature', 'note features', 'note feb', 'note fine', 'note gave', 'note getting', 'note gives', 'note good', 'note got', 'note great', 'note handset', 'note having', 'note heating', 'note honor', 'note hope', 'note instead', 'note isn', 'note issue', 'note issues', 'note just', 'note k3', 'note k4', 'note k5', 'note k6', 'note k8', 'note ki', 'note killer', 'note left', 'note lenovo', 'note lesson', 'note like', 'note liye', 'note lot', 'note low', 'note mark', 'note mi', 'note mind', 'note mobile', 'note model', 'note months', 'note moto', 'note music', 'note need', 'note network', 'note nice', 'note note', 'note old', 'note overall', 'note owners', 'note perfect', 'note performance', 'note phone', 'note phones', 'note pls', 'note plus', 'note poor', 'note popular', 'note price', 'note pro', 'note problem', 'note product', 'note purchased', 'note quality', 'note quite', 'note ram', 'note really', 'note recommend', 'note redmi', 'note return', 'note returned', 'note review', 'note satisfied', 'note screen', 'note series', 'note service', 'note set', 'note shows', 'note smartphone', 'note smooth', 'note software', 'note sound', 'note speaker', 'note speakers', 'note standard', 'note superb', 'note takes', 'note taking', 'note terms', 'note thing', 'note think', 'note today', 'note true', 'note turbo', 'note upgraded', 'note upset', 'note use', 'note used', 'note useless', 'note users', 'note using', 'note value', 'note venom', 'note vibe', 'note want', 'note way', 'note weeks', 'note working', 'note works', 'note world', 'note worst', 'note worthless', 'note year', 'note4 camera', 'noticed battery', 'noticed consuntil', 'noticed heating', 'notification bar', 'notification battery', 'notification center', 'notification indication', 'notification indicator', 'notification led', 'notification light', 'notification lights', 'notification settings', 'notification working', 'notifications like', 'nougat good', 'nougat operating', 'nougat oreo', 'nougat os', 'nougat update', 'nougat version', 'nov 2017', 'november 2017', 'nt good', 'number number', 'number saved', 'number times', 'numbers don', 'nw wt', 'nyc mobile', 'nyc phone', 'nyc product', 'object background', 'observed audio', 'observed heating', 'occasional heating', 'occurs time', 'oct 17', 'oct 2017', 'octa core', 'october 2017', 'offer idea', 'offer price', 'offer product', 'offer therms', 'offer time', 'offering metal', 'offers best', 'office package', 'official lenovo', 'offline online', 'oh god', 'ok amazon', 'ok bad', 'ok battery', 'ok best', 'ok better', 'ok budget', 'ok camera', 'ok day', 'ok delivery', 'ok depth', 'ok device', 'ok display', 'ok don', 'ok dual', 'ok excellent', 'ok expect', 'ok far', 'ok frequent', 'ok good', 'ok google', 'ok great', 'ok heating', 'ok impressive', 'ok just', 'ok lenovo', 'ok like', 'ok looks', 'ok main', 'ok mobile', 'ok need', 'ok network', 'ok nice', 'ok normal', 'ok ok', 'ok options', 'ok performance', 'ok phone', 'ok price', 'ok problem', 'ok product', 'ok quality', 'ok receive', 'ok second', 'ok speaker', 'ok special', 'ok type', 'ok use', 'ok used', 'ok using', 'okay battery', 'okay good', 'okay phone', 'okay price', 'okaysound clarity', 'old k3', 'old k4', 'old k5', 'old lenovo', 'old mediatek', 'old mobile', 'old model', 'old motorola', 'old phone', 'old version', 'older coolpad', 'older device', 'older models', 'oleophobic coating', 'oneplus samsung', 'online battery', 'online games', 'online lenovo', 'online offline', 'online product', 'online purchase', 'online shopping', 'onwards phone', 'open app', 'open apps', 'open camera', 'open file', 'open gallery', 'open google', 'open phone', 'open time', 'opened box', 'opening apps', 'operating speed', 'operating user', 'operating worst', 'operation easy', 'opinion don', 'opinion lenovo', 'opinion phone', 'opinion using', 'oppo best', 'oppo f1s', 'option ask', 'option available', 'option bad', 'option battery', 'option camera', 'option cast', 'option change', 'option changing', 'option contact', 'option cool', 'option display', 'option does', 'option doesn', 'option external', 'option given', 'option issue', 'option like', 'option main', 'option mentioned', 'option missing', 'option need', 'option option', 'option phone', 'option poor', 'option price', 'option provided', 'option pull', 'option received', 'option recording', 'option return', 'option returning', 'option save', 'option suggest', 'option thing', 'option think', 'option turn', 'option use', 'option work', 'option working', 'option zero', 'options available', 'options camera', 'options good', 'options like', 'options missing', 'options phone', 'options price', 'order 10', 'order charge', 'order day', 'order lenovo', 'order thanks', 'ordered got', 'ordered k8', 'ordered phone', 'ordinary charger', 'ordinary glass', 'ordinary phone', 'ordinary quality', 'oreo android', 'oreo got', 'oreo phone', 'oreo update', 'oreo version', 'original charger', 'original gorilla', 'original product', 'original screen', 'orio update', 'os good', 'os got', 'os stock', 'os update', 'osm mobile', 'osm phone', 'ota update', 'ota updates', 'outgoing calls', 'outgoing incoming', 'output low', 'output sound', 'outstanding camera', 'outstanding performance', 'overall average', 'overall bad', 'overall best', 'overall camera', 'overall decent', 'overall disappointed', 'overall experience', 'overall fantastic', 'overall features', 'overall good', 'overall great', 'overall gud', 'overall happy', 'overall horrible', 'overall just', 'overall killer', 'overall mobile', 'overall nice', 'overall ok', 'overall okay', 'overall performance', 'overall phon', 'overall phone', 'overall pretty', 'overall price', 'overall product', 'overall quite', 'overall rating', 'overall satisfied', 'overall stars', 'overall value', 'overall worth', 'overall worthy', 'overheat calls', 'overheated charging', 'overheating battery', 'overheating charging', 'overheating dual', 'overheating issue', 'overheating issues', 'overheating problem', 'overheats dual', 'overnight phone', 'owned lenovo', 'owners having', 'owsome phone', 'p1 turbo', 'pachta raha', 'pack features', 'package amazon', 'package bad', 'package good', 'package lenovo', 'packaging good', 'packaging phone', 'packed phone', 'packet kindly', 'packing amazon', 'packing bad', 'packing good', 'packing phone', 'packs punch', 'padta hai', 'pahle liya', 'paid extra', 'paid rs', 'pairing issues', 'paisa vasool', 'paisa vasul', 'paisa wasool', 'pale yellow', 'panasonic eluga', 'panel feels', 'paper best', 'paper good', 'paper performance', 'paper phone', 'papers changedno', 'papers real', 'par company', 'par nahi', 'parking good', 'parts available', 'party app', 'party application', 'party applications', 'party apps', 'party flash', 'past days', 'past month', 'past months', 'past weeks', 'patch september', 'patch update', 'pathetic amazon', 'pathetic battery', 'pathetic device', 'pathetic experience', 'pathetic mobile', 'pathetic phone', 'pathetic product', 'pathetic service', 'pattern apps', 'pattern camera', 'pause button', 'pay rs', 'pc laptop', 'peace lenovo', 'penny spent', 'people bad', 'people buy', 'people doing', 'people don', 'people facing', 'people fools', 'people giving', 'people having', 'people just', 'people like', 'people looking', 'people love', 'people wrong', 'percentage battery', 'percentage data', 'percentage showing', 'perfect battery', 'perfect best', 'perfect camera', 'perfect delivery', 'perfect device', 'perfect edges', 'perfect mid', 'perfect mob', 'perfect mobile', 'perfect phone', 'perfect product', 'perfect selfie', 'perfect smart', 'perfectly fine', 'perfomance good', 'perform basic', 'perform better', 'perform good', 'perform like', 'perform video', 'performance 4gb', 'performance amazing', 'performance average', 'performance awesome', 'performance bad', 'performance battery', 'performance best', 'performance better', 'performance big', 'performance buy', 'performance camera', 'performance charging', 'performance compared', 'performance considering', 'performance cool', 'performance day', 'performance deca', 'performance depth', 'performance device', 'performance display', 'performance does', 'performance don', 'performance dont', 'performance drains', 'performance dual', 'performance excellent', 'performance expectation', 'performance expectations', 'performance expected', 'performance fantastic', 'performance fast', 'performance features', 'performance gaming', 'performance gets', 'performance good', 'performance got', 'performance great', 'performance gud', 'performance hanging', 'performance heat', 'performance heating', 'performance impressive', 'performance improved', 'performance issues', 'performance just', 'performance killer', 'performance lacks', 'performance lags', 'performance lenovo', 'performance like', 'performance little', 'performance look', 'performance looking', 'performance low', 'performance mark', 'performance mediatek', 'performance mid', 'performance mobile', 'performance month', 'performance months', 'performance network', 'performance nice', 'performance night', 'performance normal', 'performance notch', 'performance ok', 'performance overall', 'performance phone', 'performance phones', 'performance picture', 'performance poor', 'performance price', 'performance product', 'performance quality', 'performance quite', 'performance ram', 'performance really', 'performance rear', 'performance recommend', 'performance rivals', 'performance satisfactory', 'performance satisfied', 'performance shortcomings', 'performance signal', 'performance slow', 'performance smooth', 'performance sound', 'performance speed', 'performance super', 'performance thanks', 'performance thing', 'performance till', 'performance totally', 'performance turbo', 'performance upto', 'performance usages', 'performance waste', 'performance whatsapp', 'performance wise', 'performance worst', 'performancebattery backup', 'performancene lesser', 'performances good', 'performing good', 'performing phone', 'performing product', 'person amazon', 'person buy', 'person calling', 'person hear', 'person lenovo', 'person talking', 'personally feel', 'personally trust', 'ph good', 'phase detect', 'phn good', 'phon good', 'phone 10', 'phone 100', 'phone 11', 'phone 11k', 'phone 12000', 'phone 12k', 'phone 13', 'phone 13000', 'phone 14000', 'phone 14k', 'phone 15', 'phone 15000', 'phone 15k', 'phone 1month', 'phone 1st', 'phone 20', 'phone 2017', 'phone 22', 'phone 25', 'phone 25th', 'phone 2days', 'phone 30', 'phone 3000', 'phone 4000', 'phone 44', 'phone 4g', 'phone 4gb', 'phone 64gb', 'phone able', 'phone absolute', 'phone absolutely', 'phone actually', 'phone added', 'phone advanced', 'phone affordable', 'phone ahead', 'phone alright', 'phone amazing', 'phone amazon', 'phone android', 'phone app', 'phone application', 'phone apps', 'phone arrived', 'phone ask', 'phone asking', 'phone aspect', 'phone auto', 'phone automatically', 'phone available', 'phone average', 'phone awasome', 'phone awesome', 'phone bad', 'phone basic', 'phone batry', 'phone batteries', 'phone battery', 'phone bcz', 'phone beat', 'phone bed', 'phone best', 'phone better', 'phone big', 'phone biggest', 'phone bit', 'phone bluetooth', 'phone body', 'phone bokeh', 'phone book', 'phone bought', 'phone box', 'phone brand', 'phone brilliant', 'phone broke', 'phone bt', 'phone budget', 'phone bug', 'phone buget', 'phone bugs', 'phone build', 'phone built', 'phone bulky', 'phone buy', 'phone buying', 'phone calls', 'phone came', 'phone camera', 'phone capable', 'phone car', 'phone cash', 'phone cast', 'phone casting', 'phone category', 'phone change', 'phone changed', 'phone charge', 'phone charged', 'phone charger', 'phone charges', 'phone charging', 'phone cheap', 'phone choice', 'phone choose', 'phone come', 'phone comes', 'phone company', 'phone compare', 'phone compared', 'phone comparison', 'phone complete', 'phone completely', 'phone configuration', 'phone connect', 'phone connecting', 'phone cons', 'phone considering', 'phone contact', 'phone cool', 'phone cost', 'phone costs', 'phone couldn', 'phone cover', 'phone covered', 'phone coz', 'phone customer', 'phone daily', 'phone damaged', 'phone dark', 'phone data', 'phone day', 'phone days', 'phone dead', 'phone december', 'phone decent', 'phone defective', 'phone definitely', 'phone delivered', 'phone delivery', 'phone department', 'phone depth', 'phone design', 'phone did', 'phone didn', 'phone die', 'phone different', 'phone disappointed', 'phone disappointing', 'phone disaster', 'phone discharging', 'phone display', 'phone dissatisfied', 'phone does', 'phone doesn', 'phone doesnt', 'phone doing', 'phone dolby', 'phone don', 'phone dont', 'phone doubt', 'phone draining', 'phone drawbacks', 'phone dual', 'phone ear', 'phone earth', 'phone easily', 'phone easy', 'phone enjoying', 'phone especially', 'phone excellent', 'phone expect', 'phone expectations', 'phone expected', 'phone extra', 'phone faced', 'phone facing', 'phone fake', 'phone fall', 'phone far', 'phone fast', 'phone faulty', 'phone feature', 'phone features', 'phone feel', 'phone feeling', 'phone feels', 'phone fell', 'phone fine', 'phone fingerprint', 'phone flash', 'phone following', 'phone follows', 'phone form', 'phone friend', 'phone fully', 'phone fun', 'phone functioning', 'phone functions', 'phone game', 'phone gamer', 'phone gamers', 'phone gaming', 'phone geeting', 'phone gets', 'phone getting', 'phone gift', 'phone given', 'phone gives', 'phone goes', 'phone going', 'phone gone', 'phone good', 'phone goodbut', 'phone google', 'phone gorilla', 'phone got', 'phone great', 'phone gud', 'phone guys', 'phone hai', 'phone half', 'phone hand', 'phone hands', 'phone handset', 'phone hang', 'phone hanged', 'phone hanging', 'phone hangs', 'phone happy', 'phone hardware', 'phone having', 'phone headphone', 'phone headphones', 'phone heat', 'phone heated', 'phone heating', 'phone heats', 'phone heavy', 'phone help', 'phone hey', 'phone high', 'phone highly', 'phone hit', 'phone hitting', 'phone hope', 'phone horrible', 'phone hot', 'phone hour', 'phone hours', 'phone hrs', 'phone hv', 'phone idle', 'phone immediately', 'phone impressive', 'phone inbuilt', 'phone india', 'phone informed', 'phone initially', 'phone instead', 'phone internal', 'phone issue', 'phone issues', 'phone jack', 'phone jio', 'phone just', 'phone k4', 'phone k5', 'phone k8', 'phone ka', 'phone keeps', 'phone kept', 'phone ki', 'phone killer', 'phone kind', 'phone kindly', 'phone ko', 'phone kuch', 'phone lack', 'phone lacks', 'phone lag', 'phone lagging', 'phone lags', 'phone latest', 'phone led', 'phone lenevo', 'phone lenovo', 'phone let', 'phone life', 'phone light', 'phone like', 'phone liked', 'phone lineup', 'phone little', 'phone liya', 'phone ll', 'phone loaded', 'phone long', 'phone look', 'phone looking', 'phone looks', 'phone loses', 'phone lost', 'phone lot', 'phone lots', 'phone love', 'phone loved', 'phone low', 'phone lower', 'phone lowest', 'phone lte', 'phone main', 'phone major', 'phone make', 'phone makes', 'phone manner', 'phone mark', 'phone market', 'phone mat', 'phone means', 'phone mediatek', 'phone memory', 'phone message', 'phone met', 'phone mi', 'phone minor', 'phone minus', 'phone missing', 'phone mobile', 'phone model', 'phone moderate', 'phone money', 'phone month', 'phone months', 'phone morning', 'phone motorola', 'phone music', 'phone need', 'phone needs', 'phone network', 'phone new', 'phone nice', 'phone night', 'phone non', 'phone normal', 'phone normally', 'phone november', 'phone number', 'phone offer', 'phone office', 'phone ok', 'phone old', 'phone online', 'phone operating', 'phone order', 'phone ordered', 'phone oreo', 'phone os', 'phone outstanding', 'phone overall', 'phone overheating', 'phone overheats', 'phone owsome', 'phone package', 'phone packed', 'phone past', 'phone pay', 'phone pc', 'phone perfect', 'phone perform', 'phone performance', 'phone performing', 'phone personally', 'phone phone', 'phone phones', 'phone picture', 'phone piece', 'phone planning', 'phone play', 'phone playing', 'phone pls', 'phone plz', 'phone pocket', 'phone poor', 'phone possible', 'phone power', 'phone premium', 'phone pretty', 'phone previously', 'phone price', 'phone primary', 'phone problem', 'phone problems', 'phone process', 'phone processing', 'phone processor', 'phone product', 'phone promised', 'phone proper', 'phone pros', 'phone prove', 'phone provide', 'phone provided', 'phone providing', 'phone purchase', 'phone purchased', 'phone quality', 'phone questions', 'phone quick', 'phone quickly', 'phone quite', 'phone ram', 'phone range', 'phone rate', 'phone reachable', 'phone reading', 'phone ready', 'phone reality', 'phone really', 'phone rear', 'phone reasonable', 'phone receive', 'phone received', 'phone recommend', 'phone recommended', 'phone recorder', 'phone recording', 'phone redmi', 'phone regret', 'phone regularly', 'phone repair', 'phone replace', 'phone replaced', 'phone replacement', 'phone reset', 'phone response', 'phone rest', 'phone restart', 'phone restarted', 'phone restarts', 'phone return', 'phone review', 'phone ring', 'phone rs', 'phone run', 'phone running', 'phone said', 'phone sale', 'phone satisfied', 'phone save', 'phone saw', 'phone say', 'phone screen', 'phone second', 'phone seeing', 'phone seen', 'phone segment', 'phone sell', 'phone sep', 'phone service', 'phone showed', 'phone showing', 'phone shows', 'phone shut', 'phone signal', 'phone silent', 'phone sim', 'phone simply', 'phone sims', 'phone sits', 'phone sleek', 'phone slight', 'phone slightly', 'phone slim', 'phone slow', 'phone slowed', 'phone small', 'phone smart', 'phone smooth', 'phone smoothly', 'phone software', 'phone solution', 'phone soon', 'phone sound', 'phone speaker', 'phone speakers', 'phone specially', 'phone specification', 'phone specifications', 'phone specs', 'phone speed', 'phone standby', 'phone star', 'phone stars', 'phone start', 'phone started', 'phone starting', 'phone starts', 'phone stock', 'phone stopped', 'phone stops', 'phone storage', 'phone strong', 'phone stuck', 'phone sub', 'phone sucks', 'phone suddenly', 'phone sufficient', 'phone suggest', 'phone suggesting', 'phone super', 'phone superb', 'phone superfast', 'phone support', 'phone switch', 'phone switched', 'phone switches', 'phone switching', 'phone takes', 'phone taking', 'phone temp', 'phone tempature', 'phone temperature', 'phone terms', 'phone thank', 'phone thanks', 'phone thik', 'phone thing', 'phone think', 'phone thought', 'phone time', 'phone times', 'phone today', 'phone total', 'phone totally', 'phone touch', 'phone tried', 'phone true', 'phone trust', 'phone trying', 'phone turbo', 'phone turn', 'phone turning', 'phone turns', 'phone tv', 'phone twice', 'phone type', 'phone unhappy', 'phone update', 'phone updated', 'phone upto', 'phone usb', 'phone use', 'phone used', 'phone useless', 'phone user', 'phone users', 'phone using', 'phone usually', 'phone value', 'phone ve', 'phone video', 'phone volte', 'phone volume', 'phone wait', 'phone waiting', 'phone want', 'phone warm', 'phone warranty', 'phone waste', 'phone wasted', 'phone watching', 'phone way', 'phone week', 'phone weeks', 'phone weight', 'phone wifi', 'phone wise', 'phone wonderful', 'phone work', 'phone worked', 'phone working', 'phone works', 'phone world', 'phone worst', 'phone worth', 'phone worthless', 'phone worthy', 'phone writing', 'phone ye', 'phone year', 'phone yesterday', 'phone1 battery', 'phoneall features', 'phonecamera good', 'phonecamera quality', 'phonegood battery', 'phones amazon', 'phones available', 'phones battery', 'phones best', 'phones better', 'phones box', 'phones bt', 'phones budget', 'phones camera', 'phones category', 'phones disappointed', 'phones does', 'phones dolby', 'phones don', 'phones dual', 'phones especially', 'phones features', 'phones gets', 'phones given', 'phones good', 'phones k8', 'phones keys', 'phones lenovo', 'phones like', 'phones lower', 'phones mi', 'phones need', 'phones ok', 'phones phone', 'phones price', 'phones problem', 'phones product', 'phones range', 'phones review', 'phones software', 'phones sold', 'phones used', 'phones work', 'phones worst', 'photo app', 'photo battery', 'photo clarity', 'photo clearity', 'photo details', 'photo editing', 'photo gallery', 'photo quality', 'photo shots', 'photography using', 'photos app', 'photos battery', 'photos camera', 'photos clear', 'photos feel', 'photos folder', 'photos good', 'photos google', 'photos look', 'photos option', 'photos taken', 'photos takes', 'photos videos', 'physical damage', 'pic clarity', 'pic quality', 'pic taken', 'pick phone', 'pick scheduled', 'pickup phone', 'pics bad', 'pics camera', 'pics clicked', 'pics good', 'pics quality', 'pics videos', 'picture depth', 'picture display', 'picture quality', 'picture sound', 'pictures battery', 'pictures blurred', 'pictures camera', 'pictures clear', 'pictures dual', 'pictures worst', 'piece 15w', 'piece charger', 'piece defective', 'piece delivered', 'piece don', 'piece phone', 'piece received', 'piece send', 'piece shit', 'piece turbo', 'piece volume', 'pillar post', 'pin available', 'pin insert', 'pin working', 'pixal poor', 'pixels low', 'pl don', 'pl dont', 'pl help', 'place order', 'placed order', 'placing order', 'planning buy', 'planning return', 'plastic case', 'plastic cover', 'play bluetooth', 'play bought', 'play camera', 'play clash', 'play game', 'play games', 'play heavy', 'play music', 'play pause', 'play store', 'play video', 'play youtube', 'playback 14', 'player app', 'player gallery', 'player google', 'player lenovo', 'player phone', 'player play', 'player video', 'playing asphalt', 'playing basic', 'playing big', 'playing game', 'playing games', 'playing heavy', 'playing high', 'playing hour', 'playing music', 'playing online', 'playing simple', 'playing songs', 'playing video', 'playing videos', 'playing youtube', 'pls advice', 'pls buy', 'pls confirm', 'pls dnt', 'pls don', 'pls dont', 'pls guys', 'pls help', 'pls improve', 'pls lenovo', 'pls pls', 'pls reply', 'pls return', 'pls send', 'pls solve', 'plug charging', 'plug phone', 'plus 4gb', 'plus battery', 'plus better', 'plus dual', 'plus far', 'plus fast', 'plus good', 'plus heating', 'plus instead', 'plus k8', 'plus lenovo', 'plus mobile', 'plus moto', 'plus phone', 'plus phones', 'plus point', 'plus points', 'plus redmi', 'plus samsung', 'plz dnt', 'plz don', 'plz dont', 'plz fix', 'plz help', 'plz ignore', 'plz lenovo', 'plz plz', 'plz provide', 'plz refund', 'plz return', 'plz send', 'plz solve', 'plz suggest', 'plz tell', 'plz update', 'plzz dont', 'plzzz lenovo', 'plzzzz help', 'pocket mode', 'point battery', 'point bought', 'point camera', 'point having', 'point phone', 'point time', 'point view', 'policy amazon', 'policy bad', 'policy days', 'policy exchange', 'policy good', 'policy poor', 'policy refund', 'policy suggest', 'policy use', 'policy worst', 'poor according', 'poor amazon', 'poor app', 'poor audio', 'poor bad', 'poor battery', 'poor bluetooth', 'poor buy', 'poor camera', 'poor cast', 'poor charger', 'poor charging', 'poor clarity', 'poor compare', 'poor compared', 'poor coverage', 'poor customer', 'poor day', 'poor depth', 'poor disappointed', 'poor display', 'poor don', 'poor drains', 'poor dual', 'poor experience', 'poor extra', 'poor features', 'poor getting', 'poor good', 'poor gorilla', 'poor gpu', 'poor graphics', 'poor handset', 'poor hardly', 'poor hardware', 'poor heat', 'poor heating', 'poor image', 'poor interface', 'poor issues', 'poor k5', 'poor lenovo', 'poor like', 'poor look', 'poor low', 'poor mobile', 'poor music', 'poor net', 'poor network', 'poor night', 'poor os', 'poor overall', 'poor performance', 'poor phone', 'poor pixels', 'poor pls', 'poor plz', 'poor poor', 'poor problem', 'poor product', 'poor purchase', 'poor quality', 'poor ram', 'poor redmi', 'poor response', 'poor return', 'poor screen', 'poor service', 'poor services', 'poor signal', 'poor slow', 'poor software', 'poor sound', 'poor support', 'poor takes', 'poor touch', 'poor using', 'poor video', 'poor worst', 'poor worth', 'poor2 heating', 'pop screen', 'popular phone', 'portrait mode', 'positive reviews', 'possible lenovo', 'possible mobile', 'post problem', 'posting review', 'potential buyers', 'potrait mode', 'power backup', 'power bank', 'power batter', 'power battery', 'power better', 'power button', 'power charger', 'power charging', 'power connected', 'power consumption', 'power good', 'power juice', 'power management', 'power mobile', 'power mode', 'power option', 'power saver', 'power saving', 'power screen', 'power volume', 'powerful hardware', 'powerful performance', 'powerful phone', 'powerful processor', 'powerfull battery', 'pr hang', 'pr lenovo', 'pre installed', 'precious money', 'prefer buy', 'prefer lenovo', 'preferred lenovo', 'preforming phone', 'premium features', 'premium look', 'premium phone', 'premium quality', 'present good', 'present infrared', 'present phone', 'press power', 'press volume', 'pretty average', 'pretty bad', 'pretty decent', 'pretty fast', 'pretty good', 'pretty happy', 'pretty quick', 'pretty smooth', 'pretty solid', 'previous handset', 'previous k4', 'previous lenovo', 'previous models', 'previous phone', 'previous review', 'previous version', 'previous versions', 'previously used', 'previously using', 'price 14000', 'price amazon', 'price available', 'price awesome', 'price bad', 'price band', 'price battery', 'price best', 'price better', 'price big', 'price bought', 'price bracket', 'price buy', 'price camera', 'price cameras', 'price category', 'price come', 'price dedicated', 'price delivery', 'price drop', 'price dropped', 'price features', 'price good', 'price got', 'price great', 'price happy', 'price heating', 'price high', 'price issue', 'price just', 'price lags', 'price lenovo', 'price like', 'price little', 'price loved', 'price mi', 'price mind', 'price mobile', 'price nice', 'price offered', 'price overall', 'price paid', 'price pay', 'price paying', 'price performance', 'price phone', 'price point', 'price price', 'price quality', 'price range', 'price rate', 'price really', 'price reasonable', 'price reduced', 'price segment', 'price slashed', 'price sound', 'price specifications', 'price suggest', 'price superb', 'price tag', 'price thanks', 'price thing', 'price think', 'price took', 'price totally', 'price used', 'price using', 'price value', 'price wise', 'price working', 'price worth', 'price worthy', 'pricerear camera', 'primary camera', 'primary secondary', 'primary sensor', 'primary sim', 'prime member', 'prime service', 'prime videos', 'print lock', 'print older', 'print scanner', 'print sensor', 'print working', 'prise range', 'prize range', 'pro cam', 'pro mode', 'probably best', 'problem 15', 'problem 2nd', 'problem 3rd', 'problem 4000', 'problem 4g', 'problem able', 'problem amazon', 'problem audio', 'problem automatic', 'problem bad', 'problem battery', 'problem best', 'problem bettery', 'problem big', 'problem bluetooth', 'problem buy', 'problem buying', 'problem came', 'problem camera', 'problem cast', 'problem change', 'problem charge', 'problem charger', 'problem charging', 'problem come', 'problem comes', 'problem company', 'problem connecting', 'problem connection', 'problem connectivity', 'problem continues', 'problem data', 'problem day', 'problem days', 'problem depth', 'problem device', 'problem didn', 'problem disappointed', 'problem display', 'problem does', 'problem doesn', 'problem dolby', 'problem don', 'problem dont', 'problem draining', 'problem dual', 'problem early', 'problem face', 'problem faced', 'problem facing', 'problem feel', 'problem feels', 'problem finally', 'problem gallery', 'problem gets', 'problem getting', 'problem good', 'problem got', 'problem hai', 'problem half', 'problem handset', 'problem hang', 'problem hanging', 'problem having', 'problem headphones', 'problem heat', 'problem heating', 'problem heats', 'problem help', 'problem high', 'problem ho', 'problem hold', 'problem hour', 'problem images', 'problem incoming', 'problem issue', 'problem jio', 'problem just', 'problem k8', 'problem killer', 'problem kindly', 'problem lagging', 'problem lags', 'problem lenevo', 'problem lenovo', 'problem like', 'problem listening', 'problem low', 'problem mentioned', 'problem mobile', 'problem month', 'problem months', 'problem need', 'problem needs', 'problem net', 'problem network', 'problem new', 'problem nice', 'problem notification', 'problem occur', 'problem occurred', 'problem occurs', 'problem overall', 'problem overheating', 'problem persist', 'problem phone', 'problem picture', 'problem piece', 'problem play', 'problem playing', 'problem pls', 'problem poor', 'problem problem', 'problem processor', 'problem product', 'problem proper', 'problem purchase', 'problem quick', 'problem ram', 'problem rear', 'problem recommend', 'problem rectified', 'problem rectify', 'problem refund', 'problem replacement', 'problem request', 'problem resolved', 'problem return', 'problem satisfied', 'problem screen', 'problem service', 'problem signal', 'problem sim', 'problem single', 'problem slow', 'problem sms', 'problem software', 'problem solution', 'problem solve', 'problem solved', 'problem soon', 'problem sound', 'problem speaker', 'problem start', 'problem started', 'problem suggest', 'problem switch', 'problem takes', 'problem taking', 'problem thing', 'problem think', 'problem thought', 'problem till', 'problem time', 'problem times', 'problem totally', 'problem touch', 'problem turbo', 'problem update', 'problem updates', 'problem use', 'problem using', 'problem volte', 'problem want', 'problem wasted', 'problem week', 'problem working', 'problem worst', 'problem year', 'problembattery backup', 'problemdon buy', 'problems applications', 'problems arise', 'problems battery', 'problems big', 'problems bluetooth', 'problems camera', 'problems charging', 'problems connecting', 'problems contacts', 'problems device', 'problems don', 'problems faced', 'problems facing', 'problems hotspot', 'problems iam', 'problems incoming', 'problems lenovo', 'problems like', 'problems like1', 'problems mobile', 'problems network', 'problems noticed', 'problems occuring', 'problems phone', 'problems product', 'problems said', 'problems software', 'problems solved', 'problems thanks', 'process amazon', 'process bad', 'process good', 'processer best', 'processer good', 'processer phone', 'processing camera', 'processing fast', 'processing good', 'processing great', 'processing power', 'processing slow', 'processing speed', 'processor 4gb', 'processor awesome', 'processor bad', 'processor battery', 'processor best', 'processor better', 'processor camera', 'processor capable', 'processor consumes', 'processor currently', 'processor deca', 'processor don', 'processor fast', 'processor game', 'processor good', 'processor heat', 'processor heating', 'processor heats', 'processor high', 'processor just', 'processor keeps', 'processor lag', 'processor lags', 'processor lenovo', 'processor long', 'processor makes', 'processor mediatek', 'processor mobile', 'processor ok', 'processor performance', 'processor performancene', 'processor phone', 'processor processor', 'processor ram', 'processor slow', 'processor smooth', 'processor snapdragon', 'processor speed', 'processor superb', 'processor support', 'processor sure', 'processor turbo', 'processor use', 'processor used', 'processor working', 'processor works', 'processor worst', 'processors good', 'produce heat', 'produces heating', 'product 10', 'product 14k', 'product according', 'product advertised', 'product affordable', 'product amazing', 'product amazon', 'product amazone', 'product appears', 'product arrived', 'product awesome', 'product bad', 'product battery', 'product best', 'product better', 'product bokeh', 'product bothered', 'product bought', 'product box', 'product brought', 'product budget', 'product buy', 'product came', 'product camera', 'product cash', 'product cast', 'product charger', 'product charging', 'product cheap', 'product check', 'product checking', 'product choose', 'product committed', 'product company', 'product cons', 'product cost', 'product damaged', 'product day', 'product days', 'product defect', 'product defective', 'product delivered', 'product delivery', 'product description', 'product didn', 'product disappointed', 'product display', 'product does', 'product doesn', 'product don', 'product dont', 'product earphone', 'product earphones', 'product easy', 'product excellent', 'product expected', 'product expecting', 'product faced', 'product facing', 'product far', 'product fast', 'product faulty', 'product feature', 'product features', 'product feel', 'product fulfill', 'product fully', 'product giving', 'product good', 'product gorilla', 'product got', 'product great', 'product handy', 'product hanging', 'product happy', 'product hardware', 'product having', 'product heat', 'product heated', 'product heating', 'product heats', 'product help', 'product high', 'product highly', 'product hours', 'product im', 'product immediately', 'product inbuilt', 'product information', 'product invoice', 'product isn', 'product issue', 'product issues', 'product item', 'product just', 'product killer', 'product kindly', 'product late', 'product lenova', 'product lenovo', 'product lenovobattery', 'product life', 'product like', 'product liked', 'product looking', 'product looks', 'product loss', 'product lots', 'product love', 'product loved', 'product low', 'product mainly', 'product make', 'product makes', 'product mentioned', 'product met', 'product mi', 'product missing', 'product mobile', 'product money', 'product month', 'product months', 'product need', 'product network', 'product new', 'product nice', 'product notification', 'product ok', 'product okay', 'product page', 'product pathetic', 'product perfect', 'product performance', 'product performing', 'product phone', 'product pls', 'product poor', 'product price', 'product prise', 'product problem', 'product product', 'product proper', 'product purchase', 'product purchased', 'product quality', 'product quick', 'product quite', 'product range', 'product rate', 'product reached', 'product really', 'product rear', 'product reasonable', 'product received', 'product recently', 'product recording', 'product refund', 'product regret', 'product released', 'product replaced', 'product return', 'product returned', 'product returning', 'product satisfaction', 'product satisfied', 'product say', 'product says', 'product screen', 'product second', 'product seen', 'product sell', 'product seller', 'product service', 'product signals', 'product slow', 'product software', 'product sold', 'product soon', 'product speaker', 'product specification', 'product specifications', 'product started', 'product suggest', 'product super', 'product superb', 'product thank', 'product thanks', 'product time', 'product timely', 'product times', 'product today', 'product totally', 'product turbo', 'product use', 'product used', 'product users', 'product using', 'product value', 'product want', 'product warranty', 'product waste', 'product weeks', 'product working', 'product works', 'product worst', 'product worth', 'product worthy', 'productbattery drain', 'products amazon', 'products available', 'products felt', 'products lenovo', 'professional mode', 'professional photography', 'promised lenovo', 'prompt delivery', 'proof gorilla', 'proper mobile', 'proper network', 'proper response', 'proper screen', 'proper service', 'proper software', 'proper work', 'proper working', 'properly android', 'properly apps', 'properly audio', 'properly automatically', 'properly bad', 'properly battery', 'properly bluetooth', 'properly camera', 'properly day', 'properly disappointed', 'properly disconnects', 'properly exchange', 'properly getting', 'properly google', 'properly got', 'properly hanging', 'properly heating', 'properly incoming', 'properly just', 'properly lags', 'properly like', 'properly love', 'properly mobile', 'properly months', 'properly need', 'properly phone', 'properly problem', 'properly returned', 'properly screen', 'properly signal', 'properly sound', 'properly suggest', 'properly takes', 'properly taking', 'properly time', 'properly tried', 'properly work', 'properly working', 'properly worst', 'pros camera', 'pros cons', 'pros fantastic', 'pros good', 'pros looks', 'pros turbo', 'pros1 good', 'prosit dual', 'protect screen', 'protection glass', 'protection screen', 'protection water', 'provide basic', 'provide better', 'provide dolby', 'provide good', 'provide head', 'provide lenovo', 'provide refund', 'provide software', 'provide update', 'provide updates', 'provided amazon', 'provided box', 'provided cover', 'provided k8', 'provided lenovo', 'provided mobile', 'provided phone', 'provided screen', 'provided seller', 'provider metal', 'provides best', 'providing replacement', 'providing updates', 'proximity sensor', 'purchase bad', 'purchase battery', 'purchase cost', 'purchase date', 'purchase decision', 'purchase facing', 'purchase horrible', 'purchase issues', 'purchase item', 'purchase just', 'purchase k8', 'purchase lenovo', 'purchase mobile', 'purchase online', 'purchase phn', 'purchase phone', 'purchase product', 'purchase time', 'purchased 09', 'purchased 21', 'purchased august', 'purchased days', 'purchased device', 'purchased don', 'purchased jan', 'purchased k8', 'purchased lenevo', 'purchased lenovo', 'purchased mobile', 'purchased month', 'purchased months', 'purchased new', 'purchased phone', 'purchased product', 'purchased sale', 'purchased week', 'purchased worst', 'purchasing amazon', 'purchasing don', 'purchasing mobile', 'purchasing phone', 'purchasing product', 'pure android', 'pure chinese', 'pure stock', 'purpose need', 'quad core', 'qualities good', 'quality 10', 'quality 13', 'quality 64', 'quality amazing', 'quality amazon', 'quality average', 'quality awesome', 'quality bad', 'quality battery', 'quality best', 'quality better', 'quality big', 'quality build', 'quality buy', 'quality camera', 'quality charger', 'quality check', 'quality control', 'quality decent', 'quality device', 'quality disappointed', 'quality display', 'quality does', 'quality doesn', 'quality dolby', 'quality don', 'quality dont', 'quality dual', 'quality dull', 'quality earphone', 'quality earphones', 'quality excellent', 'quality expected', 'quality far', 'quality fine', 'quality getting', 'quality good', 'quality gorilla', 'quality great', 'quality gud', 'quality having', 'quality headphone', 'quality heating', 'quality high', 'quality images', 'quality impressive', 'quality improved', 'quality isn', 'quality issue', 'quality issues', 'quality just', 'quality k5', 'quality killer', 'quality lagging', 'quality lenovo', 'quality like', 'quality looks', 'quality low', 'quality lower', 'quality mark', 'quality medium', 'quality mi', 'quality mobile', 'quality music', 'quality need', 'quality nice', 'quality normal', 'quality ok', 'quality okay', 'quality overall', 'quality pathetic', 'quality perfect', 'quality performance', 'quality phone', 'quality photos', 'quality pics', 'quality picture', 'quality pictures', 'quality poor', 'quality poor2', 'quality pretty', 'quality previous', 'quality price', 'quality processor', 'quality product', 'quality products', 'quality quite', 'quality ram', 'quality really', 'quality rear', 'quality rest', 'quality return', 'quality satisfaction', 'quality satisfied', 'quality screen', 'quality service', 'quality setting', 'quality smartphone', 'quality sound', 'quality speaker', 'quality speakers', 'quality storage', 'quality stuff', 'quality super', 'quality superb', 'quality time', 'quality times', 'quality totally', 'quality turbo', 'quality upto', 'quality using', 'quality video', 'quality way', 'quality worst', 'quality worth', 'question fell', 'questions lenovo', 'quick ball', 'quick battery', 'quick charge', 'quick charger', 'quick charging', 'quick delivery', 'quick got', 'quick response', 'quick service', 'quickly battery', 'quickly camera', 'quickly charging', 'quickly compared', 'quickly dnt', 'quickly don', 'quickly expected', 'quickly heating', 'quickly just', 'quickly like', 'quickly need', 'quickly sound', 'quickly turbo', 'quickly using', 'quite bulky', 'quite disappointed', 'quite fast', 'quite frequently', 'quite good', 'quite happy', 'quite heavy', 'quite impressive', 'quite irritating', 'quite ok', 'quite satisfied', 'quite warm', 'quoting policy', 'raha battery', 'raha hai', 'raha hu', 'rahi hai', 'raised complaint', 'raised request', 'raised return', 'raj mishra7383506358', 'rajkot service', 'ram 10', 'ram 32gb', 'ram 4gb', 'ram 64', 'ram 64gb', 'ram available', 'ram battery', 'ram best', 'ram better', 'ram camera', 'ram deca', 'ram does', 'ram dual', 'ram gb', 'ram gets', 'ram good', 'ram heating', 'ram internal', 'ram just', 'ram lenovo', 'ram makes', 'ram management', 'ram memory', 'ram performance', 'ram phone', 'ram processor', 'ram rom', 'ram speed', 'ram storage', 'ram usage', 'ram use', 'ram variant', 'ram varient', 'ram work', 'ramfinger print', 'randomly issue', 'range 10k', 'range available', 'range awesome', 'range battery', 'range best', 'range bought', 'range brands', 'range build', 'range camera', 'range company', 'range cost', 'range definitely', 'range don', 'range dont', 'range dual', 'range extremely', 'range face', 'range fast', 'range features', 'range finger', 'range gets', 'range good', 'range got', 'range great', 'range happy', 'range heating', 'range issue', 'range just', 'range k8', 'range lenovo', 'range mobile', 'range noisy', 'range overall', 'range phone', 'range phones', 'range pls', 'range power', 'range price', 'range problem', 'range really', 'range rs', 'range smartphone', 'range smartphones', 'range software', 'range sound', 'range stock', 'range touch', 'range value', 'range waste', 'rapid charger', 'rapid charging', 'rare camera', 'rate camera', 'rate decreases', 'rate experience', 'rate faster', 'rate phone', 'rate star', 'rating lenovo', 'rating star', 'rating stars', 'reach 100', 'reach expectations', 'reached expectations', 'read reviews', 'reading good', 'reading reviews', 'ready help', 'ready replace', 'real bokeh', 'real fast', 'real killer', 'real life', 'real problem', 'real time', 'real value', 'reality worst', 'realized buying', 'really 4000', 'really amazing', 'really appreciate', 'really awesome', 'really bad', 'really battery', 'really capture', 'really cool', 'really difficult', 'really disappointed', 'really disappointing', 'really don', 'really excellent', 'really fantastic', 'really fast', 'really faster', 'really felt', 'really good', 'really great', 'really happy', 'really heavy', 'really horrible', 'really impressed', 'really just', 'really killer', 'really like', 'really liked', 'really love', 'really loved', 'really mean', 'really need', 'really nice', 'really pathetic', 'really poor', 'really really', 'really satisfied', 'really scared', 'really slow', 'really smooth', 'really sucks', 'really suggest', 'really super', 'really superb', 'really sure', 'really true', 'really unhappy', 'really using', 'really want', 'really waste', 'really works', 'really worst', 'really worth', 'rear 13', 'rear 5mp', 'rear cam', 'rear camara', 'rear camera', 'rear cameras', 'rear dual', 'rear flash', 'rear good', 'reason bought', 'reason buy', 'reason giving', 'reasonable price', 'reasonably good', 'reboot automatically', 'reboot issues', 'rebooted mobile', 'receive calls', 'receive head', 'receive incoming', 'receive oreo', 'receive sms', 'received amazon', 'received best', 'received damage', 'received damaged', 'received day', 'received days', 'received defective', 'received ear', 'received earphones', 'received faulty', 'received good', 'received handset', 'received headphone', 'received k8', 'received lenovo', 'received mobile', 'received new', 'received original', 'received phone', 'received piece', 'received problem', 'received product', 'received replacement', 'received today', 'received update', 'received used', 'received yesterday', 'receiving calls', 'receiving device', 'receiving phone', 'receiving problem', 'receiving product', 'receiving signal', 'receiving times', 'recent apps', 'recent software', 'recent update', 'recent updates', 'recently purchased', 'reception bad', 'reception issue', 'reception poor', 'reception quality', 'reception strong', 'recharge phone', 'recieve calls', 'recommend 4gb', 'recommend buy', 'recommend buying', 'recommend don', 'recommend friends', 'recommend phone', 'recommend product', 'recommend purchase', 'recommended buy', 'recommended lenovo', 'recommended phone', 'recommended price', 'record calls', 'record facility', 'record feature', 'record option', 'record phone', 'record video', 'recorder app', 'recorder apps', 'recorder available', 'recorder facility', 'recorder like', 'recorder notes', 'recorder screen', 'recorder support', 'recorder working', 'recorder works', 'recording app', 'recording apps', 'recording available', 'recording calling', 'recording default', 'recording facility', 'recording feature', 'recording function', 'recording internet', 'recording missing', 'recording option', 'recording options', 'recording party', 'recording phone', 'recording possible', 'recording screen', 'recording slow', 'recording video', 'recording voice', 'rectifiable issue', 'rectified sure', 'rectify issue', 'rectify lenovo', 'rectify problem', 'red mi', 'redimi note', 'redme note', 'redmi 3s', 'redmi better', 'redmi brands', 'redmi don', 'redmi lasts', 'redmi mi', 'redmi mobile', 'redmi note', 'redmi note4', 'redmi phone', 'redmi phones', 'reduced rs', 'refer buy', 'refund amazon', 'refund asking', 'refund bhi', 'refund cheating', 'refund consumer', 'refund don', 'refund exchange', 'refund instead', 'refund like', 'refund money', 'refund replace', 'refund replacement', 'refund return', 'refund thanks', 'refuse return', 'refused replace', 'regarding issues', 'regarding phone', 'regarding speed', 'regret buying', 'regret decision', 'regret like', 'regretting buying', 'regular updates', 'regular usage', 'regular use', 'regular user', 'related issue', 'related issues', 'release update', 'releasing market', 'reliance jio', 'remaining good', 'remains hot', 'remove mechanism', 'remove sim', 'repair mobile', 'repair new', 'repair phone', 'repair replace', 'repairing cost', 'repeat days', 'replace bhi', 'replace defective', 'replace device', 'replace faulty', 'replace item', 'replace mobile', 'replace new', 'replace phone', 'replace policy', 'replace product', 'replace refund', 'replace return', 'replace screen', 'replace service', 'replace warranty', 'replaced heating', 'replaced lenovo', 'replaced mobile', 'replaced new', 'replaced phone', 'replaced problem', 'replaced product', 'replaced replaced', 'replacement amazon', 'replacement battery', 'replacement confirmed', 'replacement defective', 'replacement device', 'replacement didn', 'replacement don', 'replacement getting', 'replacement issue', 'replacement mobile', 'replacement new', 'replacement phone', 'replacement piece', 'replacement policy', 'replacement problem', 'replacement product', 'replacement refund', 'replacement replacement', 'replacement return', 'replacement screen', 'replacement thought', 'replacement till', 'replacement unit', 'replacement warranty', 'reply customer', 'reply lenovo', 'reply return', 'report lenovo', 'reported issue', 'republic day', 'reputation amazon', 'request amazon', 'request buy', 'request don', 'request dont', 'request lenovo', 'request refund', 'request replace', 'request replacement', 'request return', 'requested amazon', 'requested refund', 'requested replacement', 'requested return', 'requesting lenovo', 'required deca', 'resale value', 'resell value', 'reset phone', 'resets night', 'resetting randomly', 'resistant music', 'resistant support', 'resolution battery', 'resolution camera', 'resolution don', 'resolution high', 'resolution phone', 'resolution problem', 'resolution quality', 'resolve issue', 'resolve problem', 'resolved don', 'resolved lenovo', 'resolved software', 'resolved soon', 'responding disconnected', 'responding properly', 'responding slow', 'response amazon', 'response customer', 'response good', 'response lenovo', 'response note', 'response phone', 'response service', 'response slow', 'response time', 'response touch', 'response worst', 'responsive modified', 'rest features', 'rest fine', 'rest good', 'rest lenovo', 'rest ok', 'rest perfect', 'rest phone', 'rest superb', 'rest things', 'restart automatically', 'restart device', 'restart ho', 'restart mobile', 'restart phone', 'restart restart', 'restart time', 'restarted automatically', 'restarting automatically', 'restarting frequently', 'restarting phone', 'restarts automatically', 'result excellent', 'result good', 'results good', 'results poor', 'return amazon', 'return buy', 'return date', 'return day', 'return days', 'return defective', 'return device', 'return disappointed', 'return facility', 'return item', 'return k8', 'return kindly', 'return mobile', 'return money', 'return option', 'return order', 'return period', 'return phone', 'return pick', 'return policy', 'return procedure', 'return process', 'return product', 'return quoting', 'return refund', 'return replace', 'return replaced', 'return request', 'return return', 'return sell', 'return time', 'return unable', 'return want', 'return window', 'returned day', 'returned got', 'returned mobile', 'returned phone', 'returned product', 'returning amazon', 'returning phone', 'returning policy', 'returning product', 'returns policy', 'returns product', 'review amazon', 'review best', 'review days', 'review don', 'review good', 'review helped', 'review helpful', 'review helps', 'review long', 'review month', 'review months', 'review phone', 'review product', 'review star', 'review used', 'review using', 'review week', 'review weeks', 'reviewed phone', 'reviews bad', 'reviews phone', 'reviews really', 'rha hai', 'rha hu', 'rich phone', 'right amazon', 'right easy', 'right hander', 'right speaker', 'right time', 'ring tone', 'ring tones', 'ring volume', 'ringer volume', 'ringing volume', 'ringtone custom', 'ringtone cutter', 'ringtone folder', 'ringtone inbuilt', 'ringtone ka', 'ringtone kinda', 'ringtone option', 'ringtone options', 'ringtone set', 'ringtone setting', 'ringtone use', 'ringtone want', 'ringtones available', 'rivals snapdragon', 'rom extra', 'rom ram', 'rough tough', 'rough usage', 'rough use', 'round performance', 'rounder phone', 'rs 1000', 'rs 10999', 'rs 12', 'rs 12000', 'rs 12999', 'rs 13000', 'rs 14k', 'rs 1500', 'rs 2000', 'rs 3000', 'rs 343', 'rs 5000', 'rs 5500', 'rs 650', 'rs 7000', 'run app', 'run hr', 'run pillar', 'run properly', 'run smoothly', 'running android', 'running applications', 'running background', 'running fine', 'running good', 'running phone', 'running properly', 'running smooth', 'running smoothly', 'runs android', 'runs quickly', 'runs smooth', 'sab thik', 'sabse ghatiya', 'sad product', 'said 376', 'said gorilla', 'said normal', 'said pay', 'said phone', 'said replace', 'said return', 'sale amazon', 'sale got', 'sale month', 'sale price', 'sale problem', 'sale product', 'sales adequate', 'samsung apple', 'samsung devices', 'samsung don', 'samsung galaxy', 'samsung iphone', 'samsung j7', 'samsung mobile', 'samsung mp', 'samsung note', 'samsung nxt', 'samsung phone', 'samsung phones', 'samsung price', 'samsung quality', 'samsung range', 'samsung smart', 'sath nhi', 'satisfaction phone', 'satisfactory camera', 'satisfactory product', 'satisfied amazon', 'satisfied battery', 'satisfied camera', 'satisfied days', 'satisfied depth', 'satisfied good', 'satisfied heating', 'satisfied just', 'satisfied k8', 'satisfied lenovo', 'satisfied mobile', 'satisfied money', 'satisfied overall', 'satisfied performance', 'satisfied phone', 'satisfied price', 'satisfied product', 'satisfied purchase', 'satisfied rear', 'satisfied receiving', 'satisfied sound', 'satisfy phone', 'satisfying good', 'save battery', 'save contact', 'save contacts', 'save email', 'save mode', 'save money', 'save new', 'saved phone', 'saver mode', 'saver setting', 'saving app', 'saving mode', 'saw advertisement', 'say battery', 'say best', 'say change', 'say don', 'say dual', 'say gorilla', 'say lenovo', 'say mi', 'say normal', 'say ok', 'say phone', 'say redmi', 'say time', 'say turbo', 'say want', 'saying 4000mah', 'saying replace', 'saying volte', 'says 4000', 'says corning', 'says phone', 'says product', 'says turbo', 'says volte', 'sbhi phone', 'sbi card', 'sbi debit', 'scale ll', 'scanner awesome', 'scanner doesn', 'scanner fast', 'scanner working', 'schedule power', 'scheduled option', 'scheduled power', 'scope improvement', 'scratch guard', 'scratch proof', 'scratch resistant', 'scratch screen', 'scratches cover', 'scratches easily', 'scratches pocket', 'scratches screen', 'screen amazing', 'screen available', 'screen big', 'screen bit', 'screen black', 'screen body', 'screen bright', 'screen brightness', 'screen broke', 'screen broken', 'screen camera', 'screen capture', 'screen card', 'screen cast', 'screen casting', 'screen change', 'screen clarity', 'screen cons', 'screen cost', 'screen covered', 'screen cracked', 'screen curved', 'screen customer', 'screen damage', 'screen damaged', 'screen device', 'screen display', 'screen does', 'screen doesn', 'screen dolby', 'screen don', 'screen edge', 'screen edges', 'screen feature', 'screen flickering', 'screen fragile', 'screen freezes', 'screen function', 'screen gets', 'screen glass', 'screen goes', 'screen going', 'screen good', 'screen gorilla', 'screen got', 'screen guard', 'screen guards', 'screen hot', 'screen issue', 'screen just', 'screen keeps', 'screen lenovo', 'screen light', 'screen little', 'screen lock', 'screen locked', 'screen looks', 'screen mirror', 'screen mirroring', 'screen mobile', 'screen mode', 'screen need', 'screen option', 'screen overall', 'screen phone', 'screen poor', 'screen problem', 'screen quality', 'screen really', 'screen recording', 'screen replacement', 'screen resolution', 'screen response', 'screen screen', 'screen share', 'screen sharing', 'screen short', 'screen shot', 'screen showing', 'screen size', 'screen smart', 'screen smooth', 'screen started', 'screen strong', 'screen super', 'screen supported', 'screen time', 'screen touch', 'screen tv', 'screen unlock', 'screen use', 'screen vr', 'screen way', 'screen weak', 'screen work', 'screen working', 'screenshot attached', 'screenshot battery', 'screenshot button', 'screenshot camera', 'screenshot crop', 'screenshot facility', 'screenshot icon', 'screenshot option', 'sd 625', 'sd card', 'sd insert', 'sd slot', 'sdcard slot', 'se kuch', 'se mat', 'se purchase', 'seal broken', 'seal open', 'seamless performance', 'search contact', 'second camera', 'second got', 'second hand', 'second lenovo', 'second mobile', 'second phone', 'second piece', 'second rear', 'second sim', 'second slot', 'second speaker', 'second thing', 'second thought', 'second time', 'secondary 5mp', 'secondary cam', 'secondary camera', 'secondary sim', 'secondly camera', 'seconds focus', 'seconds open', 'secure zone', 'security patch', 'security update', 'seeing phone', 'seen battery', 'seen camera', 'seen features', 'seen heating', 'seen lenovo', 'seen life', 'seen phone', 'seen product', 'segment better', 'segment camera', 'segment lenovo', 'segment love', 'segment performance', 'selfi camera', 'selfie 13', 'selfie cam', 'selfie camera', 'selfie flash', 'selfie good', 'selfie lover', 'selfie lovers', 'selfie phone', 'sell buy', 'sell phone', 'seller good', 'selling phone', 'selling phones', 'selling product', 'send invoice', 'send mails', 'send message', 'send messages', 'send multiple', 'send new', 'send receive', 'send replacement', 'send service', 'send sms', 'send technician', 'send update', 'sensor 13mp', 'sensor best', 'sensor camera', 'sensor dual', 'sensor fast', 'sensor good', 'sensor performance', 'sensor quick', 'sensor really', 'sensor response', 'sensor screen', 'sensor slow', 'sensor time', 'sensor touch', 'sensor working', 'sensor works', 'sent defective', 'sent technician', 'sep 2017', 'separate app', 'separate memory', 'separate ring', 'separate sd', 'separate sim', 'separate slot', 'september 2017', 'series 6000', 'series lenovo', 'series phones', 'seriously don', 'seriously lenovo', 'serves purpose', 'service amazon', 'service bad', 'service best', 'service better', 'service camera', 'service center', 'service centre', 'service centres', 'service don', 'service excellent', 'service feedback', 'service good', 'service lenovo', 'service low', 'service mobile', 'service nice', 'service pathetic', 'service poor', 'service product', 'service provide', 'service provided', 'service provider', 'service really', 'service report', 'service sales', 'service service', 'service station', 'service support', 'service time', 'service warranty', 'service worst', 'services amazon', 'set box', 'set brightness', 'set custom', 'set got', 'set heating', 'set ok', 'set preferred', 'set ringtone', 'set want', 'setting default', 'setting nhi', 'setting option', 'setting options', 'settings available', 'settings memory', 'settings options', 'setup good', 'setup just', 'seven months', 'severe issues', 'sexy phone', 'shame lenovo', 'shop amazon', 'short battery', 'short cut', 'short just', 'short time', 'shortcomings prosit', 'shortcut key', 'shot images', 'shot option', 'shot screen', 'shot switch', 'showing 4g', 'showing battery', 'showing caller', 'showing lenovo', 'showing low', 'showing problem', 'showing product', 'showing responding', 'showing true', 'showing volte', 'shown available', 'shown notification', 'shown screen', 'shows bar', 'shows bars', 'shows error', 'shows good', 'shows hrs', 'shows network', 'shows signal', 'shows strength', 'shows turbo', 'shutter speed', 'signal airtel', 'signal bad', 'signal bar', 'signal catching', 'signal data', 'signal drops', 'signal getting', 'signal issue', 'signal issues', 'signal lenovo', 'signal lost', 'signal low', 'signal network', 'signal poor', 'signal problem', 'signal problems', 'signal properly', 'signal quality', 'signal reception', 'signal showing', 'signal shows', 'signal signal', 'signal sim', 'signal strength', 'signal strong', 'signal time', 'signal weak', 'signal working', 'signals wifi', 'silent mode', 'sim 3g', 'sim 4g', 'sim automatically', 'sim battery', 'sim card', 'sim cards', 'sim dedicated', 'sim doesn', 'sim dual', 'sim ejector', 'sim issue', 'sim issues', 'sim jio', 'sim lenovo', 'sim memory', 'sim mobile', 'sim network', 'sim number', 'sim old', 'sim phone', 'sim plus', 'sim problem', 'sim range', 'sim sd', 'sim signal', 'sim sim', 'sim slot', 'sim slots', 'sim support', 'sim supporting', 'sim time', 'sim tray', 'sim use', 'sim used', 'sim using', 'sim volte', 'sim won', 'sim work', 'sim worked', 'sim working', 'sim works', 'similar issues', 'similar moto', 'similar phones', 'similarly priced', 'simple 10', 'simple app', 'simple day', 'simple games', 'simple phone', 'simple use', 'simply amazing', 'simply best', 'simply great', 'simply love', 'simply super', 'simply superb', 'simply waste', 'sims inserted', 'sims like', 'sims memory', 'sims sd', 'sims working', 'single camera', 'single charge', 'single day', 'single depth', 'single mode', 'single piece', 'single primary', 'single sim', 'single speaker', 'single star', 'single time', 'single white', 'single word', 'sir 15', 'sir lenovo', 'sir mera', 'sir want', 'sit gas', 'size good', 'size large', 'size small', 'size weight', 'skip phone', 'sleek design', 'sleek stylish', 'slight heating', 'slight problem', 'slightly better', 'slightly heated', 'slightly heating', 'slightly heavier', 'slightly heavy', 'slightly warm', 'slim good', 'slim slot', 'slipped hand', 'slips hand', 'slot 3g', 'slot big', 'slot cons', 'slot does', 'slot dual', 'slot free', 'slot good', 'slot means', 'slot memory', 'slot network', 'slot opening', 'slot sd', 'slot sim', 'slot support', 'slot supports', 'slot working', 'slots dedicated', 'slots sim', 'slots sims', 'slots support', 'slow bad', 'slow battery', 'slow booting', 'slow camera', 'slow charging', 'slow delivery', 'slow device', 'slow fast', 'slow gb', 'slow gets', 'slow hang', 'slow hangs', 'slow heat', 'slow hours', 'slow issue', 'slow lenovo', 'slow look', 'slow mo', 'slow motion', 'slow operating', 'slow operation', 'slow phone', 'slow process', 'slow processing', 'slow processor', 'slow takes', 'slow turbo', 'slow using', 'slow want', 'slow work', 'slowly charged', 'small budget', 'small fall', 'small features', 'small heating', 'small problems', 'small thing', 'small usage', 'small use', 'smart answer', 'smart check', 'smart chk', 'smart features', 'smart led', 'smart look', 'smart phone', 'smart phones', 'smart tv', 'smart tv2', 'smartcheck app', 'smartchk app', 'smartphone 15000', 'smartphone awesome', 'smartphone best', 'smartphone better', 'smartphone budget', 'smartphone camera', 'smartphone dual', 'smartphone excellent', 'smartphone good', 'smartphone lenovo', 'smartphone lot', 'smartphone opt', 'smartphone price', 'smartphone required', 'smartphone smart', 'smartphone superb', 'smartphone thank', 'smartphone till', 'smartphone using', 'smooth best', 'smooth camera', 'smooth display', 'smooth experience', 'smooth fast', 'smooth function', 'smooth functioning', 'smooth handling', 'smooth lag', 'smooth operating', 'smooth operation', 'smooth performance', 'smooth running', 'smooth till', 'smooth touch', 'smooth use', 'smooth user', 'smooth work', 'smooth working', 'smoother experience', 'smoothly battery', 'smoothly camera', 'smoothly phone', 'smoothly takes', 'smoothly waste', 'smoothly working', 'sms app', 'sms going', 'sms send', 'sms sending', 'snapdragon 625', 'snapdragon processor', 'snapdragon soc', 'soc cheapest', 'soc processor', 'social media', 'social networking', 'socket problem', 'socket working', 'soft battery', 'soft key', 'soft keys', 'soft update', 'software battery', 'software bug', 'software bugs', 'software corrupted', 'software days', 'software display', 'software does', 'software experience', 'software good', 'software hardware', 'software issue', 'software issues', 'software make', 'software needs', 'software phone', 'software poor', 'software problem', 'software problems', 'software recommended', 'software showing', 'software sound', 'software support', 'software update', 'software updated', 'software updateeven', 'software updates', 'software updation', 'software upgrade', 'software version', 'sold mobile', 'sold phone', 'solid build', 'solid performance', 'solution lenovo', 'solution problem', 'solve issue', 'solve problem', 'solve problems', 'solved ota', 'solved software', 'solving problem', 'song ringtone', 'sony camera', 'soo bad', 'soo good', 'soon battery', 'soon heating', 'soon network', 'soon possible', 'sorry say', 'sot hours', 'sound amazing', 'sound awesome', 'sound bad', 'sound bass', 'sound better', 'sound camera', 'sound charging', 'sound clarity', 'sound clear', 'sound comes', 'sound coming', 'sound cracks', 'sound display', 'sound dolby', 'sound effect', 'sound effects', 'sound enhancement', 'sound excellent', 'sound good', 'sound headphones', 'sound headset', 'sound just', 'sound k8', 'sound like', 'sound loud', 'sound low', 'sound model', 'sound music', 'sound nice', 'sound ok', 'sound output', 'sound phone', 'sound picture', 'sound poor', 'sound problem', 'sound quality', 'sound quality2', 'sound really', 'sound recorder', 'sound ring', 'sound speaker', 'sound things', 'sound video', 'sound week', 'sound work', 'sound working', 'sound worst', 'sounds funny', 'sounds good', 'sounds quality', 'sounds working', 'space 4gb', 'space camera', 'space memory', 'space ram', 'space using', 'spare parts', 'speaker audio', 'speaker battery', 'speaker camera', 'speaker does', 'speaker doesn', 'speaker failed', 'speaker given', 'speaker good', 'speaker got', 'speaker headphone', 'speaker issue', 'speaker loud', 'speaker low', 'speaker microphone', 'speaker mode', 'speaker nice', 'speaker option', 'speaker output', 'speaker performance', 'speaker phone', 'speaker poor', 'speaker problem', 'speaker quality', 'speaker right', 'speaker sound', 'speaker stop', 'speaker stopped', 'speaker stops', 'speaker voice', 'speaker volume', 'speaker work', 'speaker working', 'speaker works', 'speakers good', 'speakers k4', 'speakers left', 'speakers loud', 'speakers speaker', 'speakers volume', 'speakers working', 'special camera', 'special phone', 'specially camera', 'specially charging', 'specially depth', 'specially easy', 'specially worst', 'specific issue', 'specification able', 'specification price', 'specifications best', 'specifications camera', 'specifications good', 'specifications nice', 'specifications phone', 'specifications price', 'specifications stock', 'specs battery', 'specs doesn', 'specs good', 'specs just', 'specs paper', 'specs phone', 'specs price', 'speed 4gb', 'speed amazing', 'speed auto', 'speed awesome', 'speed battery', 'speed better', 'speed browsing', 'speed camera', 'speed dial', 'speed dialing', 'speed download', 'speed dual', 'speed fast', 'speed good', 'speed indicator', 'speed issue', 'speed like', 'speed live', 'speed looks', 'speed meter', 'speed metre', 'speed mobile', 'speed ok', 'speed ok4', 'speed okaysound', 'speed overall', 'speed performance', 'speed phone', 'speed processing', 'speed processor', 'speed ram', 'speed really', 'speed slow', 'speed smooth', 'speed terrible', 'speed test', 'spekar working', 'spend good', 'spend time', 'splash proof', 'splash resistant', 'split performancebattery', 'split screen', 'split window', 'spoke amazon', 'sports headphone', 'stable phone', 'stand days', 'stand hrs', 'stand mode', 'stand open', 'standard inch', 'standard k4', 'standard lenovo', 'standards 48', 'standby 4g', 'standby mode', 'star amazon', 'star available', 'star battery', 'star bcoz', 'star camera', 'star good', 'star lenovo', 'star new', 'star option', 'star phone', 'star poor', 'star rating', 'stars battery', 'stars definitely', 'start hanging', 'start heating', 'start lag', 'start phone', 'start showing', 'start stop', 'start use', 'start using', 'started acting', 'started drain', 'started facing', 'started feeling', 'started getting', 'started giving', 'started hanging', 'started having', 'started heating', 'started phone', 'started problem', 'started showing', 'started using', 'starts automatically', 'starts days', 'starts fast', 'starts heating', 'starts repeat', 'starts resetting', 'startup time', 'station don', 'status bar', 'stay away', 'stay day', 'stay long', 'stay phone', 'stays day', 'stereo sound', 'stereo speakers', 'stick jack', 'stock android', 'stock android2', 'stock charger', 'stock os', 'stock rom', 'stop error', 'stop selling', 'stop working', 'stoped working', 'stopped charging', 'stopped days', 'stopped getting', 'stopped responding', 'stopped working', 'stops working', 'storage 10', 'storage battery', 'storage camera', 'storage dual', 'storage fast', 'storage great', 'storage space', 'store contacts', 'stored google', 'strength compared', 'strength drops', 'strength good', 'strength huge', 'strength poor', 'strength tried', 'strength weak', 'strong battery', 'strong loud', 'strong phone', 'strong suggestion', 'strongly recommend', 'stuff like', 'stupid device', 'stupid having', 'stupid phone', 'stupid product', 'stylish design', 'stylish good', 'stylish phone', 'subway surfer', 'subway surfers', 'sucks takes', 'suddenly battery', 'suddenly charging', 'suddenly lenovo', 'suddenly phone', 'suddenly stopped', 'suddenly stops', 'sufficient day', 'sufficient space', 'sufficient users', 'suggest buy', 'suggest buyers', 'suggest don', 'suggest guys', 'suggest mi', 'suggest phone', 'suggest product', 'suggest purchase', 'suggest run', 'suggest solution', 'suggested buy', 'suggested lenovo', 'suggesting buy', 'suggestion don', 'suggestion lenovo', 'suggestion let', 'suggestion phone', 'sun light', 'super awesome', 'super battery', 'super best', 'super camera', 'super cast', 'super cool', 'super display', 'super excellent', 'super fast', 'super heating', 'super lenovo', 'super like', 'super look', 'super mobile', 'super nice', 'super performance', 'super phone', 'super power', 'super product', 'super quality', 'super smooth', 'super sound', 'super value', 'superb battery', 'superb camera', 'superb clarity', 'superb depth', 'superb display', 'superb good', 'superb heating', 'superb lenovo', 'superb love', 'superb mobile', 'superb nice', 'superb performance', 'superb phone', 'superb price', 'superb product', 'superb quality', 'superb smart', 'superb value', 'supplied phone', 'support 4g', 'support 4k', 'support amazon', 'support app', 'support apps', 'support available', 'support basic', 'support battery', 'support cast', 'support customer', 'support does', 'support dolby', 'support dual', 'support good', 'support jio', 'support lenovo', 'support nonetheless', 'support phone', 'support poor', 'support properly', 'support quick', 'support recording', 'support screen', 'support sent', 'support slow', 'support team', 'support turbo', 'support usb', 'support volte', 'support water', 'support worst', 'supported jio', 'supported phone', 'supported properly', 'supported volte', 'supporting device', 'supports 3g', 'supports 4g', 'supports dolby', 'supports volte', 'supports wifi', 'supposed like', 'supposed turbo', 'sure amazon', 'sure good', 'sure kind', 'sure lenovo', 'sure phone', 'sure problem', 'sure purchase', 'sure rectifiable', 'sure software', 'sure understood', 'surely phone', 'surfing internet', 'surfing net', 'surprisingly battery', 'surround sound', 'survive day', 'swipe unlock', 'switch automatically', 'switch bluetooth', 'switch data', 'switch good', 'switch internet', 'switch mode', 'switch phone', 'switch sim', 'switch switch', 'switch time', 'switched automatically', 'switched battery', 'switched charging', 'switched tried', 'switching automatically', 'switching sims', 'symbol phone', 'tag line', 'tagline tag', 'tak aayega', 'tak toh', 'taken lenovo', 'taken phone', 'takes 10', 'takes 2hrs', 'takes 30', 'takes 3hrs', 'takes 45', 'takes 5hrs', 'takes 7hrs', 'takes ages', 'takes charging', 'takes hell', 'takes hour', 'takes hours', 'takes hr', 'takes hrs', 'takes like', 'takes long', 'takes longer', 'takes lot', 'takes lots', 'takes minimum', 'takes nearly', 'takes seconds', 'takes time', 'takes times', 'takes upto', 'taking 10', 'taking 7hrs', 'taking better', 'taking hour', 'taking hours', 'taking hrs', 'taking long', 'taking lot', 'taking photo', 'taking photos', 'taking pics', 'taking pictures', 'taking responsibility', 'taking screenshot', 'taking time', 'talk amazon', 'talk battery', 'talk time', 'talking good', 'talking phone', 'tampered glass', 'tasking good', 'te phone', 'team fix', 'team kindly', 'team look', 'team response', 'team work', 'tech support', 'technical department', 'technical issues', 'technical person', 'technical problem', 'technical support', 'technical team', 'technician came', 'technician visit', 'telecom service', 'tell phone', 'tell replace', 'tempature 45', 'temper glass', 'tempered glass', 'temple run', 'tends responsive', 'terbo charging', 'terms battery', 'terms camera', 'terms performance', 'terms processing', 'terms quality', 'terms software', 'terrible battery', 'terrible camera', 'terrible phone', 'terrible product', 'text message', 'text messages', 'text msg', 'tha abhi', 'tha ki', 'tha lenovo', 'thank amazon', 'thank god', 'thank lenovo', 'thank seller', 'thanks amazon', 'thanks amozon', 'thanks dolby', 'thanks lenovo', 'thanks team', 'thanku lenovo', 'thanx amazon', 'theater max', 'theatre max', 'theek hai', 'themesdual camera', 'therms quality', 'thik thak', 'thing amazon', 'thing bad', 'thing battery', 'thing better', 'thing buy', 'thing camera', 'thing disappointing', 'thing don', 'thing dual', 'thing fast', 'thing fine', 'thing good', 'thing great', 'thing heating', 'thing just', 'thing lenovo', 'thing like', 'thing mobile', 'thing noticed', 'thing ok', 'thing perfect', 'thing phone', 'thing really', 'thing screen', 'thing stock', 'things best', 'things better', 'things don', 'things fine', 'things good', 'things just', 'things lenovo', 'things like', 'things mobile', 'things ok', 'things phone', 'think amazon', 'think bad', 'think battery', 'think best', 'think buy', 'think buying', 'think camera', 'think good', 'think gorilla', 'think got', 'think just', 'think lenovo', 'think look', 'think low', 'think manufacturing', 'think need', 'think option', 'think original', 'think phone', 'think price', 'think purchase', 'think received', 'think software', 'think twice', 'think update', 'think using', 'think worth', 'thinking buy', 'thought battery', 'thought better', 'thought camera', 'thought going', 'thought lenovo', 'thought ll', 'thought reviewing', 'throw away', 'throwing money', 'ths phone', 'till 12', 'till awesome', 'till battery', 'till date', 'till day', 'till didn', 'till getting', 'till good', 'till heating', 'till issue', 'till issues', 'till lenovo', 'till mobile', 'till months', 'till oreo', 'till problems', 'till working', 'till worth', 'time 30', 'time able', 'time amazon', 'time android', 'time approximately', 'time apps', 'time automatically', 'time bad', 'time battery', 'time big', 'time bluetooth', 'time bokeh', 'time boot', 'time brought', 'time buying', 'time calling', 'time camera', 'time changing', 'time charge', 'time charger', 'time charging', 'time clear', 'time comes', 'time complete', 'time connect', 'time connected', 'time delivery', 'time depth', 'time didn', 'time disappointed', 'time display', 'time does', 'time don', 'time dont', 'time drastically', 'time dual', 'time experience', 'time feel', 'time focus', 'time gets', 'time getting', 'time good', 'time got', 'time great', 'time hand', 'time handset', 'time hang', 'time hanged', 'time hanging', 'time happy', 'time heating', 'time high', 'time hot', 'time hour', 'time hours', 'time hr', 'time hrs', 'time huge', 'time internet', 'time issues', 'time lapse', 'time lenovo', 'time like', 'time long', 'time low', 'time make', 'time maybe', 'time mic', 'time mobile', 'time money', 'time need', 'time network', 'time new', 'time nice', 'time normal', 'time notification', 'time open', 'time opinion', 'time overall', 'time period', 'time phone', 'time poor', 'time price', 'time problem', 'time process', 'time purchase', 'time purchased', 'time reachable', 'time really', 'time restart', 'time return', 'time returned', 'time satisfied', 'time screen', 'time search', 'time selfie', 'time service', 'time showing', 'time start', 'time switch', 'time taken', 'time takes', 'time taking', 'time thought', 'time time', 'time told', 'time took', 'time totally', 'time touch', 'time turbo', 'time turn', 'time upto', 'time use', 'time using', 'time work', 'time working', 'time works', 'time write', 'timely delivered', 'timely delivery', 'times amazon', 'times automatically', 'times battery', 'times better', 'times buy', 'times buying', 'times contact', 'times daily', 'times day', 'times don', 'times good', 'times hang', 'times hanging', 'times heating', 'times issue', 'times months', 'times need', 'times network', 'times phone', 'times service', 'times signal', 'times slow', 'times software', 'times time', 'times times', 'times touch', 'times turbo', 'times update', 'times use', 'times using', 'tis amazing', 'tis mobile', 'today facing', 'today phone', 'toh woh', 'told issue', 'told phone', 'told problem', 'told reset', 'told update', 'took 10', 'took day', 'took days', 'took hours', 'took hrs', 'took lenovo', 'took nearly', 'took phone', 'took time', 'tooth doesn', 'tooth issue', 'total loss', 'total really', 'total waist', 'total wastage', 'total waste', 'totally awesome', 'totally bad', 'totally disappointed', 'totally disgusting', 'totally dissatisfied', 'totally good', 'totally impressed', 'totally loved', 'totally poor', 'totally satisfied', 'totally unsatisfied', 'totally wastage', 'totally waste', 'totally worst', 'totally worth', 'totally wrong', 'totaly waste', 'touch broken', 'touch buttons', 'touch camera', 'touch does', 'touch doesn', 'touch excellent', 'touch finger', 'touch good', 'touch gud', 'touch nice', 'touch ok', 'touch pad', 'touch poor', 'touch quality', 'touch really', 'touch response', 'touch screen', 'touch sensitivity', 'touch sensor', 'touch smooth', 'touch soft', 'touch sound', 'touch working', 'touch works', 'touchpad working', 'tough competition', 'tower don', 'tp link', 'tq amazon', 'tq lenovo', 'trades king', 'trades master', 'transfer data', 'transfer music', 'transparent case', 'transparent cover', 'transparent plastic', 'tray sd', 'tray stuck', 'tried amazon', 'tried contact', 'tried different', 'tried lenovo', 'tried lot', 'tried option', 'tried return', 'tried sim', 'tried times', 'trouble dont', 'true caller', 'true color', 'true colors', 'true review', 'true sim', 'trust 14k', 'trust buy', 'trust don', 'trust lenevo', 'trust lenovo', 'trusting lenovo', 'try buy', 'try fix', 'try improve', 'try make', 'try open', 'try replace', 'try return', 'try send', 'try solve', 'try update', 'trying connect', 'trying figure', 'trying return', 'tube gaming', 'tube video', 'tube videos', 'turbo charge', 'turbo charger', 'turbo charging', 'turbo discharging', 'turbo fast', 'turbo power', 'turbocharger working', 'turbocharging issue', 'turbocharging working', 'turn data', 'turn mobile', 'turn phone', 'turn wifi', 'tv casting', 'tv feature', 'tv k8', 'tv like', 'tv major', 'tv need', 'tv network', 'tv option', 'tv phone', 'tv screen', 'tv working', 'twice buying', 'twice day', 'twice make', 'twice software', 'tym charge', 'type phone', 'type port', 'type service', 'types problems', 'typing review', 'ui better', 'ui camera', 'ui features', 'ui good', 'ui performance', 'ui phone', 'ui responding', 'ui stops', 'ui user', 'ui worst', 'ultimately phone', 'ultra fast', 'unable charge', 'unable connect', 'unable contact', 'unable hear', 'unable hold', 'unable insert', 'unable make', 'unable receive', 'unable restart', 'unable return', 'unable turn', 'unable use', 'understand happened', 'understand lenovo', 'understood really', 'unexpectedly amazon', 'unfortunately return', 'unhappy buy', 'unhappy phone', 'unhappy product', 'unique features', 'unless lenovo', 'unless use', 'unlock device', 'unlock phone', 'unnecessary apps', 'unread message', 'unread messages', 'unsatisfied lenovo', 'update 2018', 'update amazing', 'update amazon', 'update android', 'update available', 'update battery', 'update better', 'update camera', 'update cast', 'update charging', 'update day', 'update days', 'update doesn', 'update dont', 'update fix', 'update future', 'update getting', 'update good', 'update great', 'update happened', 'update hope', 'update installed', 'update issue', 'update issues', 'update just', 'update latest', 'update lenovo', 'update main', 'update mobile', 'update ok', 'update oreo', 'update ota', 'update phone', 'update problem', 'update problems', 'update provided', 'update resolve', 'update review', 'update slow', 'update software', 'update soon', 'update till', 'update time', 'update update', 'update usage', 'update using', 'update version', 'update working', 'updated android', 'updated latest', 'updated lenovo', 'updated new', 'updated oreo', 'updated review', 'updated software', 'updated times', 'updated updates', 'updated version', 'updateeven engineers', 'updates basic', 'updates battery', 'updates better', 'updates camera', 'updates fix', 'updates improve', 'updates lenovo', 'updates like', 'updates make', 'updates overall', 'updates phone', 'updates software', 'updates soon', 'updating android', 'updating downloading', 'updating oreo', 'updating phone', 'uper camera', 'upgrade phone', 'upgrade software', 'upgraded android', 'upgraded k3', 'upgraded oreo', 'upgraded phone', 'upgrading oreo', 'uploading slow', 'upset product', 'upto 100', 'upto 15', 'upto expectation', 'upto expectations', 'upto expected', 'upto hours', 'upto hrs', 'upto level', 'upto mark', 'upto marks', 'ur device', 'ur heavy', 'ur mobile', 'ur money', 'ur phone', 'ur pocket', 'ur policies', 'ur product', 'ur using', 'usage 10', 'usage battery', 'usage camera', 'usage charging', 'usage day', 'usage days', 'usage features', 'usage game', 'usage gets', 'usage good', 'usage got', 'usage half', 'usage heat', 'usage heavy', 'usage like', 'usage make', 'usage overall', 'usage phone', 'usage really', 'usage takes', 'usage think', 'usage turbo', 'usage using', 'usage work', 'usages average', 'usages pattern', 'usb cable', 'usb cons', 'usb phone', 'usb port', 'usb processor', 'usb type', 'usb usb', 'use 15', 'use 4g', 'use amazon', 'use app', 'use apps', 'use bad', 'use battery', 'use best', 'use better', 'use bluetooth', 'use buy', 'use called', 'use camera', 'use cameras', 'use card', 'use cast', 'use charger', 'use charging', 'use chromecast', 'use cons', 'use continuesly', 'use cover', 'use data', 'use day', 'use days', 'use depth', 'use device', 'use does', 'use dual', 'use earphone', 'use especially', 'use facing', 'use feel', 'use finger', 'use flash', 'use fully', 'use games', 'use good', 'use google', 'use hang', 'use heat', 'use heavily', 'use heavy', 'use hours', 'use internet', 'use issues', 'use jio', 'use just', 'use lenovo', 'use like', 'use longer', 'use low', 'use mins', 'use mob', 'use mobile', 'use moderate', 'use month', 'use months', 'use multiple', 'use music', 'use new', 'use normal', 'use pathetic', 'use performance', 'use phone', 'use problem', 'use product', 'use really', 'use rear', 'use rest', 'use sim', 'use sims', 'use snapdragon', 'use takes', 'use taking', 'use talking', 'use things', 'use time', 'use turbo', 'use ur', 'use usb', 'use use', 'use using', 'use volume', 'use vr', 'use warranty', 'use wifi', 'used 4g', 'used battery', 'used better', 'used bought', 'used camera', 'used charge', 'used charging', 'used continuously', 'used days', 'used got', 'used handset', 'used heating', 'used hours', 'used k3', 'used k4', 'used k6', 'used lenovo', 'used long', 'used love', 'used mi', 'used mobile', 'used month', 'used months', 'used old', 'used phone', 'used phones', 'used piece', 'used poor', 'used processor', 'used product', 'used redmi', 'used samsung', 'used seen', 'used switch', 'used till', 'used vodafone', 'used week', 'used whatsapp', 'useful battery', 'useless approached', 'useless charging', 'useless phone', 'useless product', 'user battery', 'user experience', 'user friendly', 'user interface', 'user like', 'user need', 'user phone', 'users buy', 'users having', 'users like', 'users looking', 'users used', 'uses camera', 'uses mobile', 'using 10', 'using 10days', 'using 12', 'using 15', 'using 20', 'using 20days', 'using 2months', 'using 30', 'using 4g', 'using airtel', 'using app', 'using apps', 'using battery', 'using bluetooth', 'using camera', 'using charger', 'using charging', 'using cheap', 'using cover', 'using data', 'using day', 'using days', 'using depth', 'using device', 'using dual', 'using flash', 'using good', 'using google', 'using handset', 'using heating', 'using heavy', 'using high', 'using internet', 'using issue', 'using jbl', 'using jio', 'using just', 'using k3', 'using k4', 'using k8', 'using latest', 'using lenevo', 'using lenovo', 'using long', 'using mediatake', 'using mi', 'using minutes', 'using mobile', 'using month', 'using months', 'using moto', 'using net', 'using normal', 'using note', 'using old', 'using original', 'using past', 'using phone', 'using product', 'using redmi', 'using regularly', 'using samsung', 'using simple', 'using single', 'using till', 'using time', 'using tis', 'using want', 'using week', 'using weeks', 'using wifi', 'using year', 'using years', 'usp don', 'usp phone', 'usual amazon', 'usual lenovo', 'utter flop', 'utter waste', 'v7 nougat', 'valuable money', 'valuable time', 'value good', 'value mobile', 'value money', 'value phone', 'variants 3gb', 'variants ram', 'various options', 'vary bad', 'vary good', 'vary poor', 'vasool phone', 've bought', 've seen', 've used', 've using', 'venom black', 'verdict k8', 'verry bad', 'verry good', 'verry nice', 'version android', 'version better', 'version bloatware', 'version good', 'version lenovo', 'version mobile', 'version nought', 'version offers', 'version oreo', 'version phone', 'version software', 'version update', 'version user', 'verygood product', 'vga camera', 'vibe k4', 'vibe k5', 'vibe k8', 'vibe note', 'vibe s1', 'vibe ui', 'vibe x3', 'vibrate mode', 'vibration end', 'video audio', 'video battery', 'video calling', 'video camera', 'video clarity', 'video game', 'video heated', 'video hour', 'video lenovo', 'video mode', 'video option', 'video phone', 'video photo', 'video picture', 'video play', 'video playback', 'video played', 'video player', 'video playing', 'video quality', 'video recording', 'video slow', 'video video', 'video voice', 'video youtube', 'videos bad', 'videos bluetooth', 'videos games', 'videos look', 'videos mobile', 'videos phone', 'videos playing', 'videos quality', 'videos using', 'videos youtube', 'view good', 'visit service', 'visited lenovo', 'visited service', 'visited times', 'vivo oppo', 'vlc player', 'vodafone jio', 'voice app', 'voice calling', 'voice calls', 'voice clarity', 'voice clear', 'voice clearly', 'voice coming', 'voice data', 'voice issue', 'voice low', 'voice lte', 'voice quality', 'voice record', 'voice recorder', 'voice recording', 'volte 4g', 'volte available', 'volte battery', 'volte calls', 'volte camera', 'volte compatible', 'volte does', 'volte enabled', 'volte feature', 'volte jio', 'volte lte', 'volte mobile', 'volte network', 'volte option', 'volte phone', 'volte signal', 'volte sim', 'volte support', 'volte supported', 'volte using', 'volte wont', 'volte working', 'volume automatically', 'volume button', 'volume buttons', 'volume hear', 'volume key', 'volume keys', 'volume lenovo', 'volume level', 'volume loud', 'volume low', 'volume output', 'volume phone', 'volume ring', 'volume speaker', 'vr mode', 'vr screen', 'vry good', 'vry poor', 'waist money', 'wait days', 'wait mi', 'wait new', 'wait second', 'wait till', 'wait time', 'waiting android', 'waiting lenovo', 'waiting oreo', 'waiting update', 'wala mobile', 'wala phone', 'wall papers', 'want amazon', 'want buy', 'want camera', 'want change', 'want connect', 'want exchange', 'want good', 'want help', 'want improve', 'want invoice', 'want long', 'want mobile', 'want money', 'want new', 'want phone', 'want purchase', 'want refund', 'want replace', 'want replacement', 'want return', 'want returned', 'want say', 'want screen', 'want sell', 'want service', 'want set', 'want suggest', 'want tell', 'want use', 'wanted return', 'wants buy', 'wants purchase', 'wants return', 'war robots', 'warast phone', 'warm battery', 'warm charging', 'warm connected', 'warm hand', 'warm minutes', 'warm normal', 'warm playing', 'warm quickly', 'warm used', 'warning buy', 'warranty card', 'warranty details', 'warranty issue', 'warranty lenovo', 'warranty period', 'warranty phone', 'warrenty void', 'wasn able', 'wasn working', 'wast money', 'wastage money', 'waste 14k', 'waste battery', 'waste buy', 'waste buying', 'waste camera', 'waste display', 'waste dolby', 'waste hard', 'waste item', 'waste lenovo', 'waste mobile', 'waste money', 'waste phone', 'waste product', 'waste time', 'waste ur', 'waste valuable', 'wasted money', 'wasting money', 'wasting ur', 'watch movies', 'watch video', 'watch videos', 'watch youtube', 'watching movies', 'watching tube', 'watching video', 'watching videos', 'watching youtube', 'water phone', 'water proof', 'water repellent', 'water resistant', 'way better', 'way good', 'way issue', 'way lenovo', 'way return', 'way switch', 'weak compared', 'weak network', 'weak signal', 'web browsing', 'web support', 'week battery', 'week bought', 'week heavy', 'week just', 'week phone', 'week problems', 'week pros', 'week purchase', 'week usage', 'week use', 'week using', 'weeks ago', 'weeks battery', 'weeks phone', 'weeks purchase', 'weeks usage', 'weeks use', 'weeks using', 'weight battery', 'weight good', 'weight heavy', 'weight high', 'weight looks', 'went lenovo', 'went phone', 'went service', 'went wrong', 'west money', 'west phone', 'whats app', 'whats box', 'whatsapp applications', 'whatsapp face', 'whatsapp fb', 'whatsapp icicibank', 'whatsapp instagram', 'whatsapp messages', 'whatsapp missed', 'white colour', 'white lines', 'wi fi', 'wide screen', 'wide touch', 'wifi ac', 'wifi bluetooth', 'wifi connected', 'wifi connecting', 'wifi connection', 'wifi connectivity', 'wifi data', 'wifi device', 'wifi doesn', 'wifi gets', 'wifi hotspot', 'wifi hrs', 'wifi issue', 'wifi mobile', 'wifi network', 'wifi phone', 'wifi time', 'wifi use', 'wifi working', 'window closed', 'window multitasking', 'wireless display', 'wise good', 'wise great', 'wise nice', 'wise performance', 'wise phone', 'wish battery', 'wish bought', 'wish lenovo', 'wish return', 'won able', 'won buy', 'won charge', 'won day', 'won purchase', 'won recommend', 'won regret', 'won turn', 'won work', 'wonderful battery', 'wonderful customer', 'wonderful mobile', 'wonderful phone', 'wonderful product', 'wont able', 'wont day', 'wont recommend', 'wont work', 'word awesome', 'words say', 'worest mobile', 'worest phone', 'work 4g', 'work basic', 'work battery', 'work bluetooth', 'work calling', 'work camera', 'work cast', 'work complained', 'work day', 'work depth', 'work dolby', 'work don', 'work dual', 'work fast', 'work fine', 'work gets', 'work good', 'work google', 'work headphone', 'work heating', 'work hours', 'work issue', 'work jio', 'work just', 'work left', 'work lenovo', 'work like', 'work long', 'work low', 'work major', 'work missed', 'work mobile', 'work model', 'work nd', 'work network', 'work open', 'work overall', 'work perfectly', 'work phone', 'work poor', 'work proper', 'work properly', 'work screen', 'work service', 'work set', 'work smart', 'work smoothly', 'work sound', 'work standard', 'work takes', 'work telecom', 'work time', 'work times', 'work use', 'work volte', 'work worth', 'worked fine', 'worked months', 'worked ok', 'worked properly', 'worked really', 'working 10', 'working 12', 'working 20', 'working 4g', 'working amazon', 'working application', 'working bad', 'working battery', 'working best', 'working better', 'working bluetooth', 'working bought', 'working box', 'working buy', 'working called', 'working calling', 'working camera', 'working charge', 'working charging', 'working complain', 'working completely', 'working condition', 'working correctly', 'working damage', 'working data', 'working day', 'working days', 'working deca', 'working depth', 'working didn', 'working doesn', 'working dolby', 'working don', 'working dual', 'working excellent', 'working expected', 'working fast', 'working fine', 'working fingerprint', 'working gets', 'working getting', 'working good', 'working gr8', 'working great', 'working hanging', 'working heating', 'working hotspot', 'working hours', 'working internet', 'working jio', 'working just', 'working left', 'working lenovo', 'working like', 'working look', 'working mobile', 'working month', 'working months', 'working music', 'working network', 'working nice', 'working ok', 'working option', 'working perfect', 'working perfectly', 'working performance', 'working phone', 'working playing', 'working pls', 'working plz', 'working poor', 'working pretty', 'working problem', 'working product', 'working proper', 'working properly', 'working properlyi', 'working purchased', 'working quality', 'working really', 'working recorder', 'working replace', 'working returned', 'working right', 'working said', 'working screen', 'working second', 'working send', 'working service', 'working showing', 'working sim', 'working slow', 'working smart', 'working smooth', 'working smoothly', 'working software', 'working speaker', 'working speed', 'working sudden', 'working suddenly', 'working suggest', 'working switch', 'working takes', 'working taking', 'working think', 'working till', 'working time', 'working times', 'working touch', 'working tried', 'working try', 'working turbo', 'working ui', 'working unable', 'working update', 'working use', 'working using', 'working volte', 'working volume', 'working want', 'working week', 'working weeks', 'working went', 'working work', 'working working', 'working worst', 'working2 battery', 'works 15', 'works battery', 'works better', 'works charging', 'works excellent', 'works expected', 'works fast', 'works faster', 'works fine', 'works good', 'works great', 'works jio', 'works just', 'works like', 'works long', 'works perfectly', 'works phone', 'works properly', 'works really', 'works screen', 'works single', 'works smoothly', 'worksexpecting software', 'world worst', 'wormly heatup', 'worried camera', 'worse phone', 'worse product', 'worse worst', 'worst amazon', 'worst battery', 'worst bluetooth', 'worst brand', 'worst buy', 'worst camera', 'worst cameras', 'worst cell', 'worst charge', 'worst charging', 'worst clarity', 'worst company', 'worst compared', 'worst condition', 'worst contact', 'worst customer', 'worst decision', 'worst delivery', 'worst device', 'worst display', 'worst dolby', 'worst don', 'worst dual', 'worst experience', 'worst feature', 'worst gaming', 'worst handset', 'worst heating', 'worst item', 'worst lenova', 'worst lenovo', 'worst low', 'worst megapixel', 'worst mobile', 'worst model', 'worst money', 'worst normal', 'worst oreo', 'worst performance', 'worst phn', 'worst phone', 'worst phones', 'worst piece', 'worst pls', 'worst product', 'worst products', 'worst quality', 'worst really', 'worst return', 'worst screen', 'worst seen', 'worst service', 'worst services', 'worst smartphone', 'worst software', 'worst sound', 'worst terms', 'worst thing', 'worst things', 'worst user', 'worst waste', 'worst work', 'worst worst', 'worth 4000mah', 'worth better', 'worth big', 'worth buy', 'worth buying', 'worth cost', 'worth features', 'worth lenovo', 'worth mobile', 'worth money', 'worth moneycamera', 'worth paid', 'worth penny', 'worth phone', 'worth price', 'worth product', 'worth purchase', 'worth rate', 'worth rs', 'worth spending', 'worth star', 'worth taking', 'worth value', 'worthless phone', 'worthless product', 'worthy good', 'worthy money', 'worthy phone', 'worthy price', 'worthy product', 'wow amazing', 'wow great', 'write review', 'writing review', 'written box', 'wrong information', 'wrost mobile', 'wrost phone', 'wrost product', 'x20 processor', 'x23 deca', 'x23 processor', 'ya good', 'ye mobile', 'ye phone', 'ye problem', 'year ago', 'year doesn', 'year old', 'year phone', 'years phone', 'yeh phone', 'yellow light', 'yellow mark', 'yes gets', 'yes good', 'yes phone', 'yesterday got', 'yesterday received', 'youtube browsing', 'youtube channel', 'youtube playing', 'youtube video', 'youtube videos', 'z2 plus', 'zero performance', 'zero rating', 'zero star', 'zoom poor', 'zooming picture']"
      ]
     },
     "execution_count": 560,
     "metadata": {},
     "output_type": "execute_result"
    }
   ],
   "source": [
    "cv.get_feature_names()"
   ]
  },
  {
   "cell_type": "code",
   "execution_count": 561,
   "metadata": {},
   "outputs": [
    {
     "name": "stdout",
     "output_type": "stream",
     "text": [
      "time hand\n",
      "verry bad\n",
      "screen touch\n",
      "problem buying\n",
      "standard k4\n",
      "whatsapp messages\n",
      "valuable money\n",
      "calls mins\n",
      "paper performance\n",
      "rest fine\n",
      "phone tried\n",
      "30 20\n",
      "defective models\n",
      "price worthy\n",
      "curved glass\n",
      "using flash\n",
      "good pictures\n",
      "camera clicking\n",
      "using samsung\n",
      "ur mobile\n",
      "hotspot work\n",
      "mark just\n",
      "phone 30\n",
      "issue hai\n",
      "good facing\n",
      "charge using\n",
      "choose option\n",
      "negative rating\n",
      "better life\n",
      "bloatware 000mah\n",
      "average compared\n",
      "quite warm\n",
      "device use\n",
      "like charging\n",
      "connect device\n",
      "support dual\n",
      "moderate gaming\n",
      "charge went\n",
      "cool battery\n",
      "nougat os\n",
      "laptop desktop\n",
      "6hours fully\n",
      "note like\n",
      "price tag\n",
      "sim using\n",
      "kharab mobile\n",
      "good cameras\n",
      "camera fails\n",
      "fast use\n"
     ]
    }
   ],
   "source": [
    "import random\n",
    "for i in range(1,50):\n",
    "    random_word_id = random.randint(0,14678)\n",
    "    print(cv.get_feature_names()[random_word_id])"
   ]
  },
  {
   "cell_type": "code",
   "execution_count": 562,
   "metadata": {},
   "outputs": [],
   "source": [
    "single_topics = lda1.components_[0]"
   ]
  },
  {
   "cell_type": "code",
   "execution_count": 563,
   "metadata": {},
   "outputs": [
    {
     "data": {
      "text/plain": [
       "array([ 6361,  4378, 14003, ...,  2089,  7122,  6797], dtype=int64)"
      ]
     },
     "execution_count": 563,
     "metadata": {},
     "output_type": "execute_result"
    }
   ],
   "source": [
    "single_topics.argsort()"
   ]
  },
  {
   "cell_type": "code",
   "execution_count": 564,
   "metadata": {},
   "outputs": [
    {
     "data": {
      "text/plain": [
       "array([ 8119,  8873, 12246,  1197,  1856, 11475,  5069,  2089,  7122,\n",
       "        6797], dtype=int64)"
      ]
     },
     "execution_count": 564,
     "metadata": {},
     "output_type": "execute_result"
    }
   ],
   "source": [
    "single_topics.argsort()[-10:]"
   ]
  },
  {
   "cell_type": "code",
   "execution_count": 567,
   "metadata": {},
   "outputs": [],
   "source": [
    "top_word_indices = single_topics.argsort()[-10:]"
   ]
  },
  {
   "cell_type": "code",
   "execution_count": 568,
   "metadata": {},
   "outputs": [
    {
     "name": "stdout",
     "output_type": "stream",
     "text": [
      "the top 15 words for topic0\n",
      "['dual camera', 'redmi note', 'turbo charging', 'camera quality', 'don buy', 'mobile lenovo', 'note good', 'service center', 'battery drain', 'buy lenovo', 'rear camera', 'good camera', 'camera good', 'lenovo k8', 'k8 note']\n",
      "\n",
      "\n",
      "the top 15 words for topic1\n",
      "['heating issue', 'camera good', 'working properly', 'charger working', 'overall good', 'good camera', 'really good', 'phone heating', 'good price', 'price range', 'phone good', 'nice mobile', 'phone price', 'nice phone', 'good phone']\n",
      "\n",
      "\n",
      "the top 15 words for topic2\n",
      "['battery drain', 'cast screen', 'good device', 'charging takes', 'phone good', 'heating problem', 'lenovo k8', 'turbo charging', 'don buy', 'battery backup', 'bad experience', 'camera good', 'battery problem', 'k8 note', 'nice product']\n",
      "\n",
      "\n",
      "the top 15 words for topic3\n",
      "['quality good', 'heating issue', 'smart phone', 'working properly', 'battery backup', 'don buy', 'phone camera', 'worth money', 'k8 note', 'buy phone', 'amazing phone', 'dual camera', 'camera quality', 'phone great', 'camera working']\n",
      "\n",
      "\n",
      "the top 15 words for topic4\n",
      "['heating problem', 'dual camera', 'phone lenovo', 'sound quality', 'network issue', 'k4 note', 'camera quality', 'network problem', 'buy phone', 'battery backup', 'waste money', 'lenovo k8', 'k8 note', 'worst phone', 'don buy']\n",
      "\n",
      "\n",
      "the top 15 words for topic5\n",
      "['heating issue', 'product lenovo', 'phone good', 'battery backup', 'quality good', 'mobile heating', 'heating issues', 'turbo charger', 'good battery', 'dolby atmos', 'camera quality', 'don buy', 'bad product', 'drains fast', 'battery drains']\n",
      "\n",
      "\n",
      "the top 15 words for topic6\n",
      "['want return', 'don buy', 'rear camera', 'mobile good', 'quality poor', 'battery performance', 'dual camera', 'camera good', 'poor camera', 'good battery', 'poor battery', 'camera quality', 'backup good', 'good mobile', 'battery backup']\n",
      "\n",
      "\n",
      "the top 15 words for topic7\n",
      "['heating issue', 'budget phone', 'charging problem', 'good camera', 'problem phone', 'phone good', 'bad phone', 'life good', 'camera good', 'product good', 'good performance', 'excellent product', 'good battery', 'battery good', 'battery life']\n",
      "\n",
      "\n",
      "the top 15 words for topic8\n",
      "['product price', 'good battery', 'phone best', 'battery performance', 'product good', 'phone range', 'good performance', 'best price', 'camera performance', 'battery backup', 'battery draining', 'draining fast', 'heating problem', 'best phone', 'good product']\n",
      "\n",
      "\n",
      "the top 15 words for topic9\n",
      "['quality good', 'speaker working', 'superb phone', 'gorilla glass', 'price range', 'heating problem', 'upto mark', 'mobile good', 'don buy', 'dual camera', 'lenovo k8', 'k8 note', 'mobile phone', 'best mobile', 'value money']\n",
      "\n",
      "\n",
      "the top 15 words for topic10\n",
      "['battery drain', 'phone good', 'phone nice', 'using phone', 'battery draining', 'battery backup', 'camera quality', 'worst product', 'lenovo k8', 'camera good', 'worst mobile', 'good phone', 'heating issue', 'k8 note', 'awesome phone']\n",
      "\n",
      "\n",
      "the top 15 words for topic11\n",
      "['gets heated', 'getting heat', 'awesome mobile', 'phone gets', 'good heating', 'turbo charging', 'working properly', 'heating issue', 'performance good', 'good camera', 'phone good', 'quality good', 'great phone', 'excellent phone', 'camera quality']\n",
      "\n",
      "\n"
     ]
    }
   ],
   "source": [
    "for index, topic in enumerate(lda1.components_):\n",
    "    print(f'the top 15 words for topic{index}')\n",
    "    print([cv.get_feature_names()[i] for i in topic.argsort()[-15:]])\n",
    "    print('\\n')"
   ]
  },
  {
   "cell_type": "code",
   "execution_count": 569,
   "metadata": {},
   "outputs": [],
   "source": [
    "topic_results = lda1.transform(X)"
   ]
  },
  {
   "cell_type": "code",
   "execution_count": 570,
   "metadata": {},
   "outputs": [
    {
     "data": {
      "text/plain": [
       "array([ 8, 10,  2, ...,  0, 10,  8], dtype=int64)"
      ]
     },
     "execution_count": 570,
     "metadata": {},
     "output_type": "execute_result"
    }
   ],
   "source": [
    "topic_results.argmax(axis=1)"
   ]
  },
  {
   "cell_type": "code",
   "execution_count": 571,
   "metadata": {},
   "outputs": [],
   "source": [
    "df1['topic']= topic_results.argmax(axis=1)"
   ]
  },
  {
   "cell_type": "code",
   "execution_count": 572,
   "metadata": {},
   "outputs": [
    {
     "data": {
      "text/html": [
       "<div>\n",
       "<style scoped>\n",
       "    .dataframe tbody tr th:only-of-type {\n",
       "        vertical-align: middle;\n",
       "    }\n",
       "\n",
       "    .dataframe tbody tr th {\n",
       "        vertical-align: top;\n",
       "    }\n",
       "\n",
       "    .dataframe thead th {\n",
       "        text-align: right;\n",
       "    }\n",
       "</style>\n",
       "<table border=\"1\" class=\"dataframe\">\n",
       "  <thead>\n",
       "    <tr style=\"text-align: right;\">\n",
       "      <th></th>\n",
       "      <th>sentiment</th>\n",
       "      <th>review</th>\n",
       "      <th>topic</th>\n",
       "    </tr>\n",
       "  </thead>\n",
       "  <tbody>\n",
       "    <tr>\n",
       "      <th>0</th>\n",
       "      <td>1</td>\n",
       "      <td>Good but need updates and improvements</td>\n",
       "      <td>8</td>\n",
       "    </tr>\n",
       "    <tr>\n",
       "      <th>1</th>\n",
       "      <td>0</td>\n",
       "      <td>Worst mobile i have bought ever, Battery is dr...</td>\n",
       "      <td>10</td>\n",
       "    </tr>\n",
       "    <tr>\n",
       "      <th>2</th>\n",
       "      <td>1</td>\n",
       "      <td>when I will get my 10% cash back.... its alrea...</td>\n",
       "      <td>2</td>\n",
       "    </tr>\n",
       "    <tr>\n",
       "      <th>3</th>\n",
       "      <td>1</td>\n",
       "      <td>Good</td>\n",
       "      <td>0</td>\n",
       "    </tr>\n",
       "    <tr>\n",
       "      <th>4</th>\n",
       "      <td>0</td>\n",
       "      <td>The worst phone everThey have changed the last...</td>\n",
       "      <td>11</td>\n",
       "    </tr>\n",
       "    <tr>\n",
       "      <th>5</th>\n",
       "      <td>0</td>\n",
       "      <td>Only I'm telling don't buyI'm totally disappoi...</td>\n",
       "      <td>0</td>\n",
       "    </tr>\n",
       "    <tr>\n",
       "      <th>6</th>\n",
       "      <td>1</td>\n",
       "      <td>Phone is awesome. But while charging, it heats...</td>\n",
       "      <td>0</td>\n",
       "    </tr>\n",
       "    <tr>\n",
       "      <th>7</th>\n",
       "      <td>0</td>\n",
       "      <td>The battery level has worn down</td>\n",
       "      <td>5</td>\n",
       "    </tr>\n",
       "    <tr>\n",
       "      <th>8</th>\n",
       "      <td>0</td>\n",
       "      <td>It's over hitting problems...and phone hanging...</td>\n",
       "      <td>6</td>\n",
       "    </tr>\n",
       "    <tr>\n",
       "      <th>9</th>\n",
       "      <td>0</td>\n",
       "      <td>A lot of glitches dont buy this thing better g...</td>\n",
       "      <td>0</td>\n",
       "    </tr>\n",
       "    <tr>\n",
       "      <th>10</th>\n",
       "      <td>0</td>\n",
       "      <td>Wrost</td>\n",
       "      <td>0</td>\n",
       "    </tr>\n",
       "    <tr>\n",
       "      <th>11</th>\n",
       "      <td>1</td>\n",
       "      <td>Good phone but charger not working / damage wi...</td>\n",
       "      <td>2</td>\n",
       "    </tr>\n",
       "    <tr>\n",
       "      <th>12</th>\n",
       "      <td>0</td>\n",
       "      <td>Don't purchase this item, It is so much of hea...</td>\n",
       "      <td>7</td>\n",
       "    </tr>\n",
       "    <tr>\n",
       "      <th>13</th>\n",
       "      <td>0</td>\n",
       "      <td>I have faced the battery problem and motherboa...</td>\n",
       "      <td>8</td>\n",
       "    </tr>\n",
       "    <tr>\n",
       "      <th>14</th>\n",
       "      <td>1</td>\n",
       "      <td>Very good phone slim good battry backup good s...</td>\n",
       "      <td>6</td>\n",
       "    </tr>\n",
       "    <tr>\n",
       "      <th>15</th>\n",
       "      <td>0</td>\n",
       "      <td>headset is not available</td>\n",
       "      <td>0</td>\n",
       "    </tr>\n",
       "    <tr>\n",
       "      <th>16</th>\n",
       "      <td>0</td>\n",
       "      <td>every time automatic on and off so kindly sugg...</td>\n",
       "      <td>0</td>\n",
       "    </tr>\n",
       "    <tr>\n",
       "      <th>17</th>\n",
       "      <td>1</td>\n",
       "      <td>Best product according to their prize range an...</td>\n",
       "      <td>0</td>\n",
       "    </tr>\n",
       "    <tr>\n",
       "      <th>18</th>\n",
       "      <td>0</td>\n",
       "      <td>Battery draining very rapidly I don't know why...</td>\n",
       "      <td>5</td>\n",
       "    </tr>\n",
       "    <tr>\n",
       "      <th>19</th>\n",
       "      <td>1</td>\n",
       "      <td>Good smartphone</td>\n",
       "      <td>3</td>\n",
       "    </tr>\n",
       "  </tbody>\n",
       "</table>\n",
       "</div>"
      ],
      "text/plain": [
       "    sentiment                                             review  topic\n",
       "0           1             Good but need updates and improvements      8\n",
       "1           0  Worst mobile i have bought ever, Battery is dr...     10\n",
       "2           1  when I will get my 10% cash back.... its alrea...      2\n",
       "3           1                                               Good      0\n",
       "4           0  The worst phone everThey have changed the last...     11\n",
       "5           0  Only I'm telling don't buyI'm totally disappoi...      0\n",
       "6           1  Phone is awesome. But while charging, it heats...      0\n",
       "7           0                    The battery level has worn down      5\n",
       "8           0  It's over hitting problems...and phone hanging...      6\n",
       "9           0  A lot of glitches dont buy this thing better g...      0\n",
       "10          0                                              Wrost      0\n",
       "11          1  Good phone but charger not working / damage wi...      2\n",
       "12          0  Don't purchase this item, It is so much of hea...      7\n",
       "13          0  I have faced the battery problem and motherboa...      8\n",
       "14          1  Very good phone slim good battry backup good s...      6\n",
       "15          0                           headset is not available      0\n",
       "16          0  every time automatic on and off so kindly sugg...      0\n",
       "17          1  Best product according to their prize range an...      0\n",
       "18          0  Battery draining very rapidly I don't know why...      5\n",
       "19          1                                    Good smartphone      3"
      ]
     },
     "execution_count": 572,
     "metadata": {},
     "output_type": "execute_result"
    }
   ],
   "source": [
    "df1.head(20)"
   ]
  },
  {
   "cell_type": "code",
   "execution_count": null,
   "metadata": {},
   "outputs": [],
   "source": []
  },
  {
   "cell_type": "code",
   "execution_count": null,
   "metadata": {},
   "outputs": [],
   "source": []
  },
  {
   "cell_type": "code",
   "execution_count": null,
   "metadata": {},
   "outputs": [],
   "source": []
  },
  {
   "cell_type": "code",
   "execution_count": null,
   "metadata": {},
   "outputs": [],
   "source": []
  },
  {
   "cell_type": "code",
   "execution_count": null,
   "metadata": {},
   "outputs": [],
   "source": []
  }
 ],
 "metadata": {
  "kernelspec": {
   "display_name": "Python 3",
   "language": "python",
   "name": "python3"
  },
  "language_info": {
   "codemirror_mode": {
    "name": "ipython",
    "version": 3
   },
   "file_extension": ".py",
   "mimetype": "text/x-python",
   "name": "python",
   "nbconvert_exporter": "python",
   "pygments_lexer": "ipython3",
   "version": "3.7.9"
  }
 },
 "nbformat": 4,
 "nbformat_minor": 4
}
